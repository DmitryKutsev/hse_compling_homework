{
  "nbformat": 4,
  "nbformat_minor": 0,
  "metadata": {
    "colab": {
      "name": "Untitled15.ipynb",
      "provenance": [],
      "include_colab_link": true
    },
    "kernelspec": {
      "name": "python3",
      "display_name": "Python 3"
    }
  },
  "cells": [
    {
      "cell_type": "markdown",
      "metadata": {
        "id": "view-in-github",
        "colab_type": "text"
      },
      "source": [
        "<a href=\"https://colab.research.google.com/github/DmitryKutsev/hse_compling_homework/blob/master/hw5_1.ipynb\" target=\"_parent\"><img src=\"https://colab.research.google.com/assets/colab-badge.svg\" alt=\"Open In Colab\"/></a>"
      ]
    },
    {
      "cell_type": "code",
      "metadata": {
        "id": "4HmD20DwNKFz",
        "colab_type": "code",
        "outputId": "c0bf83a0-8899-4144-9006-287b766c4a34",
        "colab": {
          "base_uri": "https://localhost:8080/",
          "height": 102
        }
      },
      "source": [
        "!curl --remote-name \\\n",
        "     -H 'Accept: application/vnd.github.v3.raw' \\\n",
        "     --location https://github.com/mannefedov/compling_nlp_hse_course/blob/master/data/habr_texts.txt.zip?raw=true\n"
      ],
      "execution_count": 0,
      "outputs": [
        {
          "output_type": "stream",
          "text": [
            "  % Total    % Received % Xferd  Average Speed   Time    Time     Time  Current\n",
            "                                 Dload  Upload   Total   Spent    Left  Speed\n",
            "\r  0     0    0     0    0     0      0      0 --:--:-- --:--:-- --:--:--     0\r100   154    0   154    0     0    660      0 --:--:-- --:--:-- --:--:--   660\n",
            "100   165  100   165    0     0    383      0 --:--:-- --:--:-- --:--:--  161k\n",
            "100 17.7M  100 17.7M    0     0  9938k      0  0:00:01  0:00:01 --:--:-- 83.0M\n"
          ],
          "name": "stdout"
        }
      ]
    },
    {
      "cell_type": "code",
      "metadata": {
        "id": "FyCDcS4nUApp",
        "colab_type": "code",
        "colab": {}
      },
      "source": [
        "mv 'habr_texts.txt.zip?raw=true' habr_texts.txt.zip"
      ],
      "execution_count": 0,
      "outputs": []
    },
    {
      "cell_type": "code",
      "metadata": {
        "id": "pVcfLnIoUVO4",
        "colab_type": "code",
        "outputId": "5447ce19-7776-4b46-c6cc-5534d6ca662e",
        "colab": {
          "base_uri": "https://localhost:8080/",
          "height": 34
        }
      },
      "source": [
        "!ls"
      ],
      "execution_count": 0,
      "outputs": [
        {
          "output_type": "stream",
          "text": [
            "habr_texts.txt\thabr_texts.txt.zip  sample_data\n"
          ],
          "name": "stdout"
        }
      ]
    },
    {
      "cell_type": "code",
      "metadata": {
        "id": "uPar3aWaQ32D",
        "colab_type": "code",
        "outputId": "1778bd6f-0ad5-480d-8b08-34f2609a9558",
        "colab": {
          "base_uri": "https://localhost:8080/",
          "height": 1000
        }
      },
      "source": [
        "!pip install pymorphy2\n",
        "!pip install nltk\n",
        "!pip install pyLDAvis\n",
        "!pip install gensim\n"
      ],
      "execution_count": 0,
      "outputs": [
        {
          "output_type": "stream",
          "text": [
            "Collecting pymorphy2\n",
            "\u001b[?25l  Downloading https://files.pythonhosted.org/packages/a3/33/fff9675c68b5f6c63ec8c6e6ff57827dda28a1fa5b2c2d727dffff92dd47/pymorphy2-0.8-py2.py3-none-any.whl (46kB)\n",
            "\u001b[K     |████████████████████████████████| 51kB 3.8MB/s \n",
            "\u001b[?25hCollecting pymorphy2-dicts<3.0,>=2.4\n",
            "\u001b[?25l  Downloading https://files.pythonhosted.org/packages/02/51/2465fd4f72328ab50877b54777764d928da8cb15b74e2680fc1bd8cb3173/pymorphy2_dicts-2.4.393442.3710985-py2.py3-none-any.whl (7.1MB)\n",
            "\u001b[K     |████████████████████████████████| 7.1MB 9.0MB/s \n",
            "\u001b[?25hRequirement already satisfied: docopt>=0.6 in /usr/local/lib/python3.6/dist-packages (from pymorphy2) (0.6.2)\n",
            "Collecting dawg-python>=0.7\n",
            "  Downloading https://files.pythonhosted.org/packages/6a/84/ff1ce2071d4c650ec85745766c0047ccc3b5036f1d03559fd46bb38b5eeb/DAWG_Python-0.7.2-py2.py3-none-any.whl\n",
            "Installing collected packages: pymorphy2-dicts, dawg-python, pymorphy2\n",
            "Successfully installed dawg-python-0.7.2 pymorphy2-0.8 pymorphy2-dicts-2.4.393442.3710985\n",
            "Requirement already satisfied: nltk in /usr/local/lib/python3.6/dist-packages (3.2.5)\n",
            "Requirement already satisfied: six in /usr/local/lib/python3.6/dist-packages (from nltk) (1.12.0)\n",
            "Collecting pyLDAvis\n",
            "\u001b[?25l  Downloading https://files.pythonhosted.org/packages/a5/3a/af82e070a8a96e13217c8f362f9a73e82d61ac8fff3a2561946a97f96266/pyLDAvis-2.1.2.tar.gz (1.6MB)\n",
            "\u001b[K     |████████████████████████████████| 1.6MB 9.5MB/s \n",
            "\u001b[?25hRequirement already satisfied: wheel>=0.23.0 in /usr/local/lib/python3.6/dist-packages (from pyLDAvis) (0.33.6)\n",
            "Requirement already satisfied: numpy>=1.9.2 in /usr/local/lib/python3.6/dist-packages (from pyLDAvis) (1.17.5)\n",
            "Requirement already satisfied: scipy>=0.18.0 in /usr/local/lib/python3.6/dist-packages (from pyLDAvis) (1.4.1)\n",
            "Requirement already satisfied: pandas>=0.17.0 in /usr/local/lib/python3.6/dist-packages (from pyLDAvis) (0.25.3)\n",
            "Requirement already satisfied: joblib>=0.8.4 in /usr/local/lib/python3.6/dist-packages (from pyLDAvis) (0.14.1)\n",
            "Requirement already satisfied: jinja2>=2.7.2 in /usr/local/lib/python3.6/dist-packages (from pyLDAvis) (2.10.3)\n",
            "Requirement already satisfied: numexpr in /usr/local/lib/python3.6/dist-packages (from pyLDAvis) (2.7.1)\n",
            "Requirement already satisfied: pytest in /usr/local/lib/python3.6/dist-packages (from pyLDAvis) (3.6.4)\n",
            "Requirement already satisfied: future in /usr/local/lib/python3.6/dist-packages (from pyLDAvis) (0.16.0)\n",
            "Collecting funcy\n",
            "\u001b[?25l  Downloading https://files.pythonhosted.org/packages/ce/4b/6ffa76544e46614123de31574ad95758c421aae391a1764921b8a81e1eae/funcy-1.14.tar.gz (548kB)\n",
            "\u001b[K     |████████████████████████████████| 552kB 41.0MB/s \n",
            "\u001b[?25hRequirement already satisfied: python-dateutil>=2.6.1 in /usr/local/lib/python3.6/dist-packages (from pandas>=0.17.0->pyLDAvis) (2.6.1)\n",
            "Requirement already satisfied: pytz>=2017.2 in /usr/local/lib/python3.6/dist-packages (from pandas>=0.17.0->pyLDAvis) (2018.9)\n",
            "Requirement already satisfied: MarkupSafe>=0.23 in /usr/local/lib/python3.6/dist-packages (from jinja2>=2.7.2->pyLDAvis) (1.1.1)\n",
            "Requirement already satisfied: setuptools in /usr/local/lib/python3.6/dist-packages (from pytest->pyLDAvis) (42.0.2)\n",
            "Requirement already satisfied: six>=1.10.0 in /usr/local/lib/python3.6/dist-packages (from pytest->pyLDAvis) (1.12.0)\n",
            "Requirement already satisfied: more-itertools>=4.0.0 in /usr/local/lib/python3.6/dist-packages (from pytest->pyLDAvis) (8.0.2)\n",
            "Requirement already satisfied: py>=1.5.0 in /usr/local/lib/python3.6/dist-packages (from pytest->pyLDAvis) (1.8.1)\n",
            "Requirement already satisfied: pluggy<0.8,>=0.5 in /usr/local/lib/python3.6/dist-packages (from pytest->pyLDAvis) (0.7.1)\n",
            "Requirement already satisfied: attrs>=17.4.0 in /usr/local/lib/python3.6/dist-packages (from pytest->pyLDAvis) (19.3.0)\n",
            "Requirement already satisfied: atomicwrites>=1.0 in /usr/local/lib/python3.6/dist-packages (from pytest->pyLDAvis) (1.3.0)\n",
            "Building wheels for collected packages: pyLDAvis, funcy\n",
            "  Building wheel for pyLDAvis (setup.py) ... \u001b[?25l\u001b[?25hdone\n",
            "  Created wheel for pyLDAvis: filename=pyLDAvis-2.1.2-py2.py3-none-any.whl size=97711 sha256=d7a1548e5396c6b1c54a0a4367f625b76499195d5f0b29a35732077e916970b8\n",
            "  Stored in directory: /root/.cache/pip/wheels/98/71/24/513a99e58bb6b8465bae4d2d5e9dba8f0bef8179e3051ac414\n",
            "  Building wheel for funcy (setup.py) ... \u001b[?25l\u001b[?25hdone\n",
            "  Created wheel for funcy: filename=funcy-1.14-py2.py3-none-any.whl size=32040 sha256=4157c2158cee68819e780ee700aeae5fda9e6da7843b0ee0583af93905d9e720\n",
            "  Stored in directory: /root/.cache/pip/wheels/20/5a/d8/1d875df03deae6f178dfdf70238cca33f948ef8a6f5209f2eb\n",
            "Successfully built pyLDAvis funcy\n",
            "Installing collected packages: funcy, pyLDAvis\n",
            "Successfully installed funcy-1.14 pyLDAvis-2.1.2\n",
            "Requirement already satisfied: gensim in /usr/local/lib/python3.6/dist-packages (3.6.0)\n",
            "Requirement already satisfied: smart-open>=1.2.1 in /usr/local/lib/python3.6/dist-packages (from gensim) (1.9.0)\n",
            "Requirement already satisfied: six>=1.5.0 in /usr/local/lib/python3.6/dist-packages (from gensim) (1.12.0)\n",
            "Requirement already satisfied: scipy>=0.18.1 in /usr/local/lib/python3.6/dist-packages (from gensim) (1.4.1)\n",
            "Requirement already satisfied: numpy>=1.11.3 in /usr/local/lib/python3.6/dist-packages (from gensim) (1.17.5)\n",
            "Requirement already satisfied: boto3 in /usr/local/lib/python3.6/dist-packages (from smart-open>=1.2.1->gensim) (1.10.47)\n",
            "Requirement already satisfied: boto>=2.32 in /usr/local/lib/python3.6/dist-packages (from smart-open>=1.2.1->gensim) (2.49.0)\n",
            "Requirement already satisfied: requests in /usr/local/lib/python3.6/dist-packages (from smart-open>=1.2.1->gensim) (2.21.0)\n",
            "Requirement already satisfied: s3transfer<0.3.0,>=0.2.0 in /usr/local/lib/python3.6/dist-packages (from boto3->smart-open>=1.2.1->gensim) (0.2.1)\n",
            "Requirement already satisfied: jmespath<1.0.0,>=0.7.1 in /usr/local/lib/python3.6/dist-packages (from boto3->smart-open>=1.2.1->gensim) (0.9.4)\n",
            "Requirement already satisfied: botocore<1.14.0,>=1.13.47 in /usr/local/lib/python3.6/dist-packages (from boto3->smart-open>=1.2.1->gensim) (1.13.47)\n",
            "Requirement already satisfied: chardet<3.1.0,>=3.0.2 in /usr/local/lib/python3.6/dist-packages (from requests->smart-open>=1.2.1->gensim) (3.0.4)\n",
            "Requirement already satisfied: urllib3<1.25,>=1.21.1 in /usr/local/lib/python3.6/dist-packages (from requests->smart-open>=1.2.1->gensim) (1.24.3)\n",
            "Requirement already satisfied: certifi>=2017.4.17 in /usr/local/lib/python3.6/dist-packages (from requests->smart-open>=1.2.1->gensim) (2019.11.28)\n",
            "Requirement already satisfied: idna<2.9,>=2.5 in /usr/local/lib/python3.6/dist-packages (from requests->smart-open>=1.2.1->gensim) (2.8)\n",
            "Requirement already satisfied: docutils<0.16,>=0.10 in /usr/local/lib/python3.6/dist-packages (from botocore<1.14.0,>=1.13.47->boto3->smart-open>=1.2.1->gensim) (0.15.2)\n",
            "Requirement already satisfied: python-dateutil<3.0.0,>=2.1; python_version >= \"2.7\" in /usr/local/lib/python3.6/dist-packages (from botocore<1.14.0,>=1.13.47->boto3->smart-open>=1.2.1->gensim) (2.6.1)\n"
          ],
          "name": "stdout"
        }
      ]
    },
    {
      "cell_type": "code",
      "metadata": {
        "id": "M4ua70-EQqQ1",
        "colab_type": "code",
        "colab": {}
      },
      "source": [
        "import gensim\n",
        "import json\n",
        "import re\n",
        "import pandas as pd\n",
        "from nltk.tokenize import word_tokenize\n",
        "from nltk.corpus import stopwords\n",
        "from pymorphy2 import MorphAnalyzer\n",
        "import pyLDAvis.gensim\n",
        "import string\n",
        "from collections import Counter\n",
        "import warnings\n",
        "warnings.filterwarnings(\"ignore\")\n",
        "import gzip\n",
        "morph = MorphAnalyzer()"
      ],
      "execution_count": 0,
      "outputs": []
    },
    {
      "cell_type": "code",
      "metadata": {
        "id": "uHsxr1SARwgd",
        "colab_type": "code",
        "outputId": "01945299-973f-495b-88d7-9485081d328b",
        "colab": {
          "base_uri": "https://localhost:8080/",
          "height": 51
        }
      },
      "source": [
        "import nltk\n",
        "nltk.download('stopwords')\n",
        "import csv"
      ],
      "execution_count": 0,
      "outputs": [
        {
          "output_type": "stream",
          "text": [
            "[nltk_data] Downloading package stopwords to /root/nltk_data...\n",
            "[nltk_data]   Unzipping corpora/stopwords.zip.\n"
          ],
          "name": "stdout"
        }
      ]
    },
    {
      "cell_type": "code",
      "metadata": {
        "id": "GVnZ1TIGRsna",
        "colab_type": "code",
        "colab": {}
      },
      "source": [
        "import zipfile\n",
        "corpus = open('habr_texts.txt', 'w')\n",
        "with zipfile.ZipFile('habr_texts.txt.zip', 'r') as archive:\n",
        "    archive.extractall('')\n"
      ],
      "execution_count": 0,
      "outputs": []
    },
    {
      "cell_type": "code",
      "metadata": {
        "id": "JZp6C-18Qq-t",
        "colab_type": "code",
        "colab": {}
      },
      "source": [
        "stops = set(stopwords.words('russian')) | {'gt',}\n",
        "add_list = [\"англ\", \"поль\", \"хабр\", \"джон\", \"крис\", \"плохо\", \"хорошо\", \"назад\", \"пожалуйста\", \"спасибо\" \"вычисление\", \"хабра\", \"мк\", \"ми\", \"ос\", \"где-нибудь\", \"ия\", \"мс\", \"ый\"] #добавил непонятные слова, и слова, которые встречаются в большинстве топиков вообще,\n",
        "# и еще аббривеатуры \n",
        "add_list = [stops.add(i) for i in add_list]\n",
        "def remove_tags_and_latine(text):\n",
        "    text = re.sub(r'[A-Za-z]+', '', text) #попробую убрать латиницу и комбинации только из цифр\n",
        "    text = re.sub(r'[0-9.…•\"«№“”±€×]+', '', text) #и комбинации из цифр с плохо отфильтровавшимися знаками\n",
        "    return re.sub(r'<[^>]+>', '', text)\n",
        "\n",
        "\n",
        "def opt_normalize(texts, top=None):\n",
        "    uniq = Counter()\n",
        "    for text in texts:\n",
        "        uniq.update(text)\n",
        "    \n",
        "    norm_uniq = {word:morph.parse(word)[0].normal_form for word, _ in uniq.most_common(top)}\n",
        "    \n",
        "    norm_texts = []\n",
        "    for text in texts:\n",
        "        \n",
        "        norm_words = [norm_uniq.get(word) for word in text]\n",
        "        norm_words = [word for word in norm_words if word and word not in stops]\n",
        "        norm_texts.append(norm_words)\n",
        "        \n",
        "    return norm_texts\n",
        "\n",
        "def tokenize(text):\n",
        "    words = [word.strip(string.punctuation) for word in text.split()]\n",
        "    words = [word for word in words if word]\n",
        "    \n",
        "    return words"
      ],
      "execution_count": 0,
      "outputs": []
    },
    {
      "cell_type": "code",
      "metadata": {
        "id": "RwIqXAFpS8ex",
        "colab_type": "code",
        "colab": {}
      },
      "source": [
        "texts = open('habr_texts.txt').read().splitlines()\n",
        "texts = opt_normalize([tokenize(remove_tags_and_latine(text.lower())) for text in texts], 40000)"
      ],
      "execution_count": 0,
      "outputs": []
    },
    {
      "cell_type": "code",
      "metadata": {
        "id": "piiZriQFVY-X",
        "colab_type": "code",
        "colab": {}
      },
      "source": [
        "# для нграммов\n",
        "ph = gensim.models.Phrases(texts, scoring='npmi', threshold=0.4) # threshold можно подбирать\n",
        "p = gensim.models.phrases.Phraser(ph)\n",
        "ngrammed_texts = p[texts]"
      ],
      "execution_count": 0,
      "outputs": []
    },
    {
      "cell_type": "code",
      "metadata": {
        "id": "A5t-b_DDViFx",
        "colab_type": "code",
        "colab": {}
      },
      "source": [
        "dictionary = gensim.corpora.Dictionary(ngrammed_texts)"
      ],
      "execution_count": 0,
      "outputs": []
    },
    {
      "cell_type": "code",
      "metadata": {
        "id": "MhQJFLlaVkoi",
        "colab_type": "code",
        "colab": {}
      },
      "source": [
        "dictionary.filter_extremes(no_above=0.1, no_below=20)\n",
        "dictionary.compactify()"
      ],
      "execution_count": 0,
      "outputs": []
    },
    {
      "cell_type": "code",
      "metadata": {
        "id": "_k1BAT-oVn_e",
        "colab_type": "code",
        "outputId": "c26416c3-26fc-488d-a624-806c7be85b66",
        "colab": {
          "base_uri": "https://localhost:8080/",
          "height": 34
        }
      },
      "source": [
        "print(dictionary)"
      ],
      "execution_count": 0,
      "outputs": [
        {
          "output_type": "stream",
          "text": [
            "Dictionary(6449 unique tokens: ['аргумент', 'базироваться', 'бизнес-логика', 'блог', 'выбираться']...)\n"
          ],
          "name": "stdout"
        }
      ]
    },
    {
      "cell_type": "code",
      "metadata": {
        "id": "YxQO0dLJVp6D",
        "colab_type": "code",
        "colab": {}
      },
      "source": [
        "corpus = [dictinary.doc2bow(text) for text in texts]"
      ],
      "execution_count": 0,
      "outputs": []
    },
    {
      "cell_type": "code",
      "metadata": {
        "id": "e4pOBKuOHx9r",
        "colab_type": "code",
        "colab": {}
      },
      "source": [
        "tfidf = gensim.models.TfidfModel(corpus, id2word=dictionary)\n",
        "corpus = tfidf[corpus]"
      ],
      "execution_count": 0,
      "outputs": []
    },
    {
      "cell_type": "code",
      "metadata": {
        "id": "FW_vNjj-W8kQ",
        "colab_type": "code",
        "colab": {}
      },
      "source": [
        "#lda = gensim.models.LdaMulticore(corpus, 100, id2word=dictinary, eval_every=0)# если поддерживается многопоточность\n",
        "lda = gensim.models.LdaModel(corpus, 100, alpha=\"symmetric\", id2word=dictinary, eval_every=0, passes=30)\n",
        " \n",
        "# lda = gensim.models.LdaModel(200, id2word=dictinary, passes=5)"
      ],
      "execution_count": 0,
      "outputs": []
    },
    {
      "cell_type": "markdown",
      "metadata": {
        "id": "urNKnIrVWzM3",
        "colab_type": "text"
      },
      "source": [
        "## Начну сразу с лучших тем модели LDA:\n",
        "**Из получившихся мне больше всего понравилась модель с дефолтным параметром alpha и 15 проходами по тексту. При увеличении или уменьшении alpha , и в комбинации с \"asymmetric\" и \"auto\", с разными количествами проходов по тексту, становилось, на мой взгляд, хуже.\n",
        "Вот модель и темы: *** \n",
        "\n",
        "lda = gensim.models.LdaModel(corpus, 100, alpha=\"symmetric\", id2word=dictinary, eval_every=0, passes=15)\n",
        "Когерентность и перплексия тоже у нее получились лучше остальных:\n",
        " -7.9273474073139765 перплексия\n",
        " 0.5202449758837351 когерентность\n",
        "\n",
        "**И темы, мне показались они хорошими, вроде особо ничего лишнего:**\n",
        "\n",
        " (76,\n",
        "  '0.105*\"обучение\" + 0.041*\"машинный\" + 0.041*\"искусственный\" + 0.039*\"интеллект\" + 0.030*\"нейросеть\" + 0.024*\"нейронный\" + 0.024*\"университет\" + 0.023*\"распознавание\" + 0.018*\"робот\" + 0.017*\"компьютерный\"'),\n",
        " (92,\n",
        "  '0.171*\"игрок\" + 0.064*\"игровой\" + 0.026*\"удача\" + 0.021*\"автомат\" + 0.015*\"шанс\" + 0.014*\"дизайнер\" + 0.013*\"жанр\" + 0.012*\"случайный\" + 0.012*\"геймплей\" + 0.012*\"стратегия\"'),\n",
        " (34,\n",
        "  '0.031*\"текстура\" + 0.025*\"моделирование\" + 0.023*\"расчёт\" + 0.022*\"линия\" + 0.018*\"проектирование\" + 0.016*\"геометрический\" + 0.015*\"сетка\" + 0.015*\"компонента\" + 0.014*\"вершина\" + 0.013*\"шейдёр\"')\n",
        "\n",
        "\n",
        "**На всякий случай я оставил часть тем, прошу прощения заранее, если не надо было этого делать(можно промотать).** \n",
        "\n",
        "  "
      ]
    },
    {
      "cell_type": "code",
      "metadata": {
        "id": "K9uiExjKLBV-",
        "colab_type": "code",
        "outputId": "1f1bcf52-31c9-45be-b0bd-e848a464b51a",
        "colab": {
          "base_uri": "https://localhost:8080/",
          "height": 717
        }
      },
      "source": [
        "lda.print_topics()\n",
        "#lda = gensim.models.LdaModel(corpus, 100, alpha=\"symmetric\", id2word=dictinary, eval_every=0, passes=30)\n",
        "# перплексия -13.577861529810319 \n",
        "#  когерентность nan\n",
        "# 1) тема из стандартной модели с 30 проходами по тексту:\n",
        "# (26,'0.069*\"нейросеть\" + 0.059*\"обучение\" + 0.054*\"нейронный\" + 0.040*\"нейрон\" + 0.026*\"распознавание\" + 0.022*\"машинный\" + 0.022*\"слой\" + 0.016*\"обучать\" + 0.016*\"обучаться\" + 0.012*\"признак\"'),\n",
        "\n",
        "# 2) (114, '0.068*\"ракета\" + 0.045*\"наса\" + 0.042*\"авария\" + 0.037*\"космический\" + 0.036*\"миссия\" + 0.029*\"станция\" + 0.026*\"разрушение\" + 0.025*\"груз\" + 0.025*\"мкс\" + 0.025*\"космос\"')\n",
        "\n",
        "#3) (51, '0.083*\"протокол\" + 0.067*\"трафик\" + 0.052*\"шлюз\" + 0.050*\"маршрут\" + 0.038*\"маршрутизатор\" + 0.028*\"маска\" + 0.028*\"сетевой\" + 0.027*\"соединение\" + 0.026*\"сессия\" + 0.022*\"сегмент\"'),\n",
        "\n",
        " (83,\n",
        "  '0.062*\"датчик\" + 0.037*\"температура\" + 0.024*\"воздух\" + 0.023*\"вода\" + 0.021*\"прибор\" + 0.020*\"площадь\" + 0.019*\"комната\" + 0.015*\"умный\" + 0.015*\"шарик\" + 0.013*\"измерение\"'),\n",
        " (92,\n",
        "  '0.171*\"игрок\" + 0.064*\"игровой\" + 0.026*\"удача\" + 0.021*\"автомат\" + 0.015*\"шанс\" + 0.014*\"дизайнер\" + 0.013*\"жанр\" + 0.012*\"случайный\" + 0.012*\"геймплей\" + 0.012*\"стратегия\"'),\n",
        " (34,"
      ],
      "execution_count": 0,
      "outputs": [
        {
          "output_type": "execute_result",
          "data": {
            "text/plain": [
              "[(99,\n",
              "  '0.069*\"вм\" + 0.053*\"жалоба\" + 0.037*\"штраф\" + 0.022*\"январь\" + 0.021*\"игорь\" + 0.019*\"федеральный\" + 0.019*\"российский\" + 0.016*\"углубиться\" + 0.012*\"поступить\" + 0.011*\"напомнить\"'),\n",
              " (94,\n",
              "  '0.053*\"зашифровать\" + 0.035*\"временной\" + 0.034*\"шифрование\" + 0.023*\"пароль\" + 0.021*\"раскрываться\" + 0.020*\"бизнес-логика\" + 0.020*\"метаданные\" + 0.020*\"уничтожение\" + 0.020*\"дублировать\" + 0.019*\"аннотация\"'),\n",
              " (44,\n",
              "  '0.027*\"корпус\" + 0.026*\"камера\" + 0.021*\"мм\" + 0.021*\"аккумулятор\" + 0.019*\"дисплей\" + 0.017*\"гб\" + 0.016*\"светодиод\" + 0.016*\"ноутбук\" + 0.015*\"датчик\" + 0.015*\"разъём\"'),\n",
              " (71,\n",
              "  '0.068*\"регулирование\" + 0.036*\"мкс\" + 0.031*\"смс\" + 0.018*\"поправка\" + 0.011*\"пощупать\" + 0.000*\"пройти_успешно\" + 0.000*\"пятнадцать\" + 0.000*\"прозрачный\" + 0.000*\"разум\" + 0.000*\"рождество\"'),\n",
              " (67,\n",
              "  '0.122*\"клетка\" + 0.087*\"ген\" + 0.036*\"днк\" + 0.033*\"бактерия\" + 0.022*\"образование\" + 0.021*\"молекула\" + 0.021*\"геном\" + 0.018*\"белок\" + 0.014*\"белка\" + 0.012*\"ребёнок\"'),\n",
              " (47,\n",
              "  '0.076*\"принудительный\" + 0.026*\"японец\" + 0.014*\"леса\" + 0.000*\"борьба\" + 0.000*\"пройти_успешно\" + 0.000*\"разум\" + 0.000*\"свободно\" + 0.000*\"рождество\" + 0.000*\"пятнадцать\" + 0.000*\"ребята\"'),\n",
              " (48,\n",
              "  '0.116*\"фоновый\" + 0.023*\"заливать\" + 0.015*\"узор\" + 0.013*\"градиент\" + 0.012*\"ловушка\" + 0.009*\"влезть\" + 0.006*\"аккумулятор\" + 0.000*\"запуститься\" + 0.000*\"решающий\" + 0.000*\"портативный\"'),\n",
              " (98,\n",
              "  '0.031*\"фсб\" + 0.028*\"китай\" + 0.022*\"закон\" + 0.021*\"рф\" + 0.018*\"китайский\" + 0.018*\"правительство\" + 0.017*\"регулятор\" + 0.017*\"договор\" + 0.016*\"бюджет\" + 0.014*\"иностранный\"'),\n",
              " (68,\n",
              "  '0.004*\"игрок\" + 0.003*\"оператор\" + 0.003*\"→\" + 0.003*\"домен\" + 0.003*\"электронный\" + 0.003*\"папка\" + 0.003*\"перевод\" + 0.003*\"исходный\" + 0.003*\"расширение\" + 0.003*\"диск\"'),\n",
              " (18,\n",
              "  '0.088*\"абонент\" + 0.056*\"атс\" + 0.039*\"диспетчер\" + 0.029*\"маска\" + 0.020*\"осторожность\" + 0.012*\"улица\" + 0.011*\"преобразоваться\" + 0.010*\"салон\" + 0.008*\"скетч\" + 0.000*\"пятнадцать\"'),\n",
              " (10,\n",
              "  '0.056*\"биткоина\" + 0.045*\"сегментация\" + 0.007*\"криптовалюта\" + 0.000*\"обобщение\" + 0.000*\"пятнадцать\" + 0.000*\"решающий\" + 0.000*\"пройти_успешно\" + 0.000*\"прозрачный\" + 0.000*\"разум\" + 0.000*\"продвигаться\"'),\n",
              " (70,\n",
              "  '0.050*\"паттерн\" + 0.047*\"роскомнадзор\" + 0.043*\"данных»\" + 0.034*\"субъект\" + 0.025*\"защититься\" + 0.023*\"индивидуально\" + 0.020*\"ландшафт\" + 0.016*\"открытость\" + 0.013*\"реестр\" + 0.012*\"читаемость\"'),\n",
              " (25,\n",
              "  '0.039*\"батарея\" + 0.036*\"температура\" + 0.034*\"аккумулятор\" + 0.027*\"напряжение\" + 0.021*\"ёмкость\" + 0.019*\"сопротивление\" + 0.016*\"электрический\" + 0.016*\"мотор\" + 0.015*\"атомный\" + 0.015*\"ячейка\"'),\n",
              " (23,\n",
              "  '0.000*\"пятнадцать\" + 0.000*\"разум\" + 0.000*\"прозрачный\" + 0.000*\"проигнорировать\" + 0.000*\"пройти_успешно\" + 0.000*\"проживание\" + 0.000*\"рождество\" + 0.000*\"решающий\" + 0.000*\"приключение\" + 0.000*\"ребята\"'),\n",
              " (92,\n",
              "  '0.076*\"регистр\" + 0.046*\"синхронный\" + 0.046*\"фильтр\" + 0.037*\"битый\" + 0.025*\"клавиша\" + 0.024*\"выигрыш\" + 0.020*\"монтаж\" + 0.018*\"микроконтроллер\" + 0.017*\"конденсатор\" + 0.013*\"умножение\"'),\n",
              " (12,\n",
              "  '0.061*\"ведомство\" + 0.053*\"спутник\" + 0.036*\"орбита\" + 0.035*\"астероид\" + 0.030*\"миссия\" + 0.028*\"солнце\" + 0.027*\"планета\" + 0.027*\"телескоп\" + 0.025*\"зонд\" + 0.019*\"лёд\"'),\n",
              " (64,\n",
              "  '0.056*\"яркость\" + 0.034*\"таймер\" + 0.026*\"выключать\" + 0.024*\"сканер\" + 0.024*\"освещение\" + 0.021*\"городской\" + 0.020*\"считывать\" + 0.020*\"восстановление\" + 0.019*\"цвет\" + 0.018*\"плеер\"'),\n",
              " (14,\n",
              "  '0.056*\"печать\" + 0.042*\"принтер\" + 0.028*\"цифровой\" + 0.026*\"ткань\" + 0.021*\"респондент\" + 0.017*\"плазма\" + 0.015*\"печатать\" + 0.014*\"ассоциироваться\" + 0.014*\"прекращаться\" + 0.014*\"вовлечение\"'),\n",
              " (26,\n",
              "  '0.069*\"нейросеть\" + 0.059*\"обучение\" + 0.054*\"нейронный\" + 0.040*\"нейрон\" + 0.026*\"распознавание\" + 0.022*\"машинный\" + 0.022*\"слой\" + 0.016*\"обучать\" + 0.016*\"обучаться\" + 0.012*\"признак\"'),\n",
              " (81,\n",
              "  '0.074*\"сертификат\" + 0.053*\"автомобиль\" + 0.051*\"водитель\" + 0.023*\"грузовик\" + 0.019*\"перечисление\" + 0.012*\"остров\" + 0.006*\"гост\" + 0.000*\"кресло\" + 0.000*\"кофе\" + 0.000*\"решающий\"')]"
            ]
          },
          "metadata": {
            "tags": []
          },
          "execution_count": 211
        }
      ]
    },
    {
      "cell_type": "code",
      "metadata": {
        "id": "dSdxZ4pOG-f9",
        "colab_type": "code",
        "outputId": "50fea84f-99e6-4166-fdb5-54e28a23e878",
        "colab": {
          "base_uri": "https://localhost:8080/",
          "height": 717
        }
      },
      "source": [
        "#lda = gensim.models.LdaModel(corpus, 200, alpha=\"symmetric\", id2word=dictinary, eval_every=0, passes=15) + tfidf\n",
        "lda.print_topics() \n",
        "# -16.851228932060963 перплексия\n",
        "# 0.37793586846030697 когерентность"
      ],
      "execution_count": 0,
      "outputs": [
        {
          "output_type": "execute_result",
          "data": {
            "text/plain": [
              "[(136,\n",
              "  '0.081*\"блокировка\" + 0.056*\"чиновник\" + 0.055*\"заблокировать\" + 0.047*\"мотивация\" + 0.043*\"провайдер\" + 0.027*\"посещать\" + 0.025*\"печально\" + 0.024*\"куб\" + 0.023*\"где-нибудь\" + 0.023*\"анонимность\"'),\n",
              " (112,\n",
              "  '0.134*\"присоединение\" + 0.019*\"нож\" + 0.011*\"индивидуально\" + 0.000*\"хирург\" + 0.000*\"сегмент\" + 0.000*\"техподдержка\" + 0.000*\"продлить\" + 0.000*\"миниатюрный\" + 0.000*\"гбит/с\" + 0.000*\"изобретение\"'),\n",
              " (46,\n",
              "  '0.042*\"заносить\" + 0.037*\"телевизор\" + 0.034*\"лестница\" + 0.030*\"студенческий\" + 0.025*\"вакуум\" + 0.024*\"склад\" + 0.023*\"зимний\" + 0.020*\"недовольный\" + 0.020*\"отставать\" + 0.017*\"лечь\"'),\n",
              " (20,\n",
              "  '0.072*\"анимировать\" + 0.025*\"скромный\" + 0.023*\"классно\" + 0.020*\"затруднить\" + 0.000*\"анонсировать\" + 0.000*\"математика\" + 0.000*\"анонс\" + 0.000*\"сертификация\" + 0.000*\"грубый\" + 0.000*\"ознакомление\"'),\n",
              " (114,\n",
              "  '0.068*\"ракета\" + 0.045*\"наса\" + 0.042*\"авария\" + 0.037*\"космический\" + 0.036*\"миссия\" + 0.029*\"станция\" + 0.026*\"разрушение\" + 0.025*\"груз\" + 0.025*\"мкс\" + 0.025*\"космос\"'),\n",
              " (86,\n",
              "  '0.059*\"географический\" + 0.040*\"дорабатывать\" + 0.039*\"вечером\" + 0.028*\"двое\" + 0.027*\"ми\" + 0.027*\"близкие\" + 0.026*\"забота\" + 0.025*\"крепиться\" + 0.023*\"неясно\" + 0.022*\"однажды\"'),\n",
              " (117,\n",
              "  '0.085*\"пятница\" + 0.039*\"приспособить\" + 0.031*\"исправно\" + 0.025*\"атаковать\" + 0.022*\"временами\" + 0.014*\"перебой\" + 0.000*\"портирование\" + 0.000*\"экосистема\" + 0.000*\"привыкать\" + 0.000*\"бедный\"'),\n",
              " (17,\n",
              "  '0.000*\"эйнштейн\" + 0.000*\"патч\" + 0.000*\"маршрутизация\" + 0.000*\"тело\" + 0.000*\"пирамида\" + 0.000*\"галактика\" + 0.000*\"наложение\" + 0.000*\"замедление\" + 0.000*\"пик\" + 0.000*\"натуральный\"'),\n",
              " (107,\n",
              "  '0.118*\"нейросеть\" + 0.084*\"исследователь\" + 0.042*\"коммуникация\" + 0.000*\"нейронный\" + 0.000*\"предприниматель\" + 0.000*\"человеческий\" + 0.000*\"воображение\" + 0.000*\"скачать\" + 0.000*\"совместный\" + 0.000*\"дэвид\"'),\n",
              " (29,\n",
              "  '0.029*\"кабель\" + 0.024*\"порекомендовать\" + 0.018*\"предпочитать\" + 0.016*\"обсуждать\" + 0.016*\"гость\" + 0.016*\"’ом\" + 0.016*\"кирилл\" + 0.016*\"спать\" + 0.015*\"уделять\" + 0.015*\"профессиональный\"'),\n",
              " (157,\n",
              "  '0.004*\"облачный\" + 0.004*\"электронный\" + 0.004*\"программный\" + 0.004*\"обеспечение\" + 0.004*\"дерево\" + 0.003*\"информационный\" + 0.003*\"производство\" + 0.003*\"корпоративный\" + 0.003*\"назад\" + 0.003*\"представитель\"'),\n",
              " (149,\n",
              "  '0.076*\"игнорироваться\" + 0.043*\"масло\" + 0.028*\"своевременно\" + 0.022*\"идентичность\" + 0.000*\"равенство\" + 0.000*\"приведение\" + 0.000*\"одновременный\" + 0.000*\"жидкость\" + 0.000*\"рекомендоваться\" + 0.000*\"регулировка\"'),\n",
              " (129,\n",
              "  '0.141*\"клетка\" + 0.080*\"ген\" + 0.050*\"поисковый\" + 0.039*\"организм\" + 0.036*\"белка\" + 0.035*\"генетический\" + 0.034*\"днк\" + 0.031*\"молекула\" + 0.021*\"щит\" + 0.019*\"заболевание\"'),\n",
              " (113,\n",
              "  '0.091*\"ширина\" + 0.075*\"инфляция\" + 0.001*\"присущий\" + 0.000*\"календарь\" + 0.000*\"×\" + 0.000*\"горячее\" + 0.000*\"пиксель\" + 0.000*\"голосовой\" + 0.000*\"усилить\" + 0.000*\"покрытие\"'),\n",
              " (49,\n",
              "  '0.174*\"сертификат\" + 0.128*\"директива\" + 0.042*\"сертификация\" + 0.033*\"утверждение\" + 0.000*\"оригинальный\" + 0.000*\"заслуживать\" + 0.000*\"диапазон\" + 0.000*\"итерация\" + 0.000*\"придумывать\" + 0.000*\"кэширование\"'),\n",
              " (108,\n",
              "  '0.096*\"великобритания\" + 0.049*\"мк\" + 0.022*\"пережить\" + 0.017*\"оборудовать\" + 0.011*\"внушительный\" + 0.002*\"отладочный\" + 0.002*\"экспериментальный\" + 0.001*\"браться\" + 0.000*\"удивляться\" + 0.000*\"периферия\"'),\n",
              " (179,\n",
              "  '0.112*\"регистратор\" + 0.045*\"поэтапно\" + 0.020*\"сохранность\" + 0.015*\"пренебрегать\" + 0.001*\"поломка\" + 0.001*\"дистанция\" + 0.001*\"довестись\" + 0.000*\"нотация\" + 0.000*\"примитив\" + 0.000*\"брак\"'),\n",
              " (68,\n",
              "  '0.026*\"предпочесть\" + 0.022*\"вечер\" + 0.020*\"браузерный\" + 0.017*\"загрузиться\" + 0.017*\"гражданин\" + 0.016*\"преступник\" + 0.016*\"экономика\" + 0.016*\"станция\" + 0.015*\"транзистор\" + 0.013*\"полно\"'),\n",
              " (110,\n",
              "  '0.211*\"мозг\" + 0.070*\"расширение\" + 0.044*\"кора\" + 0.041*\"сознание\" + 0.037*\"преследовать\" + 0.032*\"мозговой\" + 0.031*\"головной\" + 0.027*\"частью\" + 0.024*\"активность\" + 0.020*\"контролировать\"'),\n",
              " (158,\n",
              "  '0.162*\"опрос\" + 0.027*\"леса\" + 0.000*\"переводчик\" + 0.000*\"французский\" + 0.000*\"словарь\" + 0.000*\"перевод\" + 0.000*\"комната\" + 0.000*\"отраслевой\" + 0.000*\"пятница\" + 0.000*\"контекст\"')]"
            ]
          },
          "metadata": {
            "tags": []
          },
          "execution_count": 195
        }
      ]
    },
    {
      "cell_type": "code",
      "metadata": {
        "id": "ge0hUn9K9R2L",
        "colab_type": "code",
        "outputId": "e654e49f-7f0e-41cf-83f5-d58a251f79a3",
        "colab": {
          "base_uri": "https://localhost:8080/",
          "height": 717
        }
      },
      "source": [
        "lda.print_topics() \n",
        "#lda = gensim.models.LdaModel(corpus, 200, alpha=\"symmetric\", id2word=dictinary, eval_every=0, passes=20)\n",
        "\n",
        "# -7.989605661044144 перплексия\n",
        "# 0.5061547540553559когерентность"
      ],
      "execution_count": 0,
      "outputs": [
        {
          "output_type": "execute_result",
          "data": {
            "text/plain": [
              "[(111,\n",
              "  '0.176*\"электроника\" + 0.067*\"школьник\" + 0.046*\"физика\" + 0.040*\"транзистор\" + 0.032*\"школьный\" + 0.032*\"логический\" + 0.026*\"цифровой\" + 0.025*\"калькулятор\" + 0.021*\"электронный\" + 0.020*\"разбор\"'),\n",
              " (125,\n",
              "  '0.134*\"уязвимость\" + 0.039*\"диспетчер\" + 0.033*\"вредоносный\" + 0.027*\"веб-сервер\" + 0.023*\"произвольный\" + 0.020*\"уязвимый\" + 0.018*\"веб-приложение\" + 0.015*\"вирус\" + 0.015*\"исследователь\" + 0.013*\"процедура\"'),\n",
              " (68,\n",
              "  '0.041*\"угол\" + 0.030*\"расстояние\" + 0.027*\"попадание\" + 0.019*\"квадрат\" + 0.018*\"верхний\" + 0.016*\"вектор\" + 0.016*\"плоскость\" + 0.014*\"луч\" + 0.014*\"нижний\" + 0.013*\"расчёт\"'),\n",
              " (95,\n",
              "  '0.197*\"клетка\" + 0.043*\"деление\" + 0.042*\"ген\" + 0.035*\"образование\" + 0.034*\"днк\" + 0.034*\"молекула\" + 0.029*\"вещество\" + 0.020*\"белок\" + 0.018*\"концентрация\" + 0.017*\"белка\"'),\n",
              " (179,\n",
              "  '0.297*\"домен\" + 0.087*\"восстановление\" + 0.039*\"переадресация\" + 0.030*\"локальный\" + 0.030*\"политика\" + 0.024*\"мониторинг\" + 0.024*\"обратный\" + 0.024*\"вручную\" + 0.023*\"доменный\" + 0.019*\"аудит\"'),\n",
              " (172,\n",
              "  '0.123*\"звук\" + 0.076*\"усилитель\" + 0.028*\"фильтр\" + 0.024*\"искажение\" + 0.021*\"звуковой\" + 0.018*\"советский\" + 0.015*\"частота\" + 0.015*\"музыкант\" + 0.015*\"производство\" + 0.014*\"инженер\"'),\n",
              " (14,\n",
              "  '0.050*\"окно\" + 0.039*\"меню\" + 0.024*\"иконка\" + 0.015*\"справа\" + 0.015*\"слева\" + 0.014*\"отображаться\" + 0.013*\"надпись\" + 0.013*\"правый\" + 0.011*\"клик\" + 0.011*\"показ\"'),\n",
              " (192,\n",
              "  '0.121*\"регистратор\" + 0.091*\"коробка\" + 0.052*\"линейка\" + 0.048*\"китайский\" + 0.031*\"официальный\" + 0.031*\"ролик\" + 0.031*\"российский\" + 0.026*\"европейский\" + 0.023*\"заметно\" + 0.022*\"официально\"'),\n",
              " (170,\n",
              "  '0.164*\"звезда\" + 0.086*\"планета\" + 0.078*\"небо\" + 0.073*\"телескоп\" + 0.064*\"галактика\" + 0.061*\"доказательство\" + 0.052*\"наблюдение\" + 0.048*\"девять\" + 0.042*\"расстояние\" + 0.032*\"светов\"'),\n",
              " (38,\n",
              "  '0.204*\"нагрузка\" + 0.117*\"оптимизация\" + 0.054*\"обратный\" + 0.033*\"оптимизировать\" + 0.032*\"балансировка\" + 0.030*\"сжатие\" + 0.028*\"повышение\" + 0.023*\"ускорение\" + 0.023*\"улучшение\" + 0.020*\"улучшить\"'),\n",
              " (102,\n",
              "  '0.126*\"игрок\" + 0.044*\"игровой\" + 0.012*\"аудитория\" + 0.011*\"дизайнер\" + 0.011*\"очки\" + 0.009*\"геймплей\" + 0.009*\"жанр\" + 0.008*\"комната\" + 0.007*\"наблюдать\" + 0.007*\"бог\"'),\n",
              " (13,\n",
              "  '0.306*\"метаданные\" + 0.248*\"словарь\" + 0.145*\"возврат\" + 0.115*\"блокировка\" + 0.036*\"модификатор\" + 0.023*\"равно\" + 0.020*\"роскомнадзор\" + 0.016*\"клонирование\" + 0.013*\"сохранять\" + 0.011*\"исключать\"'),\n",
              " (29,\n",
              "  '0.066*\"оператор\" + 0.061*\"дефект\" + 0.057*\"выражение\" + 0.041*\"анализатор\" + 0.032*\"фрагмент\" + 0.026*\"условный\" + 0.025*\"исправить\" + 0.025*\"предупреждение\" + 0.021*\"исходный\" + 0.020*\"присваивание\"'),\n",
              " (91,\n",
              "  '0.085*\"нажимать\" + 0.050*\"сантиметр\" + 0.047*\"сканер\" + 0.038*\"фото\" + 0.036*\"сканирование\" + 0.034*\"администратор\" + 0.030*\"открывать\" + 0.028*\"палец\" + 0.027*\"пункт\" + 0.027*\"отпечаток\"'),\n",
              " (52,\n",
              "  '0.070*\"чтение\" + 0.065*\"мб\" + 0.062*\"клавиатура\" + 0.036*\"нажатие\" + 0.027*\"подсветка\" + 0.027*\"клавиш\" + 0.024*\"клавиша\" + 0.023*\"формирование\" + 0.022*\"сценарий\" + 0.021*\"кб\"'),\n",
              " (147,\n",
              "  '0.380*\"отчёт\" + 0.055*\"загрузить\" + 0.049*\"реестр\" + 0.038*\"подробный\" + 0.037*\"экспорт\" + 0.035*\"отслеживание\" + 0.023*\"отправка\" + 0.021*\"топ\" + 0.021*\"экспортировать\" + 0.018*\"почта\"'),\n",
              " (139,\n",
              "  '0.351*\"атака\" + 0.151*\"хакер\" + 0.088*\"соревнование\" + 0.045*\"взлом\" + 0.035*\"ботнет\" + 0.035*\"хакерский\" + 0.030*\"октябрь\" + 0.024*\"взломать\" + 0.014*\"министерство\" + 0.011*\"участвовать\"'),\n",
              " (166,\n",
              "  '0.112*\"байт\" + 0.084*\"битый\" + 0.066*\"битный\" + 0.057*\"частота\" + 0.046*\"регистр\" + 0.033*\"счётчик\" + 0.029*\"приём\" + 0.024*\"старший\" + 0.024*\"кодирование\" + 0.023*\"младший\"'),\n",
              " (28,\n",
              "  '0.038*\"почта\" + 0.034*\"помещение\" + 0.032*\"собеседование\" + 0.024*\"долг\" + 0.022*\"этаж\" + 0.020*\"голова\" + 0.018*\"пришлый\" + 0.014*\"оказываться\" + 0.013*\"чей\" + 0.012*\"авторитет\"'),\n",
              " (31,\n",
              "  '0.021*\"какой-нибудь\" + 0.019*\"как-то\" + 0.017*\"штука\" + 0.015*\"тз\" + 0.014*\"наверное\" + 0.014*\"переделать\" + 0.013*\"предпочитать\" + 0.013*\"менеджер\" + 0.012*\"портал\" + 0.011*\"туда\"')]"
            ]
          },
          "metadata": {
            "tags": []
          },
          "execution_count": 166
        }
      ]
    },
    {
      "cell_type": "code",
      "metadata": {
        "id": "CxvKcMzv2DSO",
        "colab_type": "code",
        "outputId": "e28625b7-ec9b-4f94-dfd7-2b83a2d44524",
        "colab": {
          "base_uri": "https://localhost:8080/",
          "height": 717
        }
      },
      "source": [
        "lda.print_topics() \n",
        "#lda = gensim.models.LdaModel(corpus, 100, alpha=\"symmetric\", id2word=dictinary, eval_every=0, passes=15)\n",
        "#\n",
        "# -7.9273474073139765 перплексия\n",
        "# 0.5202449758837351 когерентность"
      ],
      "execution_count": 0,
      "outputs": [
        {
          "output_type": "execute_result",
          "data": {
            "text/plain": [
              "[(32,\n",
              "  '0.094*\"реальность\" + 0.076*\"лаборатория\" + 0.074*\"исследователь\" + 0.060*\"форум\" + 0.052*\"проведение\" + 0.051*\"респондент\" + 0.041*\"эксперт\" + 0.041*\"трансляция\" + 0.034*\"опрос\" + 0.031*\"наблюдать\"'),\n",
              " (75,\n",
              "  '0.062*\"стикер\" + 0.034*\"аккаунт\" + 0.028*\"блокировка\" + 0.025*\"динамический\" + 0.022*\"короткий\" + 0.017*\"блокировать\" + 0.017*\"удалять\" + 0.014*\"длинный\" + 0.012*\"добавление\" + 0.012*\"удаление\"'),\n",
              " (51,\n",
              "  '0.083*\"протокол\" + 0.067*\"трафик\" + 0.052*\"шлюз\" + 0.050*\"маршрут\" + 0.038*\"маршрутизатор\" + 0.028*\"маска\" + 0.028*\"сетевой\" + 0.027*\"соединение\" + 0.026*\"сессия\" + 0.022*\"сегмент\"'),\n",
              " (30,\n",
              "  '0.110*\"двигатель\" + 0.032*\"пуск\" + 0.031*\"ступень\" + 0.027*\"ракета\" + 0.024*\"ракета-носитель\" + 0.024*\"авария\" + 0.018*\"спутник\" + 0.017*\"испытание\" + 0.014*\"орбита\" + 0.014*\"корабль\"'),\n",
              " (11,\n",
              "  '0.112*\"китай\" + 0.073*\"китайский\" + 0.047*\"правительство\" + 0.043*\"провайдер\" + 0.025*\"заблокировать\" + 0.023*\"контент\" + 0.022*\"обход\" + 0.017*\"блокировка\" + 0.016*\"международный\" + 0.015*\"гражданин\"'),\n",
              " (9,\n",
              "  '0.034*\"сертификат\" + 0.014*\"инструкция\" + 0.011*\"партнёр\" + 0.011*\"посетитель\" + 0.010*\"пиксель\" + 0.010*\"заказ\" + 0.010*\"закрытый\" + 0.010*\"идентификатор\" + 0.010*\"интернет-магазин\" + 0.009*\"кодировка\"'),\n",
              " (47,\n",
              "  '0.035*\"аудитория\" + 0.012*\"тестировать\" + 0.012*\"задание\" + 0.012*\"задавать\" + 0.012*\"подсказка\" + 0.012*\"кейс\" + 0.012*\"час\" + 0.010*\"ответить\" + 0.010*\"нравиться\" + 0.010*\"понравиться\"'),\n",
              " (77,\n",
              "  '0.164*\"боль\" + 0.036*\"костя\" + 0.035*\"сопротивление\" + 0.028*\"принятие\" + 0.024*\"тело\" + 0.021*\"неприятный\" + 0.021*\"ткань\" + 0.020*\"ощущение\" + 0.020*\"эмоциональный\" + 0.018*\"организм\"'),\n",
              " (6,\n",
              "  '0.056*\"график\" + 0.055*\"мониторинг\" + 0.046*\"регистратор\" + 0.046*\"метрика\" + 0.046*\"уведомление\" + 0.030*\"графика\" + 0.023*\"перегрузка\" + 0.017*\"оповещение\" + 0.017*\"сборщик\" + 0.011*\"сокет\"'),\n",
              " (40,\n",
              "  '0.090*\"координата\" + 0.071*\"автомобиль\" + 0.026*\"прибор\" + 0.017*\"ребро\" + 0.017*\"диаграмма\" + 0.016*\"сетка\" + 0.015*\"полиция\" + 0.014*\"линия\" + 0.014*\"конвертация\" + 0.013*\"видимость\"'),\n",
              " (76,\n",
              "  '0.105*\"обучение\" + 0.041*\"машинный\" + 0.041*\"искусственный\" + 0.039*\"интеллект\" + 0.030*\"нейросеть\" + 0.024*\"нейронный\" + 0.024*\"университет\" + 0.023*\"распознавание\" + 0.018*\"робот\" + 0.017*\"компьютерный\"'),\n",
              " (97,\n",
              "  '0.054*\"бот\" + 0.029*\"контент\" + 0.021*\"музыка\" + 0.019*\"фильм\" + 0.017*\"скачать\" + 0.017*\"социальный\" + 0.016*\"релиз\" + 0.015*\"скачивание\" + 0.013*\"аудио\" + 0.012*\"чат\"'),\n",
              " (90,\n",
              "  '0.062*\"яркость\" + 0.050*\"свет\" + 0.022*\"освещение\" + 0.021*\"волна\" + 0.020*\"диапазон\" + 0.018*\"цветовой\" + 0.017*\"сцена\" + 0.017*\"уравнение\" + 0.014*\"координата\" + 0.013*\"линейный\"'),\n",
              " (60,\n",
              "  '0.019*\"производство\" + 0.018*\"предприятие\" + 0.014*\"срок\" + 0.014*\"отдел\" + 0.014*\"внедрение\" + 0.011*\"руководство\" + 0.011*\"эксплуатация\" + 0.010*\"заказчик\" + 0.010*\"подразделение\" + 0.010*\"проектирование\"'),\n",
              " (23,\n",
              "  '0.027*\"бд\" + 0.022*\"коллекция\" + 0.022*\"сущность\" + 0.016*\"конвертер\" + 0.016*\"расширение\" + 0.012*\"удаление\" + 0.012*\"папка\" + 0.011*\"временной\" + 0.011*\"передать\" + 0.010*\"добавление\"'),\n",
              " (83,\n",
              "  '0.062*\"датчик\" + 0.037*\"температура\" + 0.024*\"воздух\" + 0.023*\"вода\" + 0.021*\"прибор\" + 0.020*\"площадь\" + 0.019*\"комната\" + 0.015*\"умный\" + 0.015*\"шарик\" + 0.013*\"измерение\"'),\n",
              " (92,\n",
              "  '0.171*\"игрок\" + 0.064*\"игровой\" + 0.026*\"удача\" + 0.021*\"автомат\" + 0.015*\"шанс\" + 0.014*\"дизайнер\" + 0.013*\"жанр\" + 0.012*\"случайный\" + 0.012*\"геймплей\" + 0.012*\"стратегия\"'),\n",
              " (34,\n",
              "  '0.031*\"текстура\" + 0.025*\"моделирование\" + 0.023*\"расчёт\" + 0.022*\"линия\" + 0.018*\"проектирование\" + 0.016*\"геометрический\" + 0.015*\"сетка\" + 0.015*\"компонента\" + 0.014*\"вершина\" + 0.013*\"шейдёр\"'),\n",
              " (53,\n",
              "  '0.030*\"дерево\" + 0.019*\"стиль\" + 0.016*\"статический\" + 0.015*\"преобразование\" + 0.014*\"компилятор\" + 0.013*\"пиксель\" + 0.012*\"исходный\" + 0.012*\"анализатор\" + 0.011*\"указатель\" + 0.010*\"компиляция\"'),\n",
              " (26,\n",
              "  '0.010*\"создатель\" + 0.008*\"инженер\" + 0.008*\"операционный\" + 0.008*\"программный\" + 0.007*\"серия\" + 0.007*\"поколение\" + 0.006*\"движок\" + 0.006*\"компьютерный\" + 0.006*\"прошлое\" + 0.005*\"выпуск\"')]"
            ]
          },
          "metadata": {
            "tags": []
          },
          "execution_count": 136
        }
      ]
    },
    {
      "cell_type": "code",
      "metadata": {
        "colab_type": "code",
        "outputId": "f34e8ccd-f068-4166-a7b2-08d7b3a22736",
        "id": "eCQUsmrQGxt8",
        "colab": {
          "base_uri": "https://localhost:8080/",
          "height": 717
        }
      },
      "source": [
        "lda.print_topics() \n",
        "#lda = gensim.models.LdaModel(corpus, 100, alpha=\"auto\", id2word=dictinary, eval_every=0, passes=5)\n",
        "# -8.066113052577508 перплексия\n",
        "# 0.49396613933049643 когерентность\n",
        "#  Попробуем добавить биграммы."
      ],
      "execution_count": 0,
      "outputs": [
        {
          "output_type": "execute_result",
          "data": {
            "text/plain": [
              "[(10,\n",
              "  '0.260*\"дата-центр\" + 0.110*\"доверие\" + 0.081*\"регистрация\" + 0.064*\"образец\" + 0.064*\"фактор\" + 0.060*\"дц\" + 0.030*\"катастрофа\" + 0.024*\"снимать\" + 0.016*\"чинить\" + 0.016*\"риск\"'),\n",
              " (3,\n",
              "  '0.108*\"сообщество\" + 0.091*\"формула\" + 0.087*\"гонка\" + 0.050*\"телеметрия\" + 0.048*\"сектор\" + 0.032*\"трасса\" + 0.031*\"консорциум\" + 0.029*\"скотт\" + 0.026*\"секция\" + 0.022*\"заполнить\"'),\n",
              " (52,\n",
              "  '0.293*\"двигатель\" + 0.068*\"ступень\" + 0.054*\"пуск\" + 0.040*\"содержание\" + 0.031*\"ракета-носитель\" + 0.021*\"преобразователь\" + 0.020*\"игорь\" + 0.019*\"контур\" + 0.018*\"надёжность\" + 0.017*\"ток\"'),\n",
              " (18,\n",
              "  '0.116*\"доход\" + 0.068*\"налог\" + 0.060*\"работник\" + 0.052*\"налоговый\" + 0.043*\"предприниматель\" + 0.040*\"ип\" + 0.032*\"взнос\" + 0.028*\"деятельность\" + 0.024*\"расход\" + 0.021*\"грузовик\"'),\n",
              " (87,\n",
              "  '0.286*\"тк\" + 0.070*\"дорога\" + 0.069*\"сегмент\" + 0.058*\"идентификатор\" + 0.048*\"трекинг\" + 0.038*\"агрегат\" + 0.031*\"кубик\" + 0.029*\"интервал\" + 0.029*\"трек\" + 0.019*\"уникальность\"'),\n",
              " (36,\n",
              "  '0.411*\"энергия\" + 0.068*\"биткоина\" + 0.059*\"криптовалюта\" + 0.059*\"разрешать\" + 0.053*\"расширение\" + 0.050*\"биржа\" + 0.042*\"песочница\" + 0.027*\"расширяться\" + 0.021*\"вселенная\" + 0.016*\"замедляться\"'),\n",
              " (68,\n",
              "  '0.182*\"агент\" + 0.181*\"коммит\" + 0.113*\"репозиторий\" + 0.083*\"ветка\" + 0.038*\"трекер\" + 0.035*\"ревить\" + 0.024*\"указанный\" + 0.014*\"сантиметр\" + 0.013*\"прочить\" + 0.012*\"заголовок\"'),\n",
              " (5,\n",
              "  '0.196*\"каталог\" + 0.171*\"программный\" + 0.097*\"обеспечение\" + 0.086*\"инцидент\" + 0.046*\"комплекс\" + 0.044*\"плата\" + 0.033*\"”\" + 0.027*\"плагин\" + 0.026*\"нести\" + 0.024*\"финал\"'),\n",
              " (28,\n",
              "  '0.166*\"клетка\" + 0.074*\"ген\" + 0.042*\"деление\" + 0.028*\"днк\" + 0.028*\"молекула\" + 0.021*\"образование\" + 0.019*\"копия\" + 0.017*\"мутация\" + 0.016*\"контракт\" + 0.016*\"рост\"'),\n",
              " (16,\n",
              "  '0.089*\"вселенная\" + 0.053*\"галактика\" + 0.046*\"дочерний\" + 0.043*\"родительский\" + 0.034*\"тёмный\" + 0.033*\"паттерн\" + 0.027*\"материя\" + 0.026*\"звезда\" + 0.024*\"дерево\" + 0.024*\"гравитация\"'),\n",
              " (64,\n",
              "  '0.013*\"телефон\" + 0.010*\"поездка\" + 0.010*\"оператор\" + 0.010*\"звонок\" + 0.008*\"флешек\" + 0.008*\"обзор\" + 0.007*\"смартфон\" + 0.006*\"рубль\" + 0.006*\"планшет\" + 0.006*\"хватить\"'),\n",
              " (26,\n",
              "  '0.058*\"перевод\" + 0.023*\"локализация\" + 0.020*\"английский\" + 0.015*\"перевести\" + 0.012*\"переводчик\" + 0.012*\"предложение\" + 0.009*\"русский\" + 0.008*\"“\" + 0.007*\"”\" + 0.007*\"зрение\"'),\n",
              " (77,\n",
              "  '0.045*\"контейнер\" + 0.019*\"консоль\" + 0.015*\"порт\" + 0.015*\"перезагрузка\" + 0.014*\"директория\" + 0.013*\"нода\" + 0.011*\"лог\" + 0.011*\"конфига\" + 0.010*\"хост\" + 0.009*\"системный\"'),\n",
              " (58,\n",
              "  '0.047*\"доклад\" + 0.032*\"конференция\" + 0.018*\"робот\" + 0.015*\"мероприятие\" + 0.014*\"презентация\" + 0.012*\"участие\" + 0.011*\"выступление\" + 0.010*\"встреча\" + 0.008*\"спикер\" + 0.008*\"декабрь\"'),\n",
              " (60,\n",
              "  '0.020*\"реклама\" + 0.016*\"партнёр\" + 0.011*\"трафик\" + 0.011*\"рекламный\" + 0.008*\"маркетинг\" + 0.008*\"посетитель\" + 0.008*\"площадка\" + 0.007*\"аудитория\" + 0.007*\"час\" + 0.005*\"рекламодатель\"'),\n",
              " (86,\n",
              "  '0.008*\"офис\" + 0.006*\"речь\" + 0.006*\"общение\" + 0.005*\"умный\" + 0.005*\"ведущий\" + 0.004*\"труд\" + 0.004*\"общаться\" + 0.004*\"чувство\" + 0.004*\"директор\" + 0.004*\"диалог\"'),\n",
              " (85,\n",
              "  '0.020*\"репликация\" + 0.017*\"вычислительный\" + 0.014*\"нагрузка\" + 0.011*\"резервный\" + 0.011*\"задержка\" + 0.010*\"копирование\" + 0.010*\"восстановление\" + 0.009*\"копия\" + 0.009*\"синхронизация\" + 0.008*\"адаптер\"'),\n",
              " (46,\n",
              "  '0.015*\"байт\" + 0.012*\"регистр\" + 0.009*\"возвращать\" + 0.009*\"битый\" + 0.008*\"таймер\" + 0.007*\"чтение\" + 0.007*\"инструкция\" + 0.006*\"драйвер\" + 0.006*\"приём\" + 0.006*\"компилятор\"'),\n",
              " (69,\n",
              "  '0.011*\"инвестиция\" + 0.010*\"рост\" + 0.008*\"инвестор\" + 0.007*\"директор\" + 0.006*\"программный\" + 0.006*\"доля\" + 0.006*\"миллиард\" + 0.006*\"фонд\" + 0.006*\"стартап\" + 0.005*\"затрата\"'),\n",
              " (44,\n",
              "  '0.010*\"функциональный\" + 0.007*\"любить\" + 0.007*\"совет\" + 0.006*\"назад\" + 0.005*\"асинхронный\" + 0.005*\"намного\" + 0.005*\"менеджер\" + 0.005*\"’ом\" + 0.005*\"компонента\" + 0.005*\"шаблон\"')]"
            ]
          },
          "metadata": {
            "tags": []
          },
          "execution_count": 99
        }
      ]
    },
    {
      "cell_type": "code",
      "metadata": {
        "id": "5bt3QUvowcqR",
        "colab_type": "code",
        "colab": {}
      },
      "source": [
        ""
      ],
      "execution_count": 0,
      "outputs": []
    },
    {
      "cell_type": "code",
      "metadata": {
        "colab_type": "code",
        "outputId": "75742abe-0b41-4394-f917-9cbf107c3875",
        "id": "tf6rCZCXGyEM",
        "colab": {
          "base_uri": "https://localhost:8080/",
          "height": 717
        }
      },
      "source": [
        "lda.print_topics() \n",
        "#lda = gensim.models.LdaModel(corpus, 100, alpha=\"auto\", id2word=dictinary, eval_every=0, passes=5)\n",
        "# -8.066113052577508 перплексия\n",
        "# 0.49396613933049643 когерентность\n",
        "# Пока это лучшая модель в ЛДА. Попробуем добавить ниграммы. Судя по всему, лучше не становится"
      ],
      "execution_count": 0,
      "outputs": [
        {
          "output_type": "execute_result",
          "data": {
            "text/plain": [
              "[(24,\n",
              "  '0.125*\"переключатель\" + 0.076*\"интуиция\" + 0.068*\"пропорция\" + 0.065*\"умение\" + 0.057*\"продвижение\" + 0.051*\"гарантия\" + 0.050*\"портфолио\" + 0.041*\"золото\" + 0.031*\"пирамида\" + 0.030*\"по-новому\"'),\n",
              " (51,\n",
              "  '0.222*\"приёмник\" + 0.096*\"стрелка\" + 0.058*\"ван\" + 0.052*\"конструкция\" + 0.052*\"полёт\" + 0.044*\"регулятор\" + 0.034*\"оборот\" + 0.028*\"верификация\" + 0.028*\"высота\" + 0.026*\"м/с\"'),\n",
              " (56,\n",
              "  '0.249*\"лог\" + 0.194*\"тк\" + 0.071*\"ибо\" + 0.063*\"логово\" + 0.048*\"сообщить\" + 0.042*\"автопилот\" + 0.032*\"дтп\" + 0.029*\"экспорт\" + 0.026*\"экспортировать\" + 0.020*\"записать\"'),\n",
              " (54,\n",
              "  '0.139*\"болезнь\" + 0.080*\"‘’\" + 0.065*\"германия\" + 0.065*\"транзистор\" + 0.049*\"больной\" + 0.043*\"болеть\" + 0.026*\"век\" + 0.020*\"диагноз\" + 0.019*\"закон\" + 0.019*\"лечение\"'),\n",
              " (40,\n",
              "  '0.178*\"частица\" + 0.123*\"квантовый\" + 0.095*\"чёрный\" + 0.067*\"секция\" + 0.040*\"горизонт\" + 0.037*\"где-нибудь\" + 0.036*\"акция\" + 0.025*\"дыра\" + 0.022*\"материальный\" + 0.015*\"физика\"'),\n",
              " (6,\n",
              "  '0.264*\"музыка\" + 0.086*\"музыкальный\" + 0.086*\"релиз\" + 0.043*\"популярность\" + 0.038*\"контент\" + 0.028*\"трек\" + 0.026*\"электронный\" + 0.024*\"синтез\" + 0.019*\"рекламодатель\" + 0.017*\"исполнитель\"'),\n",
              " (91,\n",
              "  '0.164*\"анимация\" + 0.087*\"персонаж\" + 0.079*\"кадр\" + 0.074*\"сцена\" + 0.062*\"спрайт\" + 0.021*\"прыжок\" + 0.019*\"поворот\" + 0.014*\"шлем\" + 0.012*\"вертикальный\" + 0.011*\"движок\"'),\n",
              " (7,\n",
              "  '0.142*\"реагировать\" + 0.121*\"торговый\" + 0.082*\"вертикаль\" + 0.080*\"фильм\" + 0.080*\"рейтинг\" + 0.074*\"горизонталь\" + 0.064*\"лёгкое\" + 0.057*\"потоковый\" + 0.037*\"горизонтальный\" + 0.036*\"автомобильный\"'),\n",
              " (86,\n",
              "  '0.144*\"дерево\" + 0.062*\"блокировать\" + 0.043*\"мм\" + 0.041*\"ребро\" + 0.035*\"луч\" + 0.034*\"узел\" + 0.025*\"сантиметр\" + 0.023*\"видимый\" + 0.020*\"сектор\" + 0.018*\"построение\"'),\n",
              " (95,\n",
              "  '0.502*\"сигнал\" + 0.057*\"аномалия\" + 0.032*\"секрет\" + 0.023*\"входной\" + 0.020*\"эталонный\" + 0.019*\"амплитуда\" + 0.016*\"шум\" + 0.014*\"частота\" + 0.013*\"истечение\" + 0.012*\"всплеск\"'),\n",
              " (33,\n",
              "  '0.015*\"кабель\" + 0.013*\"производство\" + 0.012*\"камера\" + 0.011*\"помещение\" + 0.009*\"электроника\" + 0.007*\"панель\" + 0.006*\"сигнал\" + 0.006*\"антенна\" + 0.006*\"провод\" + 0.006*\"питание\"'),\n",
              " (71,\n",
              "  '0.016*\"сертификат\" + 0.011*\"наблюдение\" + 0.009*\"подпись\" + 0.009*\"контакт\" + 0.008*\"закрытый\" + 0.006*\"храниться\" + 0.006*\"р\" + 0.006*\"влияние\" + 0.005*\"речь\" + 0.005*\"военный\"'),\n",
              " (12,\n",
              "  '0.023*\"пол\" + 0.023*\"исходный\" + 0.021*\"статический\" + 0.017*\"атрибут\" + 0.017*\"полый\" + 0.015*\"временной\" + 0.014*\"метаданные\" + 0.013*\"оператор\" + 0.013*\"макрос\" + 0.013*\"выражение\"'),\n",
              " (37,\n",
              "  '0.019*\"порт\" + 0.018*\"протокол\" + 0.016*\"сетевой\" + 0.014*\"драйвер\" + 0.013*\"миграция\" + 0.010*\"соединение\" + 0.009*\"метка\" + 0.009*\"отчёт\" + 0.008*\"динамический\" + 0.008*\"пользовательский\"'),\n",
              " (61,\n",
              "  '0.013*\"облачный\" + 0.010*\"подборка\" + 0.009*\"аудитория\" + 0.006*\"проведение\" + 0.006*\"сценарий\" + 0.006*\"оптимальный\" + 0.006*\"аналитик\" + 0.005*\"разбираться\" + 0.005*\"обучение\" + 0.005*\"целевой\"'),\n",
              " (78,\n",
              "  '0.012*\"инвестиция\" + 0.012*\"партнёр\" + 0.011*\"покупка\" + 0.009*\"реклама\" + 0.008*\"доллар\" + 0.008*\"оплата\" + 0.008*\"магазин\" + 0.008*\"посетитель\" + 0.007*\"владелец\" + 0.007*\"рекламный\"'),\n",
              " (74,\n",
              "  '0.025*\"игровой\" + 0.023*\"игрок\" + 0.015*\"дизайнер\" + 0.007*\"движок\" + 0.006*\"жанр\" + 0.006*\"индустрия\" + 0.005*\"чувствовать\" + 0.005*\"компьютерный\" + 0.005*\"серия\" + 0.005*\"интерес\"'),\n",
              " (90,\n",
              "  '0.008*\"зрение\" + 0.008*\"сценарий\" + 0.008*\"риска\" + 0.006*\"видимость\" + 0.006*\"сталкиваться\" + 0.005*\"масштаб\" + 0.005*\"менеджер\" + 0.004*\"кейс\" + 0.004*\"стадия\" + 0.004*\"баг\"'),\n",
              " (98,\n",
              "  '0.023*\"бот\" + 0.007*\"ноутбук\" + 0.007*\"фильм\" + 0.007*\"чат\" + 0.005*\"скачать\" + 0.005*\"релиз\" + 0.005*\"гб\" + 0.005*\"какой-нибудь\" + 0.005*\"диск\" + 0.004*\"назад\"'),\n",
              " (84,\n",
              "  '0.023*\"контейнер\" + 0.016*\"папка\" + 0.014*\"консоль\" + 0.012*\"пароль\" + 0.010*\"окно\" + 0.010*\"нажать\" + 0.010*\"нажатие\" + 0.007*\"системный\" + 0.007*\"сборка\" + 0.007*\"ввести\"')]"
            ]
          },
          "metadata": {
            "tags": []
          },
          "execution_count": 114
        }
      ]
    },
    {
      "cell_type": "markdown",
      "metadata": {
        "id": "eUL_K_8Uh4T0",
        "colab_type": "text"
      },
      "source": [
        "## **NMF**"
      ]
    },
    {
      "cell_type": "code",
      "metadata": {
        "id": "fEg2tz_AYdir",
        "colab_type": "code",
        "colab": {}
      },
      "source": [
        "from sklearn.decomposition import NMF\n",
        "from sklearn.feature_extraction.text import CountVectorizer, TfidfVectorizer\n",
        "import pandas as pd"
      ],
      "execution_count": 0,
      "outputs": []
    },
    {
      "cell_type": "code",
      "metadata": {
        "id": "nBhaAbDMYwZd",
        "colab_type": "code",
        "colab": {}
      },
      "source": [
        "stexts = [' '.join(text) for text in texts]"
      ],
      "execution_count": 0,
      "outputs": []
    },
    {
      "cell_type": "code",
      "metadata": {
        "id": "gZHt5iqmYwxf",
        "colab_type": "code",
        "colab": {}
      },
      "source": [
        "vectorizer = TfidfVectorizer(max_features=1000, min_df=10, max_df=0.5, ngram_range=(1,2))\n",
        "X = vectorizer.fit_transform(stexts)"
      ],
      "execution_count": 0,
      "outputs": []
    },
    {
      "cell_type": "code",
      "metadata": {
        "id": "KE7ToGqTY0DA",
        "colab_type": "code",
        "colab": {}
      },
      "source": [
        "# n_components - главный параметр в NMF, это количество тем. \n",
        "# Если данных много, то увеличения этого параметра сильно увеличивает время обучения\n",
        "model = NMF(n_components=60, alpha=1.0)"
      ],
      "execution_count": 0,
      "outputs": []
    },
    {
      "cell_type": "code",
      "metadata": {
        "id": "x3z-sApSY3GG",
        "colab_type": "code",
        "outputId": "91bf1132-48e4-41d7-d07d-2013a687b0be",
        "colab": {
          "base_uri": "https://localhost:8080/",
          "height": 68
        }
      },
      "source": [
        "model.fit(X)"
      ],
      "execution_count": 0,
      "outputs": [
        {
          "output_type": "execute_result",
          "data": {
            "text/plain": [
              "NMF(alpha=1.0, beta_loss='frobenius', init=None, l1_ratio=0.0, max_iter=200,\n",
              "    n_components=60, random_state=None, shuffle=False, solver='cd', tol=0.0001,\n",
              "    verbose=0)"
            ]
          },
          "metadata": {
            "tags": []
          },
          "execution_count": 106
        }
      ]
    },
    {
      "cell_type": "code",
      "metadata": {
        "id": "ykxqmY-nZJ-X",
        "colab_type": "code",
        "outputId": "f9d65d7b-1141-434d-df90-3118abbbc821",
        "colab": {
          "base_uri": "https://localhost:8080/",
          "height": 34
        }
      },
      "source": [
        "model.components_.shape # матрица темы на слова"
      ],
      "execution_count": 0,
      "outputs": [
        {
          "output_type": "execute_result",
          "data": {
            "text/plain": [
              "(60, 1000)"
            ]
          },
          "metadata": {
            "tags": []
          },
          "execution_count": 107
        }
      ]
    },
    {
      "cell_type": "code",
      "metadata": {
        "id": "TQsocOfLZMWP",
        "colab_type": "code",
        "outputId": "56931894-e91d-4559-ac85-c3379be9e745",
        "colab": {
          "base_uri": "https://localhost:8080/",
          "height": 34
        }
      },
      "source": [
        "model.transform(X).shape # матрица документы на темы"
      ],
      "execution_count": 0,
      "outputs": [
        {
          "output_type": "execute_result",
          "data": {
            "text/plain": [
              "(4121, 60)"
            ]
          },
          "metadata": {
            "tags": []
          },
          "execution_count": 108
        }
      ]
    },
    {
      "cell_type": "code",
      "metadata": {
        "id": "G4NEC92GZN81",
        "colab_type": "code",
        "colab": {}
      },
      "source": [
        "pd.set_option('display.max_columns', 100)\n",
        "pd.set_option('display.max_rows', 100)"
      ],
      "execution_count": 0,
      "outputs": []
    },
    {
      "cell_type": "code",
      "metadata": {
        "id": "4jkQFMKrZQim",
        "colab_type": "code",
        "colab": {}
      },
      "source": [
        "feat_names = vectorizer.get_feature_names()"
      ],
      "execution_count": 0,
      "outputs": []
    },
    {
      "cell_type": "markdown",
      "metadata": {
        "id": "WH_2FXowwTAa",
        "colab_type": "text"
      },
      "source": [
        "**# Здесь я менял параметры и расширил список топиков, чтобы посмотреть ,что стало хуже, потому что сразу все отработало сравнительно неплохо сразу. От увеличения трэшхолда энграммов лучше не стало(но и сильно хуже тоже), до единицы alpha улучшает результат в метрике, после единицы становится хуже. Визуально неплохо везде. Мне кажется гораздо лучше, чем LDA.**\n",
        "Опять же, оставил несколько промежуточных результатов.\n",
        "\n",
        "# **Модель взял по метрике:**\n",
        "NMF(n_components=60, alpha=1.0), TfidfVectorizer(max_features=1000, min_df=10, max_df=0.5, ngram_range=(1,2)), 50.742120893393576\n",
        "\n",
        "**Топ тем:**\n",
        "\n",
        "**1) атака  безопасность  защита  информационный  пароль  доступ  инфраструктура  информация  интернет**\n",
        "\n",
        "**2) проект  разработчик  разработка  создание  сборка  продукт  инструмент  идея  заказчик**\n",
        "\n",
        "**3) модель  обучение  алгоритм  сеть  признак  слой  набор  вектор  област**ь\n",
        "\n",
        "**Темы NMF мне нравятся больше, чем в LDA, и к тому же, с ней не пришлось столько возиться.** \n"
      ]
    },
    {
      "cell_type": "code",
      "metadata": {
        "id": "u-p5RBHSxv4b",
        "colab_type": "code",
        "outputId": "84517799-249e-4f58-91a9-51e7d30565bd",
        "colab": {
          "base_uri": "https://localhost:8080/",
          "height": 1000
        }
      },
      "source": [
        "#NMF(n_components=60, alpha=1.0), TfidfVectorizer(max_features=1000, min_df=10, max_df=0.5, ngram_range=(1,2)), 50.742120893393576\n",
        "top_words = model.components_.argsort()[:,:-10:-1]\n",
        "for i in range(top_words.shape[0]):\n",
        "    words = [feat_names[j] for j in top_words[i]]\n",
        "    print(i, \"  \".join(words))"
      ],
      "execution_count": 0,
      "outputs": [
        {
          "output_type": "stream",
          "text": [
            "0 какой  какой то  что  что то  дело  ваш  проблема  хотеть  знать\n",
            "1 класс  метод  тип  реализация  вызов  объект  библиотека  свойство  интерфейс\n",
            "2 игра  игрок  игровой  играть  разработчик  уровень  разработка  мир  мобильный\n",
            "3 сервис  облачный  контейнер  доступ  пользователь  облако  запрос  приложение  платформа\n",
            "4 устройство  умный  мобильный  производитель  управление  драйвер  смартфон  передача  обновление\n",
            "5 приложение  мобильный  разработка  разработчик  ваш  платформа  библиотека  веб  создание\n",
            "6 компания  сотрудник  рынок  миллион  бизнес  директор  продажа  крупный  миллиард\n",
            "7 пользователь  продукт  пароль  информация  доступ  пользовательский  аудитория  запись  интерфейс\n",
            "8 учёный  исследование  научный  исследователь  университет  результат  температура  группа  обнаружить\n",
            "9 файл  папка  скрипт  строка  пароль  создать  настройка  имя  запускать\n",
            "10 код  библиотека  ошибка  исходный код  исходный  написать  компилятор  переменный  разработчик\n",
            "11 сайт  реклама  домен  контент  адрес  страница  ресурс  трафик  провайдер\n",
            "12 сеть  трафик  связь  интернет  доступ  оператор  сетевой  протокол  социальный\n",
            "13 доклад  конференция  разработчик  тема  участник  видео  рассказать  ноябрь  участие\n",
            "14 задача  решение  процесс  сотрудник  проблема  задание  решать  оценка  обучение\n",
            "15 тест  тестирование  тестовый  результат  производительность  библиотека  проверка  проблема  писать\n",
            "16 блок  транзакция  кнопка  позиция  менять  переменный  длина  общий  управление\n",
            "17 бот  скрипт  сообщение  канал  пользователь  игрок  ссылка  команда  отправлять\n",
            "18 российский  документ  россия  закон  страна  информация  рынок  сша  оператор\n",
            "19 запрос  таблица  база  база дать  строка  индекс  ответ  выполнение  запись\n",
            "20 атака  безопасность  защита  информационный  пароль  доступ  инфраструктура  информация  интернет\n",
            "21 печать  принтер  материал  мм  производство  деталь  слой  форма  конструкция\n",
            "22 виртуальный  машина  виртуальный машина  резервный  реальность  хост  облако  копия  среда\n",
            "23 камера  видео  кадр  движение  разрешение  фотография  мм  гб  датчик\n",
            "24 вселенная  теория  миллиард  скорость  пространство  её  свет  земля  энергия\n",
            "25 космический  аппарат  земля  станция  поверхность  запуск  метр  фотография  расстояние\n",
            "26 процессор  память  ядро  гб  производительность  ноутбук  инструкция  архитектура  компьютер\n",
            "27 дата центр  центр  дата  оборудование  инфраструктура  услуга  облако  провайдер  облачный\n",
            "28 сигнал  звук  частота  канал  диапазон  качество  передача  фильтр  связь\n",
            "29 язык  программирование  программист  перевод  разработчик  разработка  текст  слово  курс\n",
            "30 ключ  сертификат  пароль  открытый  доступ  запись  проверка  список  безопасность\n",
            "31 сообщение  письмо  адрес  отправка  отправлять  канал  байт  ваш  событие\n",
            "32 клиент  услуга  бизнес  ваш  заказчик  письмо  оператор  номер  продажа\n",
            "33 функция  вызов  аргумент  строка  переменный  код  параметр  возвращать  указатель\n",
            "34 робот  ребёнок  датчик  движение  машина  набор  способный  скорость  будущее\n",
            "35 проект  разработчик  разработка  создание  сборка  продукт  инструмент  идея  заказчик\n",
            "36 товар  скидка  магазин  цена  покупка  продажа  заказ  чёрный  день\n",
            "37 плата  температура  напряжение  питание  датчик  корпус  контроллер  мм  схема\n",
            "38 объект  свойство  тип  метод  значение  операция  свет  менять  изменение\n",
            "39 сервер  домен  настройка  адрес  база  конфигурация  нагрузка  выделить  скрипт\n",
            "40 уязвимость  обновление  безопасность  пароль  удалённый  драйвер  исследователь  обнаружить  новость\n",
            "41 книга  читать  часы  профессиональный  электронный  друг  совет  путь  письмо\n",
            "42 изображение  фотография  картинка  кадр  слой  цвет  анимация  цвета  глаз\n",
            "43 карта  точка  номер  координата  страна  канал  город  линия  группа\n",
            "44 команда  продукт  разработчик  разработка  процесс  участник  менеджер  запустить  запуск\n",
            "45 модуль  контроллер  компонент  добавить  поддержка  зависимость  файл  подключение  ядро\n",
            "46 автомобиль  машина  метр  скорость  технология  компания  информация  безопасность  движение\n",
            "47 программа  компьютер  компьютерный  программный  программирование  программный обеспечение  обеспечение  операционный  программист\n",
            "48 человек  жизнь  ребёнок  человек который  мир  социальный  страна  день  говорить\n",
            "49 модель  обучение  алгоритм  сеть  признак  слой  набор  вектор  область\n",
            "50 смартфон  телефон  экран  гб  кнопка  корпус  цена  ноутбук  устройство\n",
            "51 мозг  пациент  глаз  операция  человек  движение  область  рука  исследование\n",
            "52 рубль  сумма  цена  деньга  месяц  тысяча  стоимость  миллион  услуга\n",
            "53 диск  запись  хранение  хранилище  база  чтение  резервный  информация  копия\n",
            "54 браузер  страница  веб  версия  плагин  ссылка  расширение  сайт  стиль\n",
            "55 элемент  компонент  свойство  состояние  список  часть  анимация  пример  событие\n",
            "56 значение  число  массив  алгоритм  переменный  тип  строка  точка  символ\n",
            "57 технология  решение  облачный  рынок  платформа  продукт  бизнес  облако  инфраструктура\n",
            "58 энергия  источник  панель  мощность  страна  производство  вода  технология  метр\n",
            "59 пакет  версия  репозиторий  сборка  установка  плагин  настройка  контейнер  поддержка\n"
          ],
          "name": "stdout"
        }
      ]
    },
    {
      "cell_type": "code",
      "metadata": {
        "id": "EgOq3SAWxONC",
        "colab_type": "code",
        "outputId": "fdc0c1c8-d382-433d-a52f-973845e882ff",
        "colab": {
          "base_uri": "https://localhost:8080/",
          "height": 867
        }
      },
      "source": [
        "#model = NMF(n_components=40, alpha=1.0), TfidfVectorizer(max_features=1000, min_df=10, max_df=0.5, ngram_range=(1,3)), 53.07881347524317\n",
        "top_words = model.components_.argsort()[:,:-10:-1]\n",
        "for i in range(top_words.shape[0]):\n",
        "    words = [feat_names[j] for j in top_words[i]]\n",
        "    print(i, \"  \".join(words))"
      ],
      "execution_count": 0,
      "outputs": [
        {
          "output_type": "stream",
          "text": [
            "0 человек  какой  что  какой то  что то  ваш  дело  хотеть  знать\n",
            "1 класс  метод  тип  объект  реализация  свойство  код  вызов  библиотека\n",
            "2 игра  игрок  игровой  играть  разработчик  уровень  разработка  мир  мобильный\n",
            "3 сервис  облачный  технология  облако  платформа  инфраструктура  услуга  рынок  мобильный\n",
            "4 смартфон  телефон  экран  модель  гб  корпус  цена  кнопка  ноутбук\n",
            "5 приложение  мобильный  разработка  разработчик  платформа  ваш  пользователь  библиотека  веб\n",
            "6 компания  сотрудник  рынок  бизнес  продукт  директор  миллион  продажа  крупный\n",
            "7 пользователь  сообщение  продукт  пароль  информация  браузер  сервис  страница  приложение\n",
            "8 человек  учёный  мозг  исследование  пациент  исследователь  научный  университет  жизнь\n",
            "9 файл  папка  скрипт  строка  настройка  пароль  создать  программа  добавить\n",
            "10 код  библиотека  ошибка  исходный код  исходный  написать  программа  разработчик  компилятор\n",
            "11 сайт  страница  реклама  браузер  контент  домен  веб  адрес  ссылка\n",
            "12 сеть  трафик  связь  интернет  оператор  адрес  доступ  протокол  пакет\n",
            "13 доклад  конференция  разработчик  тема  участник  видео  рассказать  ноябрь  участие\n",
            "14 изображение  обучение  алгоритм  модель  слой  картинка  фотография  сеть  кадр\n",
            "15 тест  тестирование  тестовый  результат  производительность  код  проблема  библиотека  компонент\n",
            "16 блок  кнопка  транзакция  контроллер  значение  переменный  питание  позиция  схема\n",
            "17 бот  сообщение  канал  скрипт  отправлять  игрок  пользователь  отправка  команда\n",
            "18 товар  скидка  магазин  цена  покупка  продажа  заказ  чёрный  день\n",
            "19 запрос  таблица  база  строка  база дать  индекс  страница  ответ  запись\n",
            "20 атака  безопасность  защита  программа  информационный  доступ  информация  обеспечение  интернет\n",
            "21 печать  принтер  мм  материал  производство  температура  деталь  модель  корпус\n",
            "22 виртуальный  машина  виртуальный машина  реальность  резервный  облако  хост  технология  облачный\n",
            "23 камера  видео  кадр  датчик  движение  разрешение  фотография  мм  смартфон\n",
            "24 вселенная  энергия  теория  свет  учёный  температура  скорость  земля  миллиард\n",
            "25 космический  аппарат  земля  станция  поверхность  учёный  запуск  научный  программа\n",
            "26 процессор  память  ядро  гб  производительность  компьютер  программа  ноутбук  инструкция\n",
            "27 дата центр  центр  дата  оборудование  инфраструктура  услуга  облачный  компания  облако\n",
            "28 сигнал  частота  напряжение  диапазон  канал  значение  плата  связь  мощность\n",
            "29 язык  программирование  программист  перевод  программа  разработчик  разработка  текст  слово\n",
            "30 ключ  сертификат  пароль  сообщение  открытый  адрес  запись  доступ  письмо\n",
            "31 книга  читать  часы  профессиональный  человек  электронный  друг  письмо  совет\n",
            "32 клиент  услуга  бизнес  ваш  письмо  заказчик  номер  оператор  продажа\n",
            "33 функция  значение  переменный  массив  строка  код  тип  вызов  аргумент\n",
            "34 робот  ребёнок  человек  датчик  движение  обучение  машина  набор  способный\n",
            "35 проект  разработка  разработчик  продукт  команда  создание  технология  платформа  инструмент\n",
            "36 звук  частота  качество  материал  читать  технология  видео  характеристика  формат\n",
            "37 команда  продукт  разработчик  разработка  процесс  менеджер  участник  задача  запустить\n",
            "38 объект  свойство  модель  тип  метод  значение  класс  операция  точка\n",
            "39 уязвимость  обновление  безопасность  пароль  браузер  исследователь  код  удалённый  драйвер\n",
            "40 сервер  домен  адрес  настройка  база  конфигурация  клиент  нагрузка  запрос\n",
            "41 диск  запись  хранение  база  память  хранилище  база дать  резервный  информация\n",
            "42 устройство  мобильный  смартфон  умный  производитель  датчик  управление  технология  режим\n",
            "43 карта  точка  номер  координата  страна  алгоритм  канал  город  оператор\n",
            "44 модуль  контроллер  компонент  плата  добавить  модель  функция  подключение  питание\n",
            "45 версия  пакет  плагин  сборка  репозиторий  установка  поддержка  настройка  браузер\n",
            "46 автомобиль  машина  технология  модель  метр  компания  человек  скорость  производство\n",
            "47 элемент  компонент  страница  свойство  состояние  анимация  значение  список  часть\n",
            "48 задача  решение  обучение  процесс  алгоритм  модель  разработка  бизнес  проблема\n",
            "49 российский  рубль  россия  рынок  страна  закон  миллион  компания  деньга\n"
          ],
          "name": "stdout"
        }
      ]
    },
    {
      "cell_type": "code",
      "metadata": {
        "id": "64yyBQOUwwbR",
        "colab_type": "code",
        "outputId": "1c4d0510-05d6-42b2-899a-7d95c529d8d6",
        "colab": {
          "base_uri": "https://localhost:8080/",
          "height": 697
        }
      },
      "source": [
        "#model = NMF(n_components=40, alpha=2.0), TfidfVectorizer(max_features=1000, min_df=10, max_df=0.5, ngram_range=(1,3)), 53.92069351629626\n",
        "top_words = model.components_.argsort()[:,:-10:-1]\n",
        "for i in range(top_words.shape[0]):\n",
        "    words = [feat_names[j] for j in top_words[i]]\n",
        "    print(i, \"  \".join(words))"
      ],
      "execution_count": 0,
      "outputs": [
        {
          "output_type": "stream",
          "text": [
            "0 человек  какой  что  какой то  что то  ваш  дело  хотеть  знать\n",
            "1 код  библиотека  ошибка  метод  функция  написать  исходный код  исходный  компилятор\n",
            "2 игра  игрок  игровой  играть  разработчик  уровень  мир  разработка  мобильный\n",
            "3 сервер  домен  настройка  адрес  база  конфигурация  клиент  запрос  скрипт\n",
            "4 устройство  смартфон  мобильный  телефон  производитель  умный  датчик  технология  режим\n",
            "5 приложение  мобильный  разработка  разработчик  ваш  платформа  пользователь  библиотека  версия\n",
            "6 компания  сотрудник  рынок  бизнес  миллион  российский  директор  крупный  миллиард\n",
            "7 пользователь  продукт  пароль  браузер  информация  приложение  доступ  интерфейс  проблема\n",
            "8 человек  учёный  мозг  исследование  пациент  исследователь  научный  университет  жизнь\n",
            "9 файл  скрипт  папка  строка  команда  настройка  пакет  модуль  добавить\n",
            "10 программа  компьютер  компьютерный  программирование  программный  программист  программный обеспечение  университет  обеспечение\n",
            "11 сайт  страница  браузер  реклама  элемент  контент  веб  ссылка  домен\n",
            "12 сеть  трафик  связь  интернет  оператор  пакет  доступ  канал  протокол\n",
            "13 доклад  конференция  разработчик  тема  участник  видео  рассказать  участие  ноябрь\n",
            "14 задача  обучение  решение  алгоритм  модель  изображение  процесс  результат  область\n",
            "15 тест  тестирование  тестовый  результат  производительность  компонент  проблема  код  команда\n",
            "16 функция  значение  элемент  переменный  массив  строка  число  тип  блок\n",
            "17 бот  сообщение  команда  скрипт  канал  пользователь  игрок  человек  изображение\n",
            "18 товар  скидка  цена  рубль  магазин  покупка  россия  продажа  день\n",
            "19 запрос  таблица  база  база дать  строка  индекс  страница  запись  ответ\n",
            "20 атака  безопасность  защита  информационный  информация  доступ  сайт  интернет  инфраструктура\n",
            "21 печать  принтер  мм  материал  производство  модель  температура  элемент  деталь\n",
            "22 виртуальный  машина  виртуальный машина  реальность  резервный  автомобиль  облако  технология  хост\n",
            "23 камера  смартфон  видео  изображение  экран  карта  модель  разрешение  кадр\n",
            "24 вселенная  энергия  свет  теория  объект  учёный  скорость  земля  температура\n",
            "25 космический  аппарат  земля  станция  поверхность  учёный  запуск  научный  метр\n",
            "26 процессор  память  ядро  модуль  гб  производительность  версия  ноутбук  поддержка\n",
            "27 дата центр  центр  дата  оборудование  инфраструктура  услуга  компания  облачный  облако\n",
            "28 сигнал  звук  частота  напряжение  диапазон  канал  плата  мощность  значение\n",
            "29 язык  программирование  перевод  программист  разработчик  разработка  текст  слово  библиотека\n",
            "30 ключ  сертификат  пароль  открытый  запись  доступ  алгоритм  пользователь  проверка\n",
            "31 сервис  облачный  технология  облако  платформа  рынок  инфраструктура  услуга  решение\n",
            "32 клиент  бизнес  услуга  ваш  заказчик  письмо  сотрудник  компания  оператор\n",
            "33 книга  читать  часы  профессиональный  человек  друг  электронный  совет  письмо\n",
            "34 робот  автомобиль  ребёнок  человек  датчик  машина  движение  обучение  метр\n",
            "35 проект  команда  разработка  разработчик  продукт  задача  инструмент  заказчик  создание\n",
            "36 диск  запись  блок  хранение  база  память  хранилище  чтение  резервный\n",
            "37 объект  класс  метод  тип  свойство  элемент  значение  компонент  реализация\n",
            "38 сообщение  адрес  письмо  отправка  сервис  отправлять  ваш  канал  команда\n",
            "39 уязвимость  обновление  безопасность  браузер  версия  пароль  команда  код  удалённый\n"
          ],
          "name": "stdout"
        }
      ]
    },
    {
      "cell_type": "code",
      "metadata": {
        "id": "zeYkPwDKvKOI",
        "colab_type": "code",
        "outputId": "39d99210-84e1-43b8-a58b-b85eb0b57af2",
        "colab": {
          "base_uri": "https://localhost:8080/",
          "height": 697
        }
      },
      "source": [
        "#model = NMF(n_components=40, alpha=1.0), TfidfVectorizer(max_features=1000, min_df=10, max_df=0.5, ngram_range=(1,2)), 52.811976340327874\n",
        "top_words = model.components_.argsort()[:,:-10:-1]\n",
        "for i in range(top_words.shape[0]):\n",
        "    words = [feat_names[j] for j in top_words[i]]\n",
        "    print(i, \"  \".join(words))"
      ],
      "execution_count": 0,
      "outputs": [
        {
          "output_type": "stream",
          "text": [
            "0 человек  какой  что  какой то  что то  ваш  дело  хотеть  знать\n",
            "1 класс  метод  тип  объект  реализация  свойство  вызов  библиотека  интерфейс\n",
            "2 игра  игрок  игровой  играть  разработчик  уровень  мир  мобильный  разработка\n",
            "3 сервер  клиент  домен  адрес  настройка  конфигурация  база  нагрузка  выделить\n",
            "4 устройство  смартфон  мобильный  телефон  производитель  умный  технология  датчик  режим\n",
            "5 приложение  мобильный  разработка  разработчик  платформа  пользователь  ваш  библиотека  веб\n",
            "6 компания  сотрудник  рынок  бизнес  миллион  российский  директор  крупный  продукт\n",
            "7 пользователь  сервис  клиент  сообщение  письмо  продукт  информация  интерфейс  ваш\n",
            "8 человек  учёный  мозг  исследование  пациент  исследователь  научный  университет  группа\n",
            "9 файл  папка  скрипт  строка  пароль  создать  настройка  имя  программа\n",
            "10 код  библиотека  ошибка  исходный код  исходный  написать  программа  компилятор  разработчик\n",
            "11 сайт  страница  реклама  браузер  контент  домен  веб  пользователь  адрес\n",
            "12 сеть  трафик  интернет  связь  оператор  доступ  адрес  протокол  сетевой\n",
            "13 доклад  конференция  разработчик  тема  участник  видео  рассказать  участие  ноябрь\n",
            "14 задача  обучение  алгоритм  решение  модель  изображение  результат  область  анализ\n",
            "15 тест  тестирование  тестовый  результат  производительность  проблема  писать  библиотека  проверка\n",
            "16 элемент  компонент  свойство  страница  анимация  состояние  список  часть  значение\n",
            "17 бот  сообщение  канал  скрипт  игрок  отправлять  отправка  команда  ссылка\n",
            "18 товар  скидка  цена  магазин  рубль  покупка  продажа  россия  день\n",
            "19 запрос  таблица  база  база дать  запись  индекс  строка  сервис  страница\n",
            "20 уязвимость  атака  безопасность  защита  пароль  информационный  доступ  обновление  исследователь\n",
            "21 печать  принтер  материал  мм  производство  модель  деталь  слой  корпус\n",
            "22 виртуальный  машина  виртуальный машина  резервный  реальность  технология  облако  автомобиль  хост\n",
            "23 камера  видео  смартфон  экран  изображение  карта  разрешение  кадр  телефон\n",
            "24 вселенная  энергия  теория  свет  температура  скорость  миллиард  пространство  учёный\n",
            "25 космический  аппарат  земля  станция  поверхность  запуск  учёный  программа  научный\n",
            "26 модуль  компонент  контроллер  добавить  ядро  плата  модель  поддержка  подключение\n",
            "27 дата центр  центр  дата  оборудование  инфраструктура  услуга  облачный  облако  провайдер\n",
            "28 сигнал  звук  частота  канал  диапазон  качество  напряжение  уровень  передача\n",
            "29 язык  программирование  программист  перевод  программа  разработчик  разработка  текст  компьютер\n",
            "30 ключ  сертификат  пароль  открытый  запись  доступ  проверка  алгоритм  адрес\n",
            "31 книга  читать  часы  профессиональный  электронный  друг  письмо  человек  совет\n",
            "32 робот  автомобиль  ребёнок  датчик  человек  машина  движение  метр  обучение\n",
            "33 функция  значение  переменный  строка  массив  вызов  аргумент  тип  число\n",
            "34 версия  пакет  плагин  браузер  сборка  поддержка  репозиторий  установка  релиз\n",
            "35 проект  разработка  разработчик  технология  задача  платформа  продукт  создание  заказчик\n",
            "36 объект  свойство  модель  точка  тип  значение  свет  операция  метод\n",
            "37 блок  плата  питание  контроллер  кнопка  напряжение  температура  датчик  схема\n",
            "38 память  процессор  диск  ядро  гб  производительность  компьютер  ноутбук  запись\n",
            "39 команда  продукт  задача  разработчик  разработка  процесс  менеджер  участник  инструмент\n"
          ],
          "name": "stdout"
        }
      ]
    },
    {
      "cell_type": "code",
      "metadata": {
        "id": "qbUkOBjbt2LO",
        "colab_type": "code",
        "outputId": "501ba2fa-386d-4c56-a4ce-4f2560bd0d50",
        "colab": {
          "base_uri": "https://localhost:8080/",
          "height": 697
        }
      },
      "source": [
        "#model = NMF(n_components=40), TfidfVectorizer(max_features=1000, min_df=10, max_df=0.3, ngram_range=(1,2))\n",
        "top_words = model.components_.argsort()[:,:-5:-1]\n",
        "for i in range(top_words.shape[0]):\n",
        "    words = [feat_names[j] for j in top_words[i]]\n",
        "    print(i, \"  \".join(words))"
      ],
      "execution_count": 0,
      "outputs": [
        {
          "output_type": "stream",
          "text": [
            "0 какой то  что то  думать  вообще\n",
            "1 российский  рынок  рубль  миллион\n",
            "2 игра  игрок  игровой  играть\n",
            "3 класс  метод  библиотека  вызов\n",
            "4 устройство  мобильный  умный  датчик\n",
            "5 продукт  мобильный  платформа  инструмент\n",
            "6 учёный  мозг  клетка  исследование\n",
            "7 язык  программирование  программист  программа\n",
            "8 атака  безопасность  защита  программа\n",
            "9 файл  папка  скрипт  строка\n",
            "10 доклад  конференция  тема  участник\n",
            "11 сайт  страница  браузер  реклама\n",
            "12 тест  тестирование  тестовый  библиотека\n",
            "13 запрос  таблица  строка  ответ\n",
            "14 сервер  настройка  домен  конфигурация\n",
            "15 космический  спутник  аппарат  земля\n",
            "16 обучение  изображение  алгоритм  модель\n",
            "17 сеть  трафик  связь  интернет\n",
            "18 бот  скрипт  канал  друг\n",
            "19 печать  принтер  мм  материал\n",
            "20 дата центр  центр  дата  оборудование\n",
            "21 виртуальный  машина  виртуальный машина  резервный\n",
            "22 автомобиль  машина  технология  метр\n",
            "23 вселенная  энергия  теория  свет\n",
            "24 сигнал  звук  частота  диапазон\n",
            "25 клиент  бизнес  услуга  сотрудник\n",
            "26 книга  часы  профессиональный  читать\n",
            "27 робот  ребёнок  датчик  движение\n",
            "28 ключ  сертификат  пароль  открытый\n",
            "29 сообщение  отправка  письмо  ошибка\n",
            "30 уязвимость  обновление  браузер  пароль\n",
            "31 база  база дать  запись  таблица\n",
            "32 сервис  облачный  доступ  облако\n",
            "33 камера  видео  кадр  фотография\n",
            "34 элемент  компонент  блок  значение\n",
            "35 смартфон  телефон  экран  дисплей\n",
            "36 память  процессор  ядро  диск\n",
            "37 карта  точка  номер  координата\n",
            "38 объект  свойство  значение  массив\n",
            "39 товар  скидка  магазин  цена\n"
          ],
          "name": "stdout"
        }
      ]
    },
    {
      "cell_type": "code",
      "metadata": {
        "id": "CrRbUVv5ZWUy",
        "colab_type": "code",
        "outputId": "ce2050be-89bb-41c1-958e-53b758926a30",
        "colab": {
          "base_uri": "https://localhost:8080/",
          "height": 34
        }
      },
      "source": [
        "model.reconstruction_err_"
      ],
      "execution_count": 0,
      "outputs": [
        {
          "output_type": "execute_result",
          "data": {
            "text/plain": [
              "50.742120893393576"
            ]
          },
          "metadata": {
            "tags": []
          },
          "execution_count": 112
        }
      ]
    },
    {
      "cell_type": "code",
      "metadata": {
        "id": "B-c8aQYLZdkm",
        "colab_type": "code",
        "colab": {}
      },
      "source": [
        ""
      ],
      "execution_count": 0,
      "outputs": []
    }
  ]
}