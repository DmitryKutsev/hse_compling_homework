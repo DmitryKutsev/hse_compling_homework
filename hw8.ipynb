{
  "nbformat": 4,
  "nbformat_minor": 0,
  "metadata": {
    "colab": {
      "name": "Untitled33.ipynb",
      "provenance": [],
      "authorship_tag": "ABX9TyPvGSOXJ0lCpZ0f3nqPXmcr",
      "include_colab_link": true
    },
    "kernelspec": {
      "name": "python3",
      "display_name": "Python 3"
    }
  },
  "cells": [
    {
      "cell_type": "markdown",
      "metadata": {
        "id": "view-in-github",
        "colab_type": "text"
      },
      "source": [
        "<a href=\"https://colab.research.google.com/github/DmitryKutsev/hse_compling_homework/blob/master/hw8.ipynb\" target=\"_parent\"><img src=\"https://colab.research.google.com/assets/colab-badge.svg\" alt=\"Open In Colab\"/></a>"
      ]
    },
    {
      "cell_type": "code",
      "metadata": {
        "id": "ut15pIopfB_b",
        "colab_type": "code",
        "outputId": "6c607f0e-1c73-4156-a30f-5f66f6179a0b",
        "colab": {
          "base_uri": "https://localhost:8080/",
          "height": 343
        }
      },
      "source": [
        "!pip install pymorphy2[fast]\n",
        "!pip install nltk"
      ],
      "execution_count": 1,
      "outputs": [
        {
          "output_type": "stream",
          "text": [
            "Collecting pymorphy2[fast]\n",
            "  Using cached https://files.pythonhosted.org/packages/a3/33/fff9675c68b5f6c63ec8c6e6ff57827dda28a1fa5b2c2d727dffff92dd47/pymorphy2-0.8-py2.py3-none-any.whl\n",
            "Collecting dawg-python>=0.7\n",
            "  Using cached https://files.pythonhosted.org/packages/6a/84/ff1ce2071d4c650ec85745766c0047ccc3b5036f1d03559fd46bb38b5eeb/DAWG_Python-0.7.2-py2.py3-none-any.whl\n",
            "Collecting pymorphy2-dicts<3.0,>=2.4\n",
            "  Using cached https://files.pythonhosted.org/packages/02/51/2465fd4f72328ab50877b54777764d928da8cb15b74e2680fc1bd8cb3173/pymorphy2_dicts-2.4.393442.3710985-py2.py3-none-any.whl\n",
            "Requirement already satisfied: docopt>=0.6 in /usr/local/lib/python3.6/dist-packages (from pymorphy2[fast]) (0.6.2)\n",
            "Collecting DAWG>=0.7.3; extra == \"fast\"\n",
            "  Using cached https://files.pythonhosted.org/packages/b8/ef/91b619a399685f7a0a95a03628006ba814d96293bbbbed234ee66fbdefd9/DAWG-0.8.0.tar.gz\n",
            "Building wheels for collected packages: DAWG\n",
            "  Building wheel for DAWG (setup.py) ... \u001b[?25l\u001b[?25hdone\n",
            "  Created wheel for DAWG: filename=DAWG-0.8.0-cp36-cp36m-linux_x86_64.whl size=856611 sha256=3c4caaa49482af4e79572302381437d634154f0629335d3cc783becd690da91e\n",
            "  Stored in directory: /root/.cache/pip/wheels/3d/1f/f0/a5b1f9d02e193c997d252c33d215f24dfd7a448bc0166b2a12\n",
            "Successfully built DAWG\n",
            "Installing collected packages: dawg-python, pymorphy2-dicts, DAWG, pymorphy2\n",
            "Successfully installed DAWG-0.8.0 dawg-python-0.7.2 pymorphy2-0.8 pymorphy2-dicts-2.4.393442.3710985\n",
            "Requirement already satisfied: nltk in /usr/local/lib/python3.6/dist-packages (3.2.5)\n",
            "Requirement already satisfied: six in /usr/local/lib/python3.6/dist-packages (from nltk) (1.12.0)\n"
          ],
          "name": "stdout"
        }
      ]
    },
    {
      "cell_type": "code",
      "metadata": {
        "id": "jEugqHwMgTTe",
        "colab_type": "code",
        "outputId": "6ad1c878-97b6-4fbc-aab0-9ee46afef91a",
        "colab": {
          "base_uri": "https://localhost:8080/",
          "height": 68
        }
      },
      "source": [
        "import nltk\n",
        "nltk.download('stopwords')"
      ],
      "execution_count": 2,
      "outputs": [
        {
          "output_type": "stream",
          "text": [
            "[nltk_data] Downloading package stopwords to /root/nltk_data...\n",
            "[nltk_data]   Unzipping corpora/stopwords.zip.\n"
          ],
          "name": "stdout"
        },
        {
          "output_type": "execute_result",
          "data": {
            "text/plain": [
              "True"
            ]
          },
          "metadata": {
            "tags": []
          },
          "execution_count": 2
        }
      ]
    },
    {
      "cell_type": "code",
      "metadata": {
        "id": "nmZZFILugqyf",
        "colab_type": "code",
        "colab": {
          "base_uri": "https://localhost:8080/",
          "height": 1000
        },
        "outputId": "1401819d-f1e6-4f19-a950-11c4aaf71577"
      },
      "source": [
        "!wget https://github.com/mannefedov/ru_kw_eval_datasets/blob/master/data/ng_0.jsonlines.zip?raw=true\n",
        "!wget https://github.com/mannefedov/ru_kw_eval_datasets/blob/master/data/ng_1.jsonlines.zip?raw=true\n",
        "!wget https://github.com/mannefedov/ru_kw_eval_datasets/blob/master/data/russia_today_0.jsonlines.zip?raw=true\n",
        "!wget https://github.com/mannefedov/ru_kw_eval_datasets/blob/master/data/russia_today_1.jsonlines.zip?raw=true\n",
        "!wget https://github.com/mannefedov/ru_kw_eval_datasets/blob/master/data/russia_today_2.jsonlines.zip?raw=true\n",
        "!wget https://github.com/mannefedov/ru_kw_eval_datasets/blob/master/data/russia_today_3.jsonlines.zip?raw=true\n",
        "!wget https://github.com/mannefedov/ru_kw_eval_datasets/blob/master/data/russia_today_4.jsonlines.zip?raw=true\n",
        "!wget https://github.com/mannefedov/ru_kw_eval_datasets/blob/master/data/russia_today_5.jsonlines.zip?raw=true\n",
        "!wget https://github.com/mannefedov/ru_kw_eval_datasets/blob/master/data/russia_today_6.jsonlines.zip?raw=true\n",
        "!wget https://github.com/mannefedov/ru_kw_eval_datasets/blob/master/data/russia_today_7.jsonlines.zip?raw=true\n",
        "!wget https://github.com/mannefedov/ru_kw_eval_datasets/blob/master/data/russia_today_0.jsonlines.zip?raw=true\n",
        "!wget https://github.com/mannefedov/ru_kw_eval_datasets/blob/master/data/habrahabr_0.jsonlines.zip?raw=true\n",
        "!wget https://github.com/mannefedov/ru_kw_eval_datasets/blob/master/data/habrahabr_1.jsonlines.zip?raw=true\n",
        "!wget https://github.com/mannefedov/ru_kw_eval_datasets/blob/master/data/habrahabr_2.jsonlines.zip?raw=true\n",
        "!wget https://github.com/mannefedov/ru_kw_eval_datasets/blob/master/data/habrahabr_3.jsonlines.zip?raw=true\n",
        "!wget https://github.com/mannefedov/ru_kw_eval_datasets/blob/master/data/cyberleninka_0.jsonlines.zip?raw=true\n",
        "!wget https://github.com/mannefedov/ru_kw_eval_datasets/blob/master/data/cyberleninka_1.jsonlines.zip?raw=true\n",
        "!wget https://github.com/mannefedov/ru_kw_eval_datasets/blob/master/data/cyberleninka_0.jsonlines.zip?raw=true\n",
        "!wget https://github.com/mannefedov/ru_kw_eval_datasets/blob/master/data/cyberleninka_2.jsonlines.zip?raw=true\n",
        "!wget https://github.com/mannefedov/ru_kw_eval_datasets/blob/master/data/cyberleninka_3.jsonlines.zip?raw=true\n",
        "\n"
      ],
      "execution_count": 3,
      "outputs": [
        {
          "output_type": "stream",
          "text": [
            "--2020-04-23 19:08:51--  https://github.com/mannefedov/ru_kw_eval_datasets/blob/master/data/ng_0.jsonlines.zip?raw=true\n",
            "Resolving github.com (github.com)... 140.82.118.4\n",
            "Connecting to github.com (github.com)|140.82.118.4|:443... connected.\n",
            "HTTP request sent, awaiting response... 302 Found\n",
            "Location: https://github.com/mannefedov/ru_kw_eval_datasets/raw/master/data/ng_0.jsonlines.zip [following]\n",
            "--2020-04-23 19:08:51--  https://github.com/mannefedov/ru_kw_eval_datasets/raw/master/data/ng_0.jsonlines.zip\n",
            "Reusing existing connection to github.com:443.\n",
            "HTTP request sent, awaiting response... 302 Found\n",
            "Location: https://raw.githubusercontent.com/mannefedov/ru_kw_eval_datasets/master/data/ng_0.jsonlines.zip [following]\n",
            "--2020-04-23 19:08:51--  https://raw.githubusercontent.com/mannefedov/ru_kw_eval_datasets/master/data/ng_0.jsonlines.zip\n",
            "Resolving raw.githubusercontent.com (raw.githubusercontent.com)... 151.101.0.133, 151.101.64.133, 151.101.128.133, ...\n",
            "Connecting to raw.githubusercontent.com (raw.githubusercontent.com)|151.101.0.133|:443... connected.\n",
            "HTTP request sent, awaiting response... 200 OK\n",
            "Length: 2987145 (2.8M) [application/zip]\n",
            "Saving to: ‘ng_0.jsonlines.zip?raw=true’\n",
            "\n",
            "ng_0.jsonlines.zip? 100%[===================>]   2.85M  --.-KB/s    in 0.1s    \n",
            "\n",
            "2020-04-23 19:08:52 (24.0 MB/s) - ‘ng_0.jsonlines.zip?raw=true’ saved [2987145/2987145]\n",
            "\n",
            "--2020-04-23 19:08:54--  https://github.com/mannefedov/ru_kw_eval_datasets/blob/master/data/ng_1.jsonlines.zip?raw=true\n",
            "Resolving github.com (github.com)... 140.82.118.3\n",
            "Connecting to github.com (github.com)|140.82.118.3|:443... connected.\n",
            "HTTP request sent, awaiting response... 302 Found\n",
            "Location: https://github.com/mannefedov/ru_kw_eval_datasets/raw/master/data/ng_1.jsonlines.zip [following]\n",
            "--2020-04-23 19:08:54--  https://github.com/mannefedov/ru_kw_eval_datasets/raw/master/data/ng_1.jsonlines.zip\n",
            "Reusing existing connection to github.com:443.\n",
            "HTTP request sent, awaiting response... 302 Found\n",
            "Location: https://raw.githubusercontent.com/mannefedov/ru_kw_eval_datasets/master/data/ng_1.jsonlines.zip [following]\n",
            "--2020-04-23 19:08:55--  https://raw.githubusercontent.com/mannefedov/ru_kw_eval_datasets/master/data/ng_1.jsonlines.zip\n",
            "Resolving raw.githubusercontent.com (raw.githubusercontent.com)... 151.101.0.133, 151.101.64.133, 151.101.128.133, ...\n",
            "Connecting to raw.githubusercontent.com (raw.githubusercontent.com)|151.101.0.133|:443... connected.\n",
            "HTTP request sent, awaiting response... 200 OK\n",
            "Length: 3074290 (2.9M) [application/zip]\n",
            "Saving to: ‘ng_1.jsonlines.zip?raw=true’\n",
            "\n",
            "ng_1.jsonlines.zip? 100%[===================>]   2.93M  --.-KB/s    in 0.03s   \n",
            "\n",
            "2020-04-23 19:08:56 (96.4 MB/s) - ‘ng_1.jsonlines.zip?raw=true’ saved [3074290/3074290]\n",
            "\n",
            "--2020-04-23 19:08:58--  https://github.com/mannefedov/ru_kw_eval_datasets/blob/master/data/russia_today_0.jsonlines.zip?raw=true\n",
            "Resolving github.com (github.com)... 140.82.118.3\n",
            "Connecting to github.com (github.com)|140.82.118.3|:443... connected.\n",
            "HTTP request sent, awaiting response... 302 Found\n",
            "Location: https://github.com/mannefedov/ru_kw_eval_datasets/raw/master/data/russia_today_0.jsonlines.zip [following]\n",
            "--2020-04-23 19:08:58--  https://github.com/mannefedov/ru_kw_eval_datasets/raw/master/data/russia_today_0.jsonlines.zip\n",
            "Reusing existing connection to github.com:443.\n",
            "HTTP request sent, awaiting response... 302 Found\n",
            "Location: https://raw.githubusercontent.com/mannefedov/ru_kw_eval_datasets/master/data/russia_today_0.jsonlines.zip [following]\n",
            "--2020-04-23 19:08:58--  https://raw.githubusercontent.com/mannefedov/ru_kw_eval_datasets/master/data/russia_today_0.jsonlines.zip\n",
            "Resolving raw.githubusercontent.com (raw.githubusercontent.com)... 151.101.0.133, 151.101.64.133, 151.101.128.133, ...\n",
            "Connecting to raw.githubusercontent.com (raw.githubusercontent.com)|151.101.0.133|:443... connected.\n",
            "HTTP request sent, awaiting response... 200 OK\n",
            "Length: 3484384 (3.3M) [application/zip]\n",
            "Saving to: ‘russia_today_0.jsonlines.zip?raw=true’\n",
            "\n",
            "russia_today_0.json 100%[===================>]   3.32M  --.-KB/s    in 0.1s    \n",
            "\n",
            "2020-04-23 19:08:59 (30.0 MB/s) - ‘russia_today_0.jsonlines.zip?raw=true’ saved [3484384/3484384]\n",
            "\n",
            "--2020-04-23 19:09:01--  https://github.com/mannefedov/ru_kw_eval_datasets/blob/master/data/russia_today_1.jsonlines.zip?raw=true\n",
            "Resolving github.com (github.com)... 140.82.118.3\n",
            "Connecting to github.com (github.com)|140.82.118.3|:443... connected.\n",
            "HTTP request sent, awaiting response... 302 Found\n",
            "Location: https://github.com/mannefedov/ru_kw_eval_datasets/raw/master/data/russia_today_1.jsonlines.zip [following]\n",
            "--2020-04-23 19:09:01--  https://github.com/mannefedov/ru_kw_eval_datasets/raw/master/data/russia_today_1.jsonlines.zip\n",
            "Reusing existing connection to github.com:443.\n",
            "HTTP request sent, awaiting response... 302 Found\n",
            "Location: https://raw.githubusercontent.com/mannefedov/ru_kw_eval_datasets/master/data/russia_today_1.jsonlines.zip [following]\n",
            "--2020-04-23 19:09:02--  https://raw.githubusercontent.com/mannefedov/ru_kw_eval_datasets/master/data/russia_today_1.jsonlines.zip\n",
            "Resolving raw.githubusercontent.com (raw.githubusercontent.com)... 151.101.0.133, 151.101.64.133, 151.101.128.133, ...\n",
            "Connecting to raw.githubusercontent.com (raw.githubusercontent.com)|151.101.0.133|:443... connected.\n",
            "HTTP request sent, awaiting response... 200 OK\n",
            "Length: 3388270 (3.2M) [application/zip]\n",
            "Saving to: ‘russia_today_1.jsonlines.zip?raw=true’\n",
            "\n",
            "russia_today_1.json 100%[===================>]   3.23M  --.-KB/s    in 0.03s   \n",
            "\n",
            "2020-04-23 19:09:02 (103 MB/s) - ‘russia_today_1.jsonlines.zip?raw=true’ saved [3388270/3388270]\n",
            "\n",
            "--2020-04-23 19:09:04--  https://github.com/mannefedov/ru_kw_eval_datasets/blob/master/data/russia_today_2.jsonlines.zip?raw=true\n",
            "Resolving github.com (github.com)... 140.82.118.3\n",
            "Connecting to github.com (github.com)|140.82.118.3|:443... connected.\n",
            "HTTP request sent, awaiting response... 302 Found\n",
            "Location: https://github.com/mannefedov/ru_kw_eval_datasets/raw/master/data/russia_today_2.jsonlines.zip [following]\n",
            "--2020-04-23 19:09:04--  https://github.com/mannefedov/ru_kw_eval_datasets/raw/master/data/russia_today_2.jsonlines.zip\n",
            "Reusing existing connection to github.com:443.\n",
            "HTTP request sent, awaiting response... 302 Found\n",
            "Location: https://raw.githubusercontent.com/mannefedov/ru_kw_eval_datasets/master/data/russia_today_2.jsonlines.zip [following]\n",
            "--2020-04-23 19:09:05--  https://raw.githubusercontent.com/mannefedov/ru_kw_eval_datasets/master/data/russia_today_2.jsonlines.zip\n",
            "Resolving raw.githubusercontent.com (raw.githubusercontent.com)... 151.101.0.133, 151.101.64.133, 151.101.128.133, ...\n",
            "Connecting to raw.githubusercontent.com (raw.githubusercontent.com)|151.101.0.133|:443... connected.\n",
            "HTTP request sent, awaiting response... 200 OK\n",
            "Length: 3484797 (3.3M) [application/zip]\n",
            "Saving to: ‘russia_today_2.jsonlines.zip?raw=true’\n",
            "\n",
            "russia_today_2.json 100%[===================>]   3.32M  --.-KB/s    in 0.05s   \n",
            "\n",
            "2020-04-23 19:09:06 (72.5 MB/s) - ‘russia_today_2.jsonlines.zip?raw=true’ saved [3484797/3484797]\n",
            "\n",
            "--2020-04-23 19:09:08--  https://github.com/mannefedov/ru_kw_eval_datasets/blob/master/data/russia_today_3.jsonlines.zip?raw=true\n",
            "Resolving github.com (github.com)... 140.82.118.4\n",
            "Connecting to github.com (github.com)|140.82.118.4|:443... connected.\n",
            "HTTP request sent, awaiting response... 302 Found\n",
            "Location: https://github.com/mannefedov/ru_kw_eval_datasets/raw/master/data/russia_today_3.jsonlines.zip [following]\n",
            "--2020-04-23 19:09:08--  https://github.com/mannefedov/ru_kw_eval_datasets/raw/master/data/russia_today_3.jsonlines.zip\n",
            "Reusing existing connection to github.com:443.\n",
            "HTTP request sent, awaiting response... 302 Found\n",
            "Location: https://raw.githubusercontent.com/mannefedov/ru_kw_eval_datasets/master/data/russia_today_3.jsonlines.zip [following]\n",
            "--2020-04-23 19:09:08--  https://raw.githubusercontent.com/mannefedov/ru_kw_eval_datasets/master/data/russia_today_3.jsonlines.zip\n",
            "Resolving raw.githubusercontent.com (raw.githubusercontent.com)... 151.101.0.133, 151.101.64.133, 151.101.128.133, ...\n",
            "Connecting to raw.githubusercontent.com (raw.githubusercontent.com)|151.101.0.133|:443... connected.\n",
            "HTTP request sent, awaiting response... 200 OK\n",
            "Length: 3473061 (3.3M) [application/zip]\n",
            "Saving to: ‘russia_today_3.jsonlines.zip?raw=true’\n",
            "\n",
            "russia_today_3.json 100%[===================>]   3.31M  --.-KB/s    in 0.1s    \n",
            "\n",
            "2020-04-23 19:09:09 (31.5 MB/s) - ‘russia_today_3.jsonlines.zip?raw=true’ saved [3473061/3473061]\n",
            "\n",
            "--2020-04-23 19:09:11--  https://github.com/mannefedov/ru_kw_eval_datasets/blob/master/data/russia_today_4.jsonlines.zip?raw=true\n",
            "Resolving github.com (github.com)... 140.82.118.3\n",
            "Connecting to github.com (github.com)|140.82.118.3|:443... connected.\n",
            "HTTP request sent, awaiting response... 302 Found\n",
            "Location: https://github.com/mannefedov/ru_kw_eval_datasets/raw/master/data/russia_today_4.jsonlines.zip [following]\n",
            "--2020-04-23 19:09:12--  https://github.com/mannefedov/ru_kw_eval_datasets/raw/master/data/russia_today_4.jsonlines.zip\n",
            "Reusing existing connection to github.com:443.\n",
            "HTTP request sent, awaiting response... 302 Found\n",
            "Location: https://raw.githubusercontent.com/mannefedov/ru_kw_eval_datasets/master/data/russia_today_4.jsonlines.zip [following]\n",
            "--2020-04-23 19:09:12--  https://raw.githubusercontent.com/mannefedov/ru_kw_eval_datasets/master/data/russia_today_4.jsonlines.zip\n",
            "Resolving raw.githubusercontent.com (raw.githubusercontent.com)... 151.101.0.133, 151.101.64.133, 151.101.128.133, ...\n",
            "Connecting to raw.githubusercontent.com (raw.githubusercontent.com)|151.101.0.133|:443... connected.\n",
            "HTTP request sent, awaiting response... 200 OK\n",
            "Length: 3410129 (3.3M) [application/zip]\n",
            "Saving to: ‘russia_today_4.jsonlines.zip?raw=true’\n",
            "\n",
            "russia_today_4.json 100%[===================>]   3.25M  --.-KB/s    in 0.1s    \n",
            "\n",
            "2020-04-23 19:09:13 (30.4 MB/s) - ‘russia_today_4.jsonlines.zip?raw=true’ saved [3410129/3410129]\n",
            "\n",
            "--2020-04-23 19:09:15--  https://github.com/mannefedov/ru_kw_eval_datasets/blob/master/data/russia_today_5.jsonlines.zip?raw=true\n",
            "Resolving github.com (github.com)... 140.82.118.3\n",
            "Connecting to github.com (github.com)|140.82.118.3|:443... connected.\n",
            "HTTP request sent, awaiting response... 302 Found\n",
            "Location: https://github.com/mannefedov/ru_kw_eval_datasets/raw/master/data/russia_today_5.jsonlines.zip [following]\n",
            "--2020-04-23 19:09:15--  https://github.com/mannefedov/ru_kw_eval_datasets/raw/master/data/russia_today_5.jsonlines.zip\n",
            "Reusing existing connection to github.com:443.\n",
            "HTTP request sent, awaiting response... 302 Found\n",
            "Location: https://raw.githubusercontent.com/mannefedov/ru_kw_eval_datasets/master/data/russia_today_5.jsonlines.zip [following]\n",
            "--2020-04-23 19:09:15--  https://raw.githubusercontent.com/mannefedov/ru_kw_eval_datasets/master/data/russia_today_5.jsonlines.zip\n",
            "Resolving raw.githubusercontent.com (raw.githubusercontent.com)... 151.101.0.133, 151.101.64.133, 151.101.128.133, ...\n",
            "Connecting to raw.githubusercontent.com (raw.githubusercontent.com)|151.101.0.133|:443... connected.\n",
            "HTTP request sent, awaiting response... 200 OK\n",
            "Length: 3489805 (3.3M) [application/zip]\n",
            "Saving to: ‘russia_today_5.jsonlines.zip?raw=true’\n",
            "\n",
            "russia_today_5.json 100%[===================>]   3.33M  --.-KB/s    in 0.03s   \n",
            "\n",
            "2020-04-23 19:09:16 (99.5 MB/s) - ‘russia_today_5.jsonlines.zip?raw=true’ saved [3489805/3489805]\n",
            "\n",
            "--2020-04-23 19:09:18--  https://github.com/mannefedov/ru_kw_eval_datasets/blob/master/data/russia_today_6.jsonlines.zip?raw=true\n",
            "Resolving github.com (github.com)... 140.82.118.3\n",
            "Connecting to github.com (github.com)|140.82.118.3|:443... connected.\n",
            "HTTP request sent, awaiting response... 302 Found\n",
            "Location: https://github.com/mannefedov/ru_kw_eval_datasets/raw/master/data/russia_today_6.jsonlines.zip [following]\n",
            "--2020-04-23 19:09:18--  https://github.com/mannefedov/ru_kw_eval_datasets/raw/master/data/russia_today_6.jsonlines.zip\n",
            "Reusing existing connection to github.com:443.\n",
            "HTTP request sent, awaiting response... 302 Found\n",
            "Location: https://raw.githubusercontent.com/mannefedov/ru_kw_eval_datasets/master/data/russia_today_6.jsonlines.zip [following]\n",
            "--2020-04-23 19:09:18--  https://raw.githubusercontent.com/mannefedov/ru_kw_eval_datasets/master/data/russia_today_6.jsonlines.zip\n",
            "Resolving raw.githubusercontent.com (raw.githubusercontent.com)... 151.101.0.133, 151.101.64.133, 151.101.128.133, ...\n",
            "Connecting to raw.githubusercontent.com (raw.githubusercontent.com)|151.101.0.133|:443... connected.\n",
            "HTTP request sent, awaiting response... 200 OK\n",
            "Length: 3541577 (3.4M) [application/zip]\n",
            "Saving to: ‘russia_today_6.jsonlines.zip?raw=true’\n",
            "\n",
            "russia_today_6.json 100%[===================>]   3.38M  --.-KB/s    in 0.1s    \n",
            "\n",
            "2020-04-23 19:09:19 (25.1 MB/s) - ‘russia_today_6.jsonlines.zip?raw=true’ saved [3541577/3541577]\n",
            "\n",
            "--2020-04-23 19:09:21--  https://github.com/mannefedov/ru_kw_eval_datasets/blob/master/data/russia_today_7.jsonlines.zip?raw=true\n",
            "Resolving github.com (github.com)... 140.82.118.3\n",
            "Connecting to github.com (github.com)|140.82.118.3|:443... connected.\n",
            "HTTP request sent, awaiting response... 302 Found\n",
            "Location: https://github.com/mannefedov/ru_kw_eval_datasets/raw/master/data/russia_today_7.jsonlines.zip [following]\n",
            "--2020-04-23 19:09:21--  https://github.com/mannefedov/ru_kw_eval_datasets/raw/master/data/russia_today_7.jsonlines.zip\n",
            "Reusing existing connection to github.com:443.\n",
            "HTTP request sent, awaiting response... 302 Found\n",
            "Location: https://raw.githubusercontent.com/mannefedov/ru_kw_eval_datasets/master/data/russia_today_7.jsonlines.zip [following]\n",
            "--2020-04-23 19:09:22--  https://raw.githubusercontent.com/mannefedov/ru_kw_eval_datasets/master/data/russia_today_7.jsonlines.zip\n",
            "Resolving raw.githubusercontent.com (raw.githubusercontent.com)... 151.101.0.133, 151.101.64.133, 151.101.128.133, ...\n",
            "Connecting to raw.githubusercontent.com (raw.githubusercontent.com)|151.101.0.133|:443... connected.\n",
            "HTTP request sent, awaiting response... 200 OK\n",
            "Length: 769255 (751K) [application/zip]\n",
            "Saving to: ‘russia_today_7.jsonlines.zip?raw=true’\n",
            "\n",
            "russia_today_7.json 100%[===================>] 751.23K  --.-KB/s    in 0.03s   \n",
            "\n",
            "2020-04-23 19:09:22 (21.9 MB/s) - ‘russia_today_7.jsonlines.zip?raw=true’ saved [769255/769255]\n",
            "\n",
            "--2020-04-23 19:09:24--  https://github.com/mannefedov/ru_kw_eval_datasets/blob/master/data/russia_today_0.jsonlines.zip?raw=true\n",
            "Resolving github.com (github.com)... 140.82.118.3\n",
            "Connecting to github.com (github.com)|140.82.118.3|:443... connected.\n",
            "HTTP request sent, awaiting response... 302 Found\n",
            "Location: https://github.com/mannefedov/ru_kw_eval_datasets/raw/master/data/russia_today_0.jsonlines.zip [following]\n",
            "--2020-04-23 19:09:24--  https://github.com/mannefedov/ru_kw_eval_datasets/raw/master/data/russia_today_0.jsonlines.zip\n",
            "Reusing existing connection to github.com:443.\n",
            "HTTP request sent, awaiting response... 302 Found\n",
            "Location: https://raw.githubusercontent.com/mannefedov/ru_kw_eval_datasets/master/data/russia_today_0.jsonlines.zip [following]\n",
            "--2020-04-23 19:09:24--  https://raw.githubusercontent.com/mannefedov/ru_kw_eval_datasets/master/data/russia_today_0.jsonlines.zip\n",
            "Resolving raw.githubusercontent.com (raw.githubusercontent.com)... 151.101.0.133, 151.101.64.133, 151.101.128.133, ...\n",
            "Connecting to raw.githubusercontent.com (raw.githubusercontent.com)|151.101.0.133|:443... connected.\n",
            "HTTP request sent, awaiting response... 200 OK\n",
            "Length: 3484384 (3.3M) [application/zip]\n",
            "Saving to: ‘russia_today_0.jsonlines.zip?raw=true.1’\n",
            "\n",
            "russia_today_0.json 100%[===================>]   3.32M  --.-KB/s    in 0.03s   \n",
            "\n",
            "2020-04-23 19:09:24 (95.7 MB/s) - ‘russia_today_0.jsonlines.zip?raw=true.1’ saved [3484384/3484384]\n",
            "\n",
            "--2020-04-23 19:09:26--  https://github.com/mannefedov/ru_kw_eval_datasets/blob/master/data/habrahabr_0.jsonlines.zip?raw=true\n",
            "Resolving github.com (github.com)... 140.82.118.3\n",
            "Connecting to github.com (github.com)|140.82.118.3|:443... connected.\n",
            "HTTP request sent, awaiting response... 302 Found\n",
            "Location: https://github.com/mannefedov/ru_kw_eval_datasets/raw/master/data/habrahabr_0.jsonlines.zip [following]\n",
            "--2020-04-23 19:09:26--  https://github.com/mannefedov/ru_kw_eval_datasets/raw/master/data/habrahabr_0.jsonlines.zip\n",
            "Reusing existing connection to github.com:443.\n",
            "HTTP request sent, awaiting response... 302 Found\n",
            "Location: https://raw.githubusercontent.com/mannefedov/ru_kw_eval_datasets/master/data/habrahabr_0.jsonlines.zip [following]\n",
            "--2020-04-23 19:09:27--  https://raw.githubusercontent.com/mannefedov/ru_kw_eval_datasets/master/data/habrahabr_0.jsonlines.zip\n",
            "Resolving raw.githubusercontent.com (raw.githubusercontent.com)... 151.101.0.133, 151.101.64.133, 151.101.128.133, ...\n",
            "Connecting to raw.githubusercontent.com (raw.githubusercontent.com)|151.101.0.133|:443... connected.\n",
            "HTTP request sent, awaiting response... 200 OK\n",
            "Length: 4466983 (4.3M) [application/zip]\n",
            "Saving to: ‘habrahabr_0.jsonlines.zip?raw=true’\n",
            "\n",
            "habrahabr_0.jsonlin 100%[===================>]   4.26M  --.-KB/s    in 0.1s    \n",
            "\n",
            "2020-04-23 19:09:27 (36.4 MB/s) - ‘habrahabr_0.jsonlines.zip?raw=true’ saved [4466983/4466983]\n",
            "\n",
            "--2020-04-23 19:09:28--  https://github.com/mannefedov/ru_kw_eval_datasets/blob/master/data/habrahabr_1.jsonlines.zip?raw=true\n",
            "Resolving github.com (github.com)... 140.82.118.3\n",
            "Connecting to github.com (github.com)|140.82.118.3|:443... connected.\n",
            "HTTP request sent, awaiting response... 302 Found\n",
            "Location: https://github.com/mannefedov/ru_kw_eval_datasets/raw/master/data/habrahabr_1.jsonlines.zip [following]\n",
            "--2020-04-23 19:09:29--  https://github.com/mannefedov/ru_kw_eval_datasets/raw/master/data/habrahabr_1.jsonlines.zip\n",
            "Reusing existing connection to github.com:443.\n",
            "HTTP request sent, awaiting response... 302 Found\n",
            "Location: https://raw.githubusercontent.com/mannefedov/ru_kw_eval_datasets/master/data/habrahabr_1.jsonlines.zip [following]\n",
            "--2020-04-23 19:09:29--  https://raw.githubusercontent.com/mannefedov/ru_kw_eval_datasets/master/data/habrahabr_1.jsonlines.zip\n",
            "Resolving raw.githubusercontent.com (raw.githubusercontent.com)... 151.101.0.133, 151.101.64.133, 151.101.128.133, ...\n",
            "Connecting to raw.githubusercontent.com (raw.githubusercontent.com)|151.101.0.133|:443... connected.\n",
            "HTTP request sent, awaiting response... 200 OK\n",
            "Length: 4345954 (4.1M) [application/zip]\n",
            "Saving to: ‘habrahabr_1.jsonlines.zip?raw=true’\n",
            "\n",
            "habrahabr_1.jsonlin 100%[===================>]   4.14M  --.-KB/s    in 0.07s   \n",
            "\n",
            "2020-04-23 19:09:30 (59.7 MB/s) - ‘habrahabr_1.jsonlines.zip?raw=true’ saved [4345954/4345954]\n",
            "\n",
            "--2020-04-23 19:09:32--  https://github.com/mannefedov/ru_kw_eval_datasets/blob/master/data/habrahabr_2.jsonlines.zip?raw=true\n",
            "Resolving github.com (github.com)... 140.82.118.3\n",
            "Connecting to github.com (github.com)|140.82.118.3|:443... connected.\n",
            "HTTP request sent, awaiting response... 302 Found\n",
            "Location: https://github.com/mannefedov/ru_kw_eval_datasets/raw/master/data/habrahabr_2.jsonlines.zip [following]\n",
            "--2020-04-23 19:09:32--  https://github.com/mannefedov/ru_kw_eval_datasets/raw/master/data/habrahabr_2.jsonlines.zip\n",
            "Reusing existing connection to github.com:443.\n",
            "HTTP request sent, awaiting response... 302 Found\n",
            "Location: https://raw.githubusercontent.com/mannefedov/ru_kw_eval_datasets/master/data/habrahabr_2.jsonlines.zip [following]\n",
            "--2020-04-23 19:09:32--  https://raw.githubusercontent.com/mannefedov/ru_kw_eval_datasets/master/data/habrahabr_2.jsonlines.zip\n",
            "Resolving raw.githubusercontent.com (raw.githubusercontent.com)... 151.101.0.133, 151.101.64.133, 151.101.128.133, ...\n",
            "Connecting to raw.githubusercontent.com (raw.githubusercontent.com)|151.101.0.133|:443... connected.\n",
            "HTTP request sent, awaiting response... 200 OK\n",
            "Length: 4414540 (4.2M) [application/zip]\n",
            "Saving to: ‘habrahabr_2.jsonlines.zip?raw=true’\n",
            "\n",
            "habrahabr_2.jsonlin 100%[===================>]   4.21M  --.-KB/s    in 0.1s    \n",
            "\n",
            "2020-04-23 19:09:33 (37.1 MB/s) - ‘habrahabr_2.jsonlines.zip?raw=true’ saved [4414540/4414540]\n",
            "\n",
            "--2020-04-23 19:09:35--  https://github.com/mannefedov/ru_kw_eval_datasets/blob/master/data/habrahabr_3.jsonlines.zip?raw=true\n",
            "Resolving github.com (github.com)... 140.82.118.3\n",
            "Connecting to github.com (github.com)|140.82.118.3|:443... connected.\n",
            "HTTP request sent, awaiting response... 302 Found\n",
            "Location: https://github.com/mannefedov/ru_kw_eval_datasets/raw/master/data/habrahabr_3.jsonlines.zip [following]\n",
            "--2020-04-23 19:09:35--  https://github.com/mannefedov/ru_kw_eval_datasets/raw/master/data/habrahabr_3.jsonlines.zip\n",
            "Reusing existing connection to github.com:443.\n",
            "HTTP request sent, awaiting response... 302 Found\n",
            "Location: https://raw.githubusercontent.com/mannefedov/ru_kw_eval_datasets/master/data/habrahabr_3.jsonlines.zip [following]\n",
            "--2020-04-23 19:09:36--  https://raw.githubusercontent.com/mannefedov/ru_kw_eval_datasets/master/data/habrahabr_3.jsonlines.zip\n",
            "Resolving raw.githubusercontent.com (raw.githubusercontent.com)... 151.101.0.133, 151.101.64.133, 151.101.128.133, ...\n",
            "Connecting to raw.githubusercontent.com (raw.githubusercontent.com)|151.101.0.133|:443... connected.\n",
            "HTTP request sent, awaiting response... 200 OK\n",
            "Length: 4418664 (4.2M) [application/zip]\n",
            "Saving to: ‘habrahabr_3.jsonlines.zip?raw=true’\n",
            "\n",
            "habrahabr_3.jsonlin 100%[===================>]   4.21M  --.-KB/s    in 0.1s    \n",
            "\n",
            "2020-04-23 19:09:36 (40.2 MB/s) - ‘habrahabr_3.jsonlines.zip?raw=true’ saved [4418664/4418664]\n",
            "\n",
            "--2020-04-23 19:09:38--  https://github.com/mannefedov/ru_kw_eval_datasets/blob/master/data/cyberleninka_0.jsonlines.zip?raw=true\n",
            "Resolving github.com (github.com)... 140.82.118.3\n",
            "Connecting to github.com (github.com)|140.82.118.3|:443... connected.\n",
            "HTTP request sent, awaiting response... 302 Found\n",
            "Location: https://github.com/mannefedov/ru_kw_eval_datasets/raw/master/data/cyberleninka_0.jsonlines.zip [following]\n",
            "--2020-04-23 19:09:38--  https://github.com/mannefedov/ru_kw_eval_datasets/raw/master/data/cyberleninka_0.jsonlines.zip\n",
            "Reusing existing connection to github.com:443.\n",
            "HTTP request sent, awaiting response... 302 Found\n",
            "Location: https://raw.githubusercontent.com/mannefedov/ru_kw_eval_datasets/master/data/cyberleninka_0.jsonlines.zip [following]\n",
            "--2020-04-23 19:09:39--  https://raw.githubusercontent.com/mannefedov/ru_kw_eval_datasets/master/data/cyberleninka_0.jsonlines.zip\n",
            "Resolving raw.githubusercontent.com (raw.githubusercontent.com)... 151.101.0.133, 151.101.64.133, 151.101.128.133, ...\n",
            "Connecting to raw.githubusercontent.com (raw.githubusercontent.com)|151.101.0.133|:443... connected.\n",
            "HTTP request sent, awaiting response... 200 OK\n",
            "Length: 8824108 (8.4M) [application/zip]\n",
            "Saving to: ‘cyberleninka_0.jsonlines.zip?raw=true’\n",
            "\n",
            "cyberleninka_0.json 100%[===================>]   8.42M  42.2MB/s    in 0.2s    \n",
            "\n",
            "2020-04-23 19:09:40 (42.2 MB/s) - ‘cyberleninka_0.jsonlines.zip?raw=true’ saved [8824108/8824108]\n",
            "\n",
            "--2020-04-23 19:09:42--  https://github.com/mannefedov/ru_kw_eval_datasets/blob/master/data/cyberleninka_1.jsonlines.zip?raw=true\n",
            "Resolving github.com (github.com)... 140.82.118.4\n",
            "Connecting to github.com (github.com)|140.82.118.4|:443... connected.\n",
            "HTTP request sent, awaiting response... 302 Found\n",
            "Location: https://github.com/mannefedov/ru_kw_eval_datasets/raw/master/data/cyberleninka_1.jsonlines.zip [following]\n",
            "--2020-04-23 19:09:42--  https://github.com/mannefedov/ru_kw_eval_datasets/raw/master/data/cyberleninka_1.jsonlines.zip\n",
            "Reusing existing connection to github.com:443.\n",
            "HTTP request sent, awaiting response... 302 Found\n",
            "Location: https://raw.githubusercontent.com/mannefedov/ru_kw_eval_datasets/master/data/cyberleninka_1.jsonlines.zip [following]\n",
            "--2020-04-23 19:09:43--  https://raw.githubusercontent.com/mannefedov/ru_kw_eval_datasets/master/data/cyberleninka_1.jsonlines.zip\n",
            "Resolving raw.githubusercontent.com (raw.githubusercontent.com)... 151.101.0.133, 151.101.64.133, 151.101.128.133, ...\n",
            "Connecting to raw.githubusercontent.com (raw.githubusercontent.com)|151.101.0.133|:443... connected.\n",
            "HTTP request sent, awaiting response... 200 OK\n",
            "Length: 8868699 (8.5M) [application/zip]\n",
            "Saving to: ‘cyberleninka_1.jsonlines.zip?raw=true’\n",
            "\n",
            "cyberleninka_1.json 100%[===================>]   8.46M  --.-KB/s    in 0.05s   \n",
            "\n",
            "2020-04-23 19:09:44 (171 MB/s) - ‘cyberleninka_1.jsonlines.zip?raw=true’ saved [8868699/8868699]\n",
            "\n",
            "--2020-04-23 19:09:45--  https://github.com/mannefedov/ru_kw_eval_datasets/blob/master/data/cyberleninka_0.jsonlines.zip?raw=true\n",
            "Resolving github.com (github.com)... 140.82.118.3\n",
            "Connecting to github.com (github.com)|140.82.118.3|:443... connected.\n",
            "HTTP request sent, awaiting response... 302 Found\n",
            "Location: https://github.com/mannefedov/ru_kw_eval_datasets/raw/master/data/cyberleninka_0.jsonlines.zip [following]\n",
            "--2020-04-23 19:09:45--  https://github.com/mannefedov/ru_kw_eval_datasets/raw/master/data/cyberleninka_0.jsonlines.zip\n",
            "Reusing existing connection to github.com:443.\n",
            "HTTP request sent, awaiting response... 302 Found\n",
            "Location: https://raw.githubusercontent.com/mannefedov/ru_kw_eval_datasets/master/data/cyberleninka_0.jsonlines.zip [following]\n",
            "--2020-04-23 19:09:45--  https://raw.githubusercontent.com/mannefedov/ru_kw_eval_datasets/master/data/cyberleninka_0.jsonlines.zip\n",
            "Resolving raw.githubusercontent.com (raw.githubusercontent.com)... 151.101.0.133, 151.101.64.133, 151.101.128.133, ...\n",
            "Connecting to raw.githubusercontent.com (raw.githubusercontent.com)|151.101.0.133|:443... connected.\n",
            "HTTP request sent, awaiting response... 200 OK\n",
            "Length: 8824108 (8.4M) [application/zip]\n",
            "Saving to: ‘cyberleninka_0.jsonlines.zip?raw=true.1’\n",
            "\n",
            "cyberleninka_0.json 100%[===================>]   8.42M  --.-KB/s    in 0.1s    \n",
            "\n",
            "2020-04-23 19:09:45 (74.4 MB/s) - ‘cyberleninka_0.jsonlines.zip?raw=true.1’ saved [8824108/8824108]\n",
            "\n",
            "--2020-04-23 19:09:48--  https://github.com/mannefedov/ru_kw_eval_datasets/blob/master/data/cyberleninka_2.jsonlines.zip?raw=true\n",
            "Resolving github.com (github.com)... 140.82.118.4\n",
            "Connecting to github.com (github.com)|140.82.118.4|:443... connected.\n",
            "HTTP request sent, awaiting response... 302 Found\n",
            "Location: https://github.com/mannefedov/ru_kw_eval_datasets/raw/master/data/cyberleninka_2.jsonlines.zip [following]\n",
            "--2020-04-23 19:09:48--  https://github.com/mannefedov/ru_kw_eval_datasets/raw/master/data/cyberleninka_2.jsonlines.zip\n",
            "Reusing existing connection to github.com:443.\n",
            "HTTP request sent, awaiting response... 302 Found\n",
            "Location: https://raw.githubusercontent.com/mannefedov/ru_kw_eval_datasets/master/data/cyberleninka_2.jsonlines.zip [following]\n",
            "--2020-04-23 19:09:48--  https://raw.githubusercontent.com/mannefedov/ru_kw_eval_datasets/master/data/cyberleninka_2.jsonlines.zip\n",
            "Resolving raw.githubusercontent.com (raw.githubusercontent.com)... 151.101.0.133, 151.101.64.133, 151.101.128.133, ...\n",
            "Connecting to raw.githubusercontent.com (raw.githubusercontent.com)|151.101.0.133|:443... connected.\n",
            "HTTP request sent, awaiting response... 200 OK\n",
            "Length: 8592504 (8.2M) [application/zip]\n",
            "Saving to: ‘cyberleninka_2.jsonlines.zip?raw=true’\n",
            "\n",
            "cyberleninka_2.json 100%[===================>]   8.19M  --.-KB/s    in 0.1s    \n",
            "\n",
            "2020-04-23 19:09:49 (55.7 MB/s) - ‘cyberleninka_2.jsonlines.zip?raw=true’ saved [8592504/8592504]\n",
            "\n",
            "--2020-04-23 19:09:51--  https://github.com/mannefedov/ru_kw_eval_datasets/blob/master/data/cyberleninka_3.jsonlines.zip?raw=true\n",
            "Resolving github.com (github.com)... 140.82.118.3\n",
            "Connecting to github.com (github.com)|140.82.118.3|:443... connected.\n",
            "HTTP request sent, awaiting response... 302 Found\n",
            "Location: https://github.com/mannefedov/ru_kw_eval_datasets/raw/master/data/cyberleninka_3.jsonlines.zip [following]\n",
            "--2020-04-23 19:09:51--  https://github.com/mannefedov/ru_kw_eval_datasets/raw/master/data/cyberleninka_3.jsonlines.zip\n",
            "Reusing existing connection to github.com:443.\n",
            "HTTP request sent, awaiting response... 302 Found\n",
            "Location: https://raw.githubusercontent.com/mannefedov/ru_kw_eval_datasets/master/data/cyberleninka_3.jsonlines.zip [following]\n",
            "--2020-04-23 19:09:52--  https://raw.githubusercontent.com/mannefedov/ru_kw_eval_datasets/master/data/cyberleninka_3.jsonlines.zip\n",
            "Resolving raw.githubusercontent.com (raw.githubusercontent.com)... 151.101.0.133, 151.101.64.133, 151.101.128.133, ...\n",
            "Connecting to raw.githubusercontent.com (raw.githubusercontent.com)|151.101.0.133|:443... connected.\n",
            "HTTP request sent, awaiting response... 200 OK\n",
            "Length: 8886821 (8.5M) [application/zip]\n",
            "Saving to: ‘cyberleninka_3.jsonlines.zip?raw=true’\n",
            "\n",
            "cyberleninka_3.json 100%[===================>]   8.47M  --.-KB/s    in 0.06s   \n",
            "\n",
            "2020-04-23 19:09:53 (146 MB/s) - ‘cyberleninka_3.jsonlines.zip?raw=true’ saved [8886821/8886821]\n",
            "\n"
          ],
          "name": "stdout"
        }
      ]
    },
    {
      "cell_type": "code",
      "metadata": {
        "id": "0ERlJKBswJf7",
        "colab_type": "code",
        "colab": {
          "base_uri": "https://localhost:8080/",
          "height": 1000
        },
        "outputId": "b02d1ac1-3793-4d10-f2a1-3b8e9c6ba4cc"
      },
      "source": [
        "import os\n",
        "\n",
        "for i in os.listdir():\n",
        "  print(i)\n",
        "  if 'true' in i:\n",
        "    #os.rename(i, i[:-9])\n",
        "    i = os.rename(i, i[:-9])\n",
        "  print(i)\n",
        "\n",
        "for i in os.listdir():\n",
        "  print(i)\n",
        "  if '?r' in i:\n",
        "    #os.rename(i, i[:-3])\n",
        "    i = os.rename(i, i[:-3])\n",
        "  print(i)\n"
      ],
      "execution_count": 14,
      "outputs": [
        {
          "output_type": "stream",
          "text": [
            ".config\n",
            ".config\n",
            "cyberleninka_0.jsonlines.zip?r\n",
            "cyberleninka_0.jsonlines.zip?r\n",
            "russia_today_0.jsonlines.zip?r\n",
            "russia_today_0.jsonlines.zip?r\n",
            "russia_today_0.jsonlines.zip\n",
            "russia_today_0.jsonlines.zip\n",
            "russia_today_5.jsonlines.zip\n",
            "russia_today_5.jsonlines.zip\n",
            "habrahabr_3.jsonlines.zip\n",
            "habrahabr_3.jsonlines.zip\n",
            "ng_1.jsonlines.zip\n",
            "ng_1.jsonlines.zip\n",
            "russia_today_2.jsonlines.zip\n",
            "russia_today_2.jsonlines.zip\n",
            "habrahabr_1.jsonlines.zip\n",
            "habrahabr_1.jsonlines.zip\n",
            "habrahabr_2.jsonlines.zip\n",
            "habrahabr_2.jsonlines.zip\n",
            "cyberleninka_2.jsonlines.zip\n",
            "cyberleninka_2.jsonlines.zip\n",
            "cyberleninka_1.jsonlines.zip\n",
            "cyberleninka_1.jsonlines.zip\n",
            "ng_0.jsonlines.zip\n",
            "ng_0.jsonlines.zip\n",
            "russia_today_6.jsonlines.zip\n",
            "russia_today_6.jsonlines.zip\n",
            "russia_today_4.jsonlines.zip\n",
            "russia_today_4.jsonlines.zip\n",
            "russia_today_7.jsonlines.zip\n",
            "russia_today_7.jsonlines.zip\n",
            "cyberleninka_0.jsonlines.zip\n",
            "cyberleninka_0.jsonlines.zip\n",
            "russia_today_1.jsonlines.zip\n",
            "russia_today_1.jsonlines.zip\n",
            "russia_today_3.jsonlines.zip\n",
            "russia_today_3.jsonlines.zip\n",
            "cyberleninka_3.jsonlines.zip\n",
            "cyberleninka_3.jsonlines.zip\n",
            "habrahabr_0.jsonlines.zip\n",
            "habrahabr_0.jsonlines.zip\n",
            "sample_data\n",
            "sample_data\n",
            ".config\n",
            ".config\n",
            "cyberleninka_0.jsonlines.zip?r\n",
            "None\n",
            "russia_today_0.jsonlines.zip?r\n",
            "None\n",
            "russia_today_0.jsonlines.zip\n",
            "None\n",
            "russia_today_5.jsonlines.zip\n",
            "None\n",
            "habrahabr_3.jsonlines.zip\n",
            "None\n",
            "ng_1.jsonlines.zip\n",
            "None\n",
            "russia_today_2.jsonlines.zip\n",
            "None\n",
            "habrahabr_1.jsonlines.zip\n",
            "None\n",
            "habrahabr_2.jsonlines.zip\n",
            "None\n",
            "cyberleninka_2.jsonlines.zip\n",
            "None\n",
            "cyberleninka_1.jsonlines.zip\n",
            "None\n",
            "ng_0.jsonlines.zip\n",
            "None\n",
            "russia_today_6.jsonlines.zip\n",
            "None\n",
            "russia_today_4.jsonlines.zip\n",
            "None\n",
            "russia_today_7.jsonlines.zip\n",
            "None\n",
            "cyberleninka_0.jsonlines.zip\n",
            "None\n",
            "russia_today_1.jsonlines.zip\n",
            "None\n",
            "russia_today_3.jsonlines.zip\n",
            "None\n",
            "cyberleninka_3.jsonlines.zip\n",
            "None\n",
            "habrahabr_0.jsonlines.zip\n",
            "None\n",
            "sample_data\n",
            "sample_data\n"
          ],
          "name": "stdout"
        }
      ]
    },
    {
      "cell_type": "code",
      "metadata": {
        "id": "WNIxAKLrNgtM",
        "colab_type": "code",
        "colab": {}
      },
      "source": [
        "import json, os\n",
        "import pandas as pd\n",
        "from nltk.corpus import stopwords\n",
        "import numpy as np\n",
        "from pymorphy2 import MorphAnalyzer\n",
        "from collections import Counter\n",
        "from sklearn.feature_extraction.text import TfidfVectorizer\n",
        "morph = MorphAnalyzer()\n",
        "stops = set(stopwords.words('russian'))"
      ],
      "execution_count": 0,
      "outputs": []
    },
    {
      "cell_type": "code",
      "metadata": {
        "id": "ZHcSLdmDe7a8",
        "colab_type": "code",
        "outputId": "9f51383b-130a-4361-d901-0deac4d03903",
        "colab": {
          "base_uri": "https://localhost:8080/",
          "height": 391
        }
      },
      "source": [
        "pd.set_option('display.max_colwidth', 1000)\n",
        "os.listdir()"
      ],
      "execution_count": 6,
      "outputs": [
        {
          "output_type": "execute_result",
          "data": {
            "text/plain": [
              "['.config',\n",
              " 'russia_today_7.jsonlines.zip?raw=true',\n",
              " 'russia_today_0.jsonlines.zip?raw=true',\n",
              " 'cyberleninka_0.jsonlines.zip?raw=true.1',\n",
              " 'habrahabr_0.jsonlines.zip?raw=true',\n",
              " 'cyberleninka_3.jsonlines.zip?raw=true',\n",
              " 'cyberleninka_2.jsonlines.zip?raw=true',\n",
              " 'habrahabr_2.jsonlines.zip?raw=true',\n",
              " 'russia_today_0.jsonlines.zip?raw=true.1',\n",
              " 'russia_today_3.jsonlines.zip?raw=true',\n",
              " 'ng_1.jsonlines.zip?raw=true',\n",
              " 'russia_today_6.jsonlines.zip?raw=true',\n",
              " 'russia_today_1.jsonlines.zip?raw=true',\n",
              " 'cyberleninka_1.jsonlines.zip?raw=true',\n",
              " 'cyberleninka_0.jsonlines.zip?raw=true',\n",
              " 'habrahabr_3.jsonlines.zip?raw=true',\n",
              " 'russia_today_5.jsonlines.zip?raw=true',\n",
              " 'ng_0.jsonlines.zip?raw=true',\n",
              " 'russia_today_2.jsonlines.zip?raw=true',\n",
              " 'russia_today_4.jsonlines.zip?raw=true',\n",
              " 'habrahabr_1.jsonlines.zip?raw=true',\n",
              " 'sample_data']"
            ]
          },
          "metadata": {
            "tags": []
          },
          "execution_count": 6
        }
      ]
    },
    {
      "cell_type": "code",
      "metadata": {
        "id": "ndN1esZafAnB",
        "colab_type": "code",
        "outputId": "8b97d404-4f71-4be9-ae43-784a5d424f75",
        "colab": {
          "base_uri": "https://localhost:8080/",
          "height": 34
        }
      },
      "source": [
        "data_paths = [i for i in os.listdir() if i[-3:] == 'zip']\n",
        "data_paths"
      ],
      "execution_count": 7,
      "outputs": [
        {
          "output_type": "execute_result",
          "data": {
            "text/plain": [
              "[]"
            ]
          },
          "metadata": {
            "tags": []
          },
          "execution_count": 7
        }
      ]
    },
    {
      "cell_type": "code",
      "metadata": {
        "id": "C_Mfp0zAfbEW",
        "colab_type": "code",
        "colab": {
          "base_uri": "https://localhost:8080/",
          "height": 326
        },
        "outputId": "31003a45-6089-4738-d5ad-331c5fd472c3"
      },
      "source": [
        "data = pd.concat([pd.read_json(file, lines=True) for file in data_paths], axis=0, ignore_index=True)"
      ],
      "execution_count": 8,
      "outputs": [
        {
          "output_type": "error",
          "ename": "ValueError",
          "evalue": "ignored",
          "traceback": [
            "\u001b[0;31m---------------------------------------------------------------------------\u001b[0m",
            "\u001b[0;31mValueError\u001b[0m                                Traceback (most recent call last)",
            "\u001b[0;32m<ipython-input-8-79663dca97dc>\u001b[0m in \u001b[0;36m<module>\u001b[0;34m()\u001b[0m\n\u001b[0;32m----> 1\u001b[0;31m \u001b[0mdata\u001b[0m \u001b[0;34m=\u001b[0m \u001b[0mpd\u001b[0m\u001b[0;34m.\u001b[0m\u001b[0mconcat\u001b[0m\u001b[0;34m(\u001b[0m\u001b[0;34m[\u001b[0m\u001b[0mpd\u001b[0m\u001b[0;34m.\u001b[0m\u001b[0mread_json\u001b[0m\u001b[0;34m(\u001b[0m\u001b[0mfile\u001b[0m\u001b[0;34m,\u001b[0m \u001b[0mlines\u001b[0m\u001b[0;34m=\u001b[0m\u001b[0;32mTrue\u001b[0m\u001b[0;34m)\u001b[0m \u001b[0;32mfor\u001b[0m \u001b[0mfile\u001b[0m \u001b[0;32min\u001b[0m \u001b[0mdata_paths\u001b[0m\u001b[0;34m]\u001b[0m\u001b[0;34m,\u001b[0m \u001b[0maxis\u001b[0m\u001b[0;34m=\u001b[0m\u001b[0;36m0\u001b[0m\u001b[0;34m,\u001b[0m \u001b[0mignore_index\u001b[0m\u001b[0;34m=\u001b[0m\u001b[0;32mTrue\u001b[0m\u001b[0;34m)\u001b[0m\u001b[0;34m\u001b[0m\u001b[0;34m\u001b[0m\u001b[0m\n\u001b[0m",
            "\u001b[0;32m/usr/local/lib/python3.6/dist-packages/pandas/core/reshape/concat.py\u001b[0m in \u001b[0;36mconcat\u001b[0;34m(objs, axis, join, ignore_index, keys, levels, names, verify_integrity, sort, copy)\u001b[0m\n\u001b[1;32m    279\u001b[0m         \u001b[0mverify_integrity\u001b[0m\u001b[0;34m=\u001b[0m\u001b[0mverify_integrity\u001b[0m\u001b[0;34m,\u001b[0m\u001b[0;34m\u001b[0m\u001b[0;34m\u001b[0m\u001b[0m\n\u001b[1;32m    280\u001b[0m         \u001b[0mcopy\u001b[0m\u001b[0;34m=\u001b[0m\u001b[0mcopy\u001b[0m\u001b[0;34m,\u001b[0m\u001b[0;34m\u001b[0m\u001b[0;34m\u001b[0m\u001b[0m\n\u001b[0;32m--> 281\u001b[0;31m         \u001b[0msort\u001b[0m\u001b[0;34m=\u001b[0m\u001b[0msort\u001b[0m\u001b[0;34m,\u001b[0m\u001b[0;34m\u001b[0m\u001b[0;34m\u001b[0m\u001b[0m\n\u001b[0m\u001b[1;32m    282\u001b[0m     )\n\u001b[1;32m    283\u001b[0m \u001b[0;34m\u001b[0m\u001b[0m\n",
            "\u001b[0;32m/usr/local/lib/python3.6/dist-packages/pandas/core/reshape/concat.py\u001b[0m in \u001b[0;36m__init__\u001b[0;34m(self, objs, axis, join, keys, levels, names, ignore_index, verify_integrity, copy, sort)\u001b[0m\n\u001b[1;32m    327\u001b[0m \u001b[0;34m\u001b[0m\u001b[0m\n\u001b[1;32m    328\u001b[0m         \u001b[0;32mif\u001b[0m \u001b[0mlen\u001b[0m\u001b[0;34m(\u001b[0m\u001b[0mobjs\u001b[0m\u001b[0;34m)\u001b[0m \u001b[0;34m==\u001b[0m \u001b[0;36m0\u001b[0m\u001b[0;34m:\u001b[0m\u001b[0;34m\u001b[0m\u001b[0;34m\u001b[0m\u001b[0m\n\u001b[0;32m--> 329\u001b[0;31m             \u001b[0;32mraise\u001b[0m \u001b[0mValueError\u001b[0m\u001b[0;34m(\u001b[0m\u001b[0;34m\"No objects to concatenate\"\u001b[0m\u001b[0;34m)\u001b[0m\u001b[0;34m\u001b[0m\u001b[0;34m\u001b[0m\u001b[0m\n\u001b[0m\u001b[1;32m    330\u001b[0m \u001b[0;34m\u001b[0m\u001b[0m\n\u001b[1;32m    331\u001b[0m         \u001b[0;32mif\u001b[0m \u001b[0mkeys\u001b[0m \u001b[0;32mis\u001b[0m \u001b[0;32mNone\u001b[0m\u001b[0;34m:\u001b[0m\u001b[0;34m\u001b[0m\u001b[0;34m\u001b[0m\u001b[0m\n",
            "\u001b[0;31mValueError\u001b[0m: No objects to concatenate"
          ]
        }
      ]
    },
    {
      "cell_type": "code",
      "metadata": {
        "id": "Ycx7gBh9fhsh",
        "colab_type": "code",
        "colab": {}
      },
      "source": [
        "data.shape"
      ],
      "execution_count": 0,
      "outputs": []
    },
    {
      "cell_type": "code",
      "metadata": {
        "id": "RWm8kQO5h0Ns",
        "colab_type": "code",
        "colab": {}
      },
      "source": [
        "data.head(3)"
      ],
      "execution_count": 0,
      "outputs": []
    },
    {
      "cell_type": "code",
      "metadata": {
        "id": "IYit5bx-h2Q_",
        "colab_type": "code",
        "colab": {}
      },
      "source": [
        "def evaluate(true_kws, predicted_kws):\n",
        "    assert len(true_kws) == len(predicted_kws)\n",
        "    \n",
        "    precisions = []\n",
        "    recalls = []\n",
        "    f1s = []\n",
        "    jaccards = []\n",
        "    \n",
        "    for i in range(len(true_kws)):\n",
        "        \n",
        "        true_kw = set(true_kws[i])\n",
        "        predicted_kw = set(predicted_kws[i])\n",
        "        \n",
        "        tp = len(true_kw & predicted_kw)\n",
        "        union = len(true_kw | predicted_kw)\n",
        "        fp = len(predicted_kw - true_kw)\n",
        "        fn = len(true_kw - predicted_kw)\n",
        "        \n",
        "        if (tp+fp) == 0:\n",
        "            prec = 0\n",
        "        else:\n",
        "            prec = tp / (tp + fp)\n",
        "        \n",
        "        if (tp+fn) == 0:\n",
        "            rec = 0\n",
        "        else:\n",
        "            rec = tp / (tp + fn)\n",
        "        if (prec+rec) == 0:\n",
        "            f1 = 0\n",
        "        else:\n",
        "            f1 = (2*(prec*rec))/(prec+rec)\n",
        "            \n",
        "        jac = tp / union\n",
        "        \n",
        "        precisions.append(prec)\n",
        "        recalls.append(rec)\n",
        "        f1s.append(f1)\n",
        "        jaccards.append(jac)\n",
        "    print('Precision - ', round(np.mean(precisions), 2))\n",
        "    print('Recall - ', round(np.mean(recalls), 2))\n",
        "    print('F1 - ', round(np.mean(f1s), 2))\n",
        "    print('Jaccard - ', round(np.mean(jaccards), 2))"
      ],
      "execution_count": 0,
      "outputs": []
    },
    {
      "cell_type": "code",
      "metadata": {
        "id": "4Vvq4gUjihhx",
        "colab_type": "code",
        "colab": {}
      },
      "source": [
        "evaluate(data['keywords'], data['keywords'])"
      ],
      "execution_count": 0,
      "outputs": []
    },
    {
      "cell_type": "code",
      "metadata": {
        "id": "I8yZ20OLimO-",
        "colab_type": "code",
        "colab": {}
      },
      "source": [
        "from string import punctuation\n",
        "from nltk.corpus import stopwords\n",
        "punct = punctuation+'«»—…“”*№–'\n",
        "stops = set(stopwords.words('russian'))\n",
        "\n",
        "def normalize(text):\n",
        "    \n",
        "    words = [word.strip(punct) for word in text.lower().split()]\n",
        "    words = [morph.parse(word)[0] for word in words if word and word not in stops]\n",
        "    words = [word.normal_form for word in words if word.tag.POS == 'NOUN']\n",
        "\n",
        "    return words"
      ],
      "execution_count": 0,
      "outputs": []
    },
    {
      "cell_type": "code",
      "metadata": {
        "id": "F2QMZzedi02S",
        "colab_type": "code",
        "colab": {}
      },
      "source": [
        "data['content_norm'] = data['content'].apply(normalize)"
      ],
      "execution_count": 0,
      "outputs": []
    },
    {
      "cell_type": "code",
      "metadata": {
        "id": "hD-NgrVXi3Zx",
        "colab_type": "code",
        "colab": {}
      },
      "source": [
        "data['title_norm'] = data['title'].apply(normalize)"
      ],
      "execution_count": 0,
      "outputs": []
    },
    {
      "cell_type": "code",
      "metadata": {
        "id": "hLZsMNL7TEST",
        "colab_type": "code",
        "colab": {}
      },
      "source": [
        "data['content_norm_str'] = data['content_norm'].apply(' '.join)"
      ],
      "execution_count": 0,
      "outputs": []
    },
    {
      "cell_type": "code",
      "metadata": {
        "id": "4rx-sFWSi5NQ",
        "colab_type": "code",
        "colab": {}
      },
      "source": [
        "from itertools import combinations"
      ],
      "execution_count": 0,
      "outputs": []
    },
    {
      "cell_type": "code",
      "metadata": {
        "id": "HUGXC21HOhIz",
        "colab_type": "code",
        "colab": {}
      },
      "source": [
        "import networkx as nx"
      ],
      "execution_count": 0,
      "outputs": []
    },
    {
      "cell_type": "code",
      "metadata": {
        "id": "zNjrL9OSO3sD",
        "colab_type": "code",
        "colab": {}
      },
      "source": [
        "\n",
        "tfidf = TfidfVectorizer(ngram_range=(1,2), min_df=5)"
      ],
      "execution_count": 0,
      "outputs": []
    },
    {
      "cell_type": "code",
      "metadata": {
        "id": "FSLiVrUsTNLb",
        "colab_type": "code",
        "outputId": "d325cd30-9103-4c82-ea37-c9aa84cadfec",
        "colab": {
          "base_uri": "https://localhost:8080/",
          "height": 136
        }
      },
      "source": [
        "tfidf.fit(data['content_norm_str'])"
      ],
      "execution_count": 0,
      "outputs": [
        {
          "output_type": "execute_result",
          "data": {
            "text/plain": [
              "TfidfVectorizer(analyzer='word', binary=False, decode_error='strict',\n",
              "                dtype=<class 'numpy.float64'>, encoding='utf-8',\n",
              "                input='content', lowercase=True, max_df=1.0, max_features=None,\n",
              "                min_df=5, ngram_range=(1, 2), norm='l2', preprocessor=None,\n",
              "                smooth_idf=True, stop_words=None, strip_accents=None,\n",
              "                sublinear_tf=False, token_pattern='(?u)\\\\b\\\\w\\\\w+\\\\b',\n",
              "                tokenizer=None, use_idf=True, vocabulary=None)"
            ]
          },
          "metadata": {
            "tags": []
          },
          "execution_count": 53
        }
      ]
    },
    {
      "cell_type": "code",
      "metadata": {
        "id": "6WyJKQ6MS6yp",
        "colab_type": "code",
        "colab": {}
      },
      "source": [
        "id2word = {i:word for i,word in enumerate(tfidf.get_feature_names())}"
      ],
      "execution_count": 0,
      "outputs": []
    },
    {
      "cell_type": "code",
      "metadata": {
        "id": "jwFgFlRJTtQW",
        "colab_type": "code",
        "colab": {}
      },
      "source": [
        "texts_vectors = tfidf.transform(data['content_norm_str'])"
      ],
      "execution_count": 0,
      "outputs": []
    },
    {
      "cell_type": "code",
      "metadata": {
        "id": "VVsy5FTCSHfF",
        "colab_type": "code",
        "colab": {}
      },
      "source": [
        "keywords = []\n",
        "\n",
        "for row in range(texts_vectors.shape[0]):\n",
        "    row_data = texts_vectors.getrow(row)\n",
        "    top_inds = row_data.toarray().argsort()[0,:-11:-1]\n",
        "    keywords.append([id2word[w] for w in top_inds])"
      ],
      "execution_count": 0,
      "outputs": []
    },
    {
      "cell_type": "code",
      "metadata": {
        "id": "C7rUjTm1Sr51",
        "colab_type": "code",
        "outputId": "f2ed2aa1-0888-4f57-c02c-c843ad337573",
        "colab": {
          "base_uri": "https://localhost:8080/",
          "height": 85
        }
      },
      "source": [
        "evaluate(data['keywords'], keywords)"
      ],
      "execution_count": 0,
      "outputs": [
        {
          "output_type": "stream",
          "text": [
            "Precision -  0.09\n",
            "Recall -  0.12\n",
            "F1 -  0.09\n",
            "Jaccard -  0.05\n"
          ],
          "name": "stdout"
        }
      ]
    },
    {
      "cell_type": "code",
      "metadata": {
        "id": "baiMd2oAT8wN",
        "colab_type": "code",
        "outputId": "47bb7af4-b73e-4e88-c871-2b4144b5b9ee",
        "colab": {
          "base_uri": "https://localhost:8080/",
          "height": 85
        }
      },
      "source": [
        "#добавим триграммы\n",
        "tfidf = TfidfVectorizer(ngram_range=(1,3), min_df=5)\n",
        "tfidf.fit(data['content_norm_str'])\n",
        "id2word = {i:word for i,word in enumerate(tfidf.get_feature_names())}\n",
        "texts_vectors = tfidf.transform(data['content_norm_str'])\n",
        "\n",
        "keywords = []\n",
        "\n",
        "for row in range(texts_vectors.shape[0]):\n",
        "    row_data = texts_vectors.getrow(row)\n",
        "    top_inds = row_data.toarray().argsort()[0,:-11:-1]\n",
        "    keywords.append([id2word[w] for w in top_inds])\n",
        "\n",
        "evaluate(data['keywords'], keywords)"
      ],
      "execution_count": 0,
      "outputs": [
        {
          "output_type": "stream",
          "text": [
            "Precision -  0.09\n",
            "Recall -  0.12\n",
            "F1 -  0.09\n",
            "Jaccard -  0.05\n"
          ],
          "name": "stdout"
        }
      ]
    },
    {
      "cell_type": "code",
      "metadata": {
        "id": "75h_IidXUZX0",
        "colab_type": "code",
        "colab": {}
      },
      "source": [
        ""
      ],
      "execution_count": 0,
      "outputs": []
    }
  ]
}