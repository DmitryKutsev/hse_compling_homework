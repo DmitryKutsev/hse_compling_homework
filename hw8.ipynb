{
  "nbformat": 4,
  "nbformat_minor": 0,
  "metadata": {
    "colab": {
      "name": "Untitled33.ipynb",
      "provenance": [],
      "authorship_tag": "ABX9TyPJToZBCIL+0sMjJ9EH9WP2",
      "include_colab_link": true
    },
    "kernelspec": {
      "name": "python3",
      "display_name": "Python 3"
    }
  },
  "cells": [
    {
      "cell_type": "markdown",
      "metadata": {
        "id": "view-in-github",
        "colab_type": "text"
      },
      "source": [
        "<a href=\"https://colab.research.google.com/github/DmitryKutsev/hse_compling_homework/blob/master/hw8.ipynb\" target=\"_parent\"><img src=\"https://colab.research.google.com/assets/colab-badge.svg\" alt=\"Open In Colab\"/></a>"
      ]
    },
    {
      "cell_type": "code",
      "metadata": {
        "id": "ut15pIopfB_b",
        "colab_type": "code",
        "outputId": "858288e8-cb92-4906-d6f3-9009e0f58daf",
        "colab": {
          "base_uri": "https://localhost:8080/",
          "height": 156
        }
      },
      "source": [
        "!pip install pymorphy2[fast]\n",
        "!pip install nltk"
      ],
      "execution_count": 15,
      "outputs": [
        {
          "output_type": "stream",
          "text": [
            "Requirement already satisfied: pymorphy2[fast] in /usr/local/lib/python3.6/dist-packages (0.8)\n",
            "Requirement already satisfied: docopt>=0.6 in /usr/local/lib/python3.6/dist-packages (from pymorphy2[fast]) (0.6.2)\n",
            "Requirement already satisfied: dawg-python>=0.7 in /usr/local/lib/python3.6/dist-packages (from pymorphy2[fast]) (0.7.2)\n",
            "Requirement already satisfied: pymorphy2-dicts<3.0,>=2.4 in /usr/local/lib/python3.6/dist-packages (from pymorphy2[fast]) (2.4.393442.3710985)\n",
            "Requirement already satisfied: DAWG>=0.7.3; extra == \"fast\" in /usr/local/lib/python3.6/dist-packages (from pymorphy2[fast]) (0.8.0)\n",
            "Requirement already satisfied: nltk in /usr/local/lib/python3.6/dist-packages (3.2.5)\n",
            "Requirement already satisfied: six in /usr/local/lib/python3.6/dist-packages (from nltk) (1.12.0)\n"
          ],
          "name": "stdout"
        }
      ]
    },
    {
      "cell_type": "code",
      "metadata": {
        "id": "jEugqHwMgTTe",
        "colab_type": "code",
        "outputId": "c38b670c-0e0c-4067-d504-3e358186afbe",
        "colab": {
          "base_uri": "https://localhost:8080/",
          "height": 68
        }
      },
      "source": [
        "import nltk\n",
        "nltk.download('stopwords')"
      ],
      "execution_count": 16,
      "outputs": [
        {
          "output_type": "stream",
          "text": [
            "[nltk_data] Downloading package stopwords to /root/nltk_data...\n",
            "[nltk_data]   Package stopwords is already up-to-date!\n"
          ],
          "name": "stdout"
        },
        {
          "output_type": "execute_result",
          "data": {
            "text/plain": [
              "True"
            ]
          },
          "metadata": {
            "tags": []
          },
          "execution_count": 16
        }
      ]
    },
    {
      "cell_type": "code",
      "metadata": {
        "id": "nmZZFILugqyf",
        "colab_type": "code",
        "outputId": "e3bd806b-76b9-4114-a0ef-c62d78269877",
        "colab": {
          "base_uri": "https://localhost:8080/",
          "height": 1000
        }
      },
      "source": [
        "!wget https://github.com/mannefedov/ru_kw_eval_datasets/blob/master/data/ng_0.jsonlines.zip?raw=true\n",
        "!wget https://github.com/mannefedov/ru_kw_eval_datasets/blob/master/data/ng_1.jsonlines.zip?raw=true\n",
        "!wget https://github.com/mannefedov/ru_kw_eval_datasets/blob/master/data/russia_today_0.jsonlines.zip?raw=true\n",
        "!wget https://github.com/mannefedov/ru_kw_eval_datasets/blob/master/data/russia_today_1.jsonlines.zip?raw=true\n",
        "!wget https://github.com/mannefedov/ru_kw_eval_datasets/blob/master/data/russia_today_2.jsonlines.zip?raw=true\n",
        "!wget https://github.com/mannefedov/ru_kw_eval_datasets/blob/master/data/russia_today_3.jsonlines.zip?raw=true\n",
        "!wget https://github.com/mannefedov/ru_kw_eval_datasets/blob/master/data/russia_today_4.jsonlines.zip?raw=true\n",
        "!wget https://github.com/mannefedov/ru_kw_eval_datasets/blob/master/data/russia_today_5.jsonlines.zip?raw=true\n",
        "!wget https://github.com/mannefedov/ru_kw_eval_datasets/blob/master/data/russia_today_6.jsonlines.zip?raw=true\n",
        "!wget https://github.com/mannefedov/ru_kw_eval_datasets/blob/master/data/russia_today_7.jsonlines.zip?raw=true\n",
        "!wget https://github.com/mannefedov/ru_kw_eval_datasets/blob/master/data/russia_today_0.jsonlines.zip?raw=true\n",
        "!wget https://github.com/mannefedov/ru_kw_eval_datasets/blob/master/data/habrahabr_0.jsonlines.zip?raw=true\n",
        "!wget https://github.com/mannefedov/ru_kw_eval_datasets/blob/master/data/habrahabr_1.jsonlines.zip?raw=true\n",
        "!wget https://github.com/mannefedov/ru_kw_eval_datasets/blob/master/data/habrahabr_2.jsonlines.zip?raw=true\n",
        "!wget https://github.com/mannefedov/ru_kw_eval_datasets/blob/master/data/habrahabr_3.jsonlines.zip?raw=true\n",
        "!wget https://github.com/mannefedov/ru_kw_eval_datasets/blob/master/data/cyberleninka_0.jsonlines.zip?raw=true\n",
        "!wget https://github.com/mannefedov/ru_kw_eval_datasets/blob/master/data/cyberleninka_1.jsonlines.zip?raw=true\n",
        "!wget https://github.com/mannefedov/ru_kw_eval_datasets/blob/master/data/cyberleninka_0.jsonlines.zip?raw=true\n",
        "!wget https://github.com/mannefedov/ru_kw_eval_datasets/blob/master/data/cyberleninka_2.jsonlines.zip?raw=true\n",
        "!wget https://github.com/mannefedov/ru_kw_eval_datasets/blob/master/data/cyberleninka_3.jsonlines.zip?raw=true\n",
        "\n"
      ],
      "execution_count": 17,
      "outputs": [
        {
          "output_type": "stream",
          "text": [
            "--2020-04-23 19:14:46--  https://github.com/mannefedov/ru_kw_eval_datasets/blob/master/data/ng_0.jsonlines.zip?raw=true\n",
            "Resolving github.com (github.com)... 140.82.118.4\n",
            "Connecting to github.com (github.com)|140.82.118.4|:443... connected.\n",
            "HTTP request sent, awaiting response... 302 Found\n",
            "Location: https://github.com/mannefedov/ru_kw_eval_datasets/raw/master/data/ng_0.jsonlines.zip [following]\n",
            "--2020-04-23 19:14:46--  https://github.com/mannefedov/ru_kw_eval_datasets/raw/master/data/ng_0.jsonlines.zip\n",
            "Reusing existing connection to github.com:443.\n",
            "HTTP request sent, awaiting response... 302 Found\n",
            "Location: https://raw.githubusercontent.com/mannefedov/ru_kw_eval_datasets/master/data/ng_0.jsonlines.zip [following]\n",
            "--2020-04-23 19:14:47--  https://raw.githubusercontent.com/mannefedov/ru_kw_eval_datasets/master/data/ng_0.jsonlines.zip\n",
            "Resolving raw.githubusercontent.com (raw.githubusercontent.com)... 151.101.0.133, 151.101.64.133, 151.101.128.133, ...\n",
            "Connecting to raw.githubusercontent.com (raw.githubusercontent.com)|151.101.0.133|:443... connected.\n",
            "HTTP request sent, awaiting response... 200 OK\n",
            "Length: 2987145 (2.8M) [application/zip]\n",
            "Saving to: ‘ng_0.jsonlines.zip?raw=true’\n",
            "\n",
            "ng_0.jsonlines.zip? 100%[===================>]   2.85M  --.-KB/s    in 0.09s   \n",
            "\n",
            "2020-04-23 19:14:47 (32.0 MB/s) - ‘ng_0.jsonlines.zip?raw=true’ saved [2987145/2987145]\n",
            "\n",
            "--2020-04-23 19:14:50--  https://github.com/mannefedov/ru_kw_eval_datasets/blob/master/data/ng_1.jsonlines.zip?raw=true\n",
            "Resolving github.com (github.com)... 140.82.118.3\n",
            "Connecting to github.com (github.com)|140.82.118.3|:443... connected.\n",
            "HTTP request sent, awaiting response... 302 Found\n",
            "Location: https://github.com/mannefedov/ru_kw_eval_datasets/raw/master/data/ng_1.jsonlines.zip [following]\n",
            "--2020-04-23 19:14:50--  https://github.com/mannefedov/ru_kw_eval_datasets/raw/master/data/ng_1.jsonlines.zip\n",
            "Reusing existing connection to github.com:443.\n",
            "HTTP request sent, awaiting response... 302 Found\n",
            "Location: https://raw.githubusercontent.com/mannefedov/ru_kw_eval_datasets/master/data/ng_1.jsonlines.zip [following]\n",
            "--2020-04-23 19:14:50--  https://raw.githubusercontent.com/mannefedov/ru_kw_eval_datasets/master/data/ng_1.jsonlines.zip\n",
            "Resolving raw.githubusercontent.com (raw.githubusercontent.com)... 151.101.0.133, 151.101.64.133, 151.101.128.133, ...\n",
            "Connecting to raw.githubusercontent.com (raw.githubusercontent.com)|151.101.0.133|:443... connected.\n",
            "HTTP request sent, awaiting response... 200 OK\n",
            "Length: 3074290 (2.9M) [application/zip]\n",
            "Saving to: ‘ng_1.jsonlines.zip?raw=true’\n",
            "\n",
            "ng_1.jsonlines.zip? 100%[===================>]   2.93M  --.-KB/s    in 0.1s    \n",
            "\n",
            "2020-04-23 19:14:51 (22.6 MB/s) - ‘ng_1.jsonlines.zip?raw=true’ saved [3074290/3074290]\n",
            "\n",
            "--2020-04-23 19:14:52--  https://github.com/mannefedov/ru_kw_eval_datasets/blob/master/data/russia_today_0.jsonlines.zip?raw=true\n",
            "Resolving github.com (github.com)... 140.82.118.3\n",
            "Connecting to github.com (github.com)|140.82.118.3|:443... connected.\n",
            "HTTP request sent, awaiting response... 302 Found\n",
            "Location: https://github.com/mannefedov/ru_kw_eval_datasets/raw/master/data/russia_today_0.jsonlines.zip [following]\n",
            "--2020-04-23 19:14:52--  https://github.com/mannefedov/ru_kw_eval_datasets/raw/master/data/russia_today_0.jsonlines.zip\n",
            "Reusing existing connection to github.com:443.\n",
            "HTTP request sent, awaiting response... 302 Found\n",
            "Location: https://raw.githubusercontent.com/mannefedov/ru_kw_eval_datasets/master/data/russia_today_0.jsonlines.zip [following]\n",
            "--2020-04-23 19:14:53--  https://raw.githubusercontent.com/mannefedov/ru_kw_eval_datasets/master/data/russia_today_0.jsonlines.zip\n",
            "Resolving raw.githubusercontent.com (raw.githubusercontent.com)... 151.101.0.133, 151.101.64.133, 151.101.128.133, ...\n",
            "Connecting to raw.githubusercontent.com (raw.githubusercontent.com)|151.101.0.133|:443... connected.\n",
            "HTTP request sent, awaiting response... 200 OK\n",
            "Length: 3484384 (3.3M) [application/zip]\n",
            "Saving to: ‘russia_today_0.jsonlines.zip?raw=true’\n",
            "\n",
            "russia_today_0.json 100%[===================>]   3.32M  --.-KB/s    in 0.06s   \n",
            "\n",
            "2020-04-23 19:14:53 (56.6 MB/s) - ‘russia_today_0.jsonlines.zip?raw=true’ saved [3484384/3484384]\n",
            "\n",
            "--2020-04-23 19:14:55--  https://github.com/mannefedov/ru_kw_eval_datasets/blob/master/data/russia_today_1.jsonlines.zip?raw=true\n",
            "Resolving github.com (github.com)... 140.82.118.4\n",
            "Connecting to github.com (github.com)|140.82.118.4|:443... connected.\n",
            "HTTP request sent, awaiting response... 302 Found\n",
            "Location: https://github.com/mannefedov/ru_kw_eval_datasets/raw/master/data/russia_today_1.jsonlines.zip [following]\n",
            "--2020-04-23 19:14:56--  https://github.com/mannefedov/ru_kw_eval_datasets/raw/master/data/russia_today_1.jsonlines.zip\n",
            "Reusing existing connection to github.com:443.\n",
            "HTTP request sent, awaiting response... 302 Found\n",
            "Location: https://raw.githubusercontent.com/mannefedov/ru_kw_eval_datasets/master/data/russia_today_1.jsonlines.zip [following]\n",
            "--2020-04-23 19:14:56--  https://raw.githubusercontent.com/mannefedov/ru_kw_eval_datasets/master/data/russia_today_1.jsonlines.zip\n",
            "Resolving raw.githubusercontent.com (raw.githubusercontent.com)... 151.101.0.133, 151.101.64.133, 151.101.128.133, ...\n",
            "Connecting to raw.githubusercontent.com (raw.githubusercontent.com)|151.101.0.133|:443... connected.\n",
            "HTTP request sent, awaiting response... 200 OK\n",
            "Length: 3388270 (3.2M) [application/zip]\n",
            "Saving to: ‘russia_today_1.jsonlines.zip?raw=true’\n",
            "\n",
            "russia_today_1.json 100%[===================>]   3.23M  --.-KB/s    in 0.03s   \n",
            "\n",
            "2020-04-23 19:14:56 (92.7 MB/s) - ‘russia_today_1.jsonlines.zip?raw=true’ saved [3388270/3388270]\n",
            "\n",
            "--2020-04-23 19:14:58--  https://github.com/mannefedov/ru_kw_eval_datasets/blob/master/data/russia_today_2.jsonlines.zip?raw=true\n",
            "Resolving github.com (github.com)... 140.82.118.3\n",
            "Connecting to github.com (github.com)|140.82.118.3|:443... connected.\n",
            "HTTP request sent, awaiting response... 302 Found\n",
            "Location: https://github.com/mannefedov/ru_kw_eval_datasets/raw/master/data/russia_today_2.jsonlines.zip [following]\n",
            "--2020-04-23 19:14:58--  https://github.com/mannefedov/ru_kw_eval_datasets/raw/master/data/russia_today_2.jsonlines.zip\n",
            "Reusing existing connection to github.com:443.\n",
            "HTTP request sent, awaiting response... 302 Found\n",
            "Location: https://raw.githubusercontent.com/mannefedov/ru_kw_eval_datasets/master/data/russia_today_2.jsonlines.zip [following]\n",
            "--2020-04-23 19:14:59--  https://raw.githubusercontent.com/mannefedov/ru_kw_eval_datasets/master/data/russia_today_2.jsonlines.zip\n",
            "Resolving raw.githubusercontent.com (raw.githubusercontent.com)... 151.101.0.133, 151.101.64.133, 151.101.128.133, ...\n",
            "Connecting to raw.githubusercontent.com (raw.githubusercontent.com)|151.101.0.133|:443... connected.\n",
            "HTTP request sent, awaiting response... 200 OK\n",
            "Length: 3484797 (3.3M) [application/zip]\n",
            "Saving to: ‘russia_today_2.jsonlines.zip?raw=true’\n",
            "\n",
            "russia_today_2.json 100%[===================>]   3.32M  --.-KB/s    in 0.1s    \n",
            "\n",
            "2020-04-23 19:14:59 (32.2 MB/s) - ‘russia_today_2.jsonlines.zip?raw=true’ saved [3484797/3484797]\n",
            "\n",
            "--2020-04-23 19:15:01--  https://github.com/mannefedov/ru_kw_eval_datasets/blob/master/data/russia_today_3.jsonlines.zip?raw=true\n",
            "Resolving github.com (github.com)... 140.82.118.3\n",
            "Connecting to github.com (github.com)|140.82.118.3|:443... connected.\n",
            "HTTP request sent, awaiting response... 302 Found\n",
            "Location: https://github.com/mannefedov/ru_kw_eval_datasets/raw/master/data/russia_today_3.jsonlines.zip [following]\n",
            "--2020-04-23 19:15:02--  https://github.com/mannefedov/ru_kw_eval_datasets/raw/master/data/russia_today_3.jsonlines.zip\n",
            "Reusing existing connection to github.com:443.\n",
            "HTTP request sent, awaiting response... 302 Found\n",
            "Location: https://raw.githubusercontent.com/mannefedov/ru_kw_eval_datasets/master/data/russia_today_3.jsonlines.zip [following]\n",
            "--2020-04-23 19:15:02--  https://raw.githubusercontent.com/mannefedov/ru_kw_eval_datasets/master/data/russia_today_3.jsonlines.zip\n",
            "Resolving raw.githubusercontent.com (raw.githubusercontent.com)... 151.101.0.133, 151.101.64.133, 151.101.128.133, ...\n",
            "Connecting to raw.githubusercontent.com (raw.githubusercontent.com)|151.101.0.133|:443... connected.\n",
            "HTTP request sent, awaiting response... 200 OK\n",
            "Length: 3473061 (3.3M) [application/zip]\n",
            "Saving to: ‘russia_today_3.jsonlines.zip?raw=true’\n",
            "\n",
            "russia_today_3.json 100%[===================>]   3.31M  --.-KB/s    in 0.09s   \n",
            "\n",
            "2020-04-23 19:15:03 (35.2 MB/s) - ‘russia_today_3.jsonlines.zip?raw=true’ saved [3473061/3473061]\n",
            "\n",
            "--2020-04-23 19:15:04--  https://github.com/mannefedov/ru_kw_eval_datasets/blob/master/data/russia_today_4.jsonlines.zip?raw=true\n",
            "Resolving github.com (github.com)... 140.82.118.4\n",
            "Connecting to github.com (github.com)|140.82.118.4|:443... connected.\n",
            "HTTP request sent, awaiting response... 302 Found\n",
            "Location: https://github.com/mannefedov/ru_kw_eval_datasets/raw/master/data/russia_today_4.jsonlines.zip [following]\n",
            "--2020-04-23 19:15:04--  https://github.com/mannefedov/ru_kw_eval_datasets/raw/master/data/russia_today_4.jsonlines.zip\n",
            "Reusing existing connection to github.com:443.\n",
            "HTTP request sent, awaiting response... 302 Found\n",
            "Location: https://raw.githubusercontent.com/mannefedov/ru_kw_eval_datasets/master/data/russia_today_4.jsonlines.zip [following]\n",
            "--2020-04-23 19:15:05--  https://raw.githubusercontent.com/mannefedov/ru_kw_eval_datasets/master/data/russia_today_4.jsonlines.zip\n",
            "Resolving raw.githubusercontent.com (raw.githubusercontent.com)... 151.101.0.133, 151.101.64.133, 151.101.128.133, ...\n",
            "Connecting to raw.githubusercontent.com (raw.githubusercontent.com)|151.101.0.133|:443... connected.\n",
            "HTTP request sent, awaiting response... 200 OK\n",
            "Length: 3410129 (3.3M) [application/zip]\n",
            "Saving to: ‘russia_today_4.jsonlines.zip?raw=true’\n",
            "\n",
            "russia_today_4.json 100%[===================>]   3.25M  --.-KB/s    in 0.03s   \n",
            "\n",
            "2020-04-23 19:15:05 (99.7 MB/s) - ‘russia_today_4.jsonlines.zip?raw=true’ saved [3410129/3410129]\n",
            "\n",
            "--2020-04-23 19:15:07--  https://github.com/mannefedov/ru_kw_eval_datasets/blob/master/data/russia_today_5.jsonlines.zip?raw=true\n",
            "Resolving github.com (github.com)... 140.82.118.3\n",
            "Connecting to github.com (github.com)|140.82.118.3|:443... connected.\n",
            "HTTP request sent, awaiting response... 302 Found\n",
            "Location: https://github.com/mannefedov/ru_kw_eval_datasets/raw/master/data/russia_today_5.jsonlines.zip [following]\n",
            "--2020-04-23 19:15:07--  https://github.com/mannefedov/ru_kw_eval_datasets/raw/master/data/russia_today_5.jsonlines.zip\n",
            "Reusing existing connection to github.com:443.\n",
            "HTTP request sent, awaiting response... 302 Found\n",
            "Location: https://raw.githubusercontent.com/mannefedov/ru_kw_eval_datasets/master/data/russia_today_5.jsonlines.zip [following]\n",
            "--2020-04-23 19:15:07--  https://raw.githubusercontent.com/mannefedov/ru_kw_eval_datasets/master/data/russia_today_5.jsonlines.zip\n",
            "Resolving raw.githubusercontent.com (raw.githubusercontent.com)... 151.101.0.133, 151.101.64.133, 151.101.128.133, ...\n",
            "Connecting to raw.githubusercontent.com (raw.githubusercontent.com)|151.101.0.133|:443... connected.\n",
            "HTTP request sent, awaiting response... 200 OK\n",
            "Length: 3489805 (3.3M) [application/zip]\n",
            "Saving to: ‘russia_today_5.jsonlines.zip?raw=true’\n",
            "\n",
            "russia_today_5.json 100%[===================>]   3.33M  --.-KB/s    in 0.1s    \n",
            "\n",
            "2020-04-23 19:15:08 (25.3 MB/s) - ‘russia_today_5.jsonlines.zip?raw=true’ saved [3489805/3489805]\n",
            "\n",
            "--2020-04-23 19:15:09--  https://github.com/mannefedov/ru_kw_eval_datasets/blob/master/data/russia_today_6.jsonlines.zip?raw=true\n",
            "Resolving github.com (github.com)... 140.82.118.4\n",
            "Connecting to github.com (github.com)|140.82.118.4|:443... connected.\n",
            "HTTP request sent, awaiting response... 302 Found\n",
            "Location: https://github.com/mannefedov/ru_kw_eval_datasets/raw/master/data/russia_today_6.jsonlines.zip [following]\n",
            "--2020-04-23 19:15:09--  https://github.com/mannefedov/ru_kw_eval_datasets/raw/master/data/russia_today_6.jsonlines.zip\n",
            "Reusing existing connection to github.com:443.\n",
            "HTTP request sent, awaiting response... 302 Found\n",
            "Location: https://raw.githubusercontent.com/mannefedov/ru_kw_eval_datasets/master/data/russia_today_6.jsonlines.zip [following]\n",
            "--2020-04-23 19:15:10--  https://raw.githubusercontent.com/mannefedov/ru_kw_eval_datasets/master/data/russia_today_6.jsonlines.zip\n",
            "Resolving raw.githubusercontent.com (raw.githubusercontent.com)... 151.101.0.133, 151.101.64.133, 151.101.128.133, ...\n",
            "Connecting to raw.githubusercontent.com (raw.githubusercontent.com)|151.101.0.133|:443... connected.\n",
            "HTTP request sent, awaiting response... 200 OK\n",
            "Length: 3541577 (3.4M) [application/zip]\n",
            "Saving to: ‘russia_today_6.jsonlines.zip?raw=true’\n",
            "\n",
            "russia_today_6.json 100%[===================>]   3.38M  --.-KB/s    in 0.04s   \n",
            "\n",
            "2020-04-23 19:15:10 (95.2 MB/s) - ‘russia_today_6.jsonlines.zip?raw=true’ saved [3541577/3541577]\n",
            "\n",
            "--2020-04-23 19:15:12--  https://github.com/mannefedov/ru_kw_eval_datasets/blob/master/data/russia_today_7.jsonlines.zip?raw=true\n",
            "Resolving github.com (github.com)... 140.82.118.4\n",
            "Connecting to github.com (github.com)|140.82.118.4|:443... connected.\n",
            "HTTP request sent, awaiting response... 302 Found\n",
            "Location: https://github.com/mannefedov/ru_kw_eval_datasets/raw/master/data/russia_today_7.jsonlines.zip [following]\n",
            "--2020-04-23 19:15:12--  https://github.com/mannefedov/ru_kw_eval_datasets/raw/master/data/russia_today_7.jsonlines.zip\n",
            "Reusing existing connection to github.com:443.\n",
            "HTTP request sent, awaiting response... 302 Found\n",
            "Location: https://raw.githubusercontent.com/mannefedov/ru_kw_eval_datasets/master/data/russia_today_7.jsonlines.zip [following]\n",
            "--2020-04-23 19:15:12--  https://raw.githubusercontent.com/mannefedov/ru_kw_eval_datasets/master/data/russia_today_7.jsonlines.zip\n",
            "Resolving raw.githubusercontent.com (raw.githubusercontent.com)... 151.101.0.133, 151.101.64.133, 151.101.128.133, ...\n",
            "Connecting to raw.githubusercontent.com (raw.githubusercontent.com)|151.101.0.133|:443... connected.\n",
            "HTTP request sent, awaiting response... 200 OK\n",
            "Length: 769255 (751K) [application/zip]\n",
            "Saving to: ‘russia_today_7.jsonlines.zip?raw=true’\n",
            "\n",
            "russia_today_7.json 100%[===================>] 751.23K  --.-KB/s    in 0.02s   \n",
            "\n",
            "2020-04-23 19:15:13 (34.9 MB/s) - ‘russia_today_7.jsonlines.zip?raw=true’ saved [769255/769255]\n",
            "\n",
            "--2020-04-23 19:15:14--  https://github.com/mannefedov/ru_kw_eval_datasets/blob/master/data/russia_today_0.jsonlines.zip?raw=true\n",
            "Resolving github.com (github.com)... 140.82.118.3\n",
            "Connecting to github.com (github.com)|140.82.118.3|:443... connected.\n",
            "HTTP request sent, awaiting response... 302 Found\n",
            "Location: https://github.com/mannefedov/ru_kw_eval_datasets/raw/master/data/russia_today_0.jsonlines.zip [following]\n",
            "--2020-04-23 19:15:14--  https://github.com/mannefedov/ru_kw_eval_datasets/raw/master/data/russia_today_0.jsonlines.zip\n",
            "Reusing existing connection to github.com:443.\n",
            "HTTP request sent, awaiting response... 302 Found\n",
            "Location: https://raw.githubusercontent.com/mannefedov/ru_kw_eval_datasets/master/data/russia_today_0.jsonlines.zip [following]\n",
            "--2020-04-23 19:15:14--  https://raw.githubusercontent.com/mannefedov/ru_kw_eval_datasets/master/data/russia_today_0.jsonlines.zip\n",
            "Resolving raw.githubusercontent.com (raw.githubusercontent.com)... 151.101.0.133, 151.101.64.133, 151.101.128.133, ...\n",
            "Connecting to raw.githubusercontent.com (raw.githubusercontent.com)|151.101.0.133|:443... connected.\n",
            "HTTP request sent, awaiting response... 200 OK\n",
            "Length: 3484384 (3.3M) [application/zip]\n",
            "Saving to: ‘russia_today_0.jsonlines.zip?raw=true.1’\n",
            "\n",
            "russia_today_0.json 100%[===================>]   3.32M  --.-KB/s    in 0.04s   \n",
            "\n",
            "2020-04-23 19:15:14 (79.9 MB/s) - ‘russia_today_0.jsonlines.zip?raw=true.1’ saved [3484384/3484384]\n",
            "\n",
            "--2020-04-23 19:15:17--  https://github.com/mannefedov/ru_kw_eval_datasets/blob/master/data/habrahabr_0.jsonlines.zip?raw=true\n",
            "Resolving github.com (github.com)... 140.82.118.3\n",
            "Connecting to github.com (github.com)|140.82.118.3|:443... connected.\n",
            "HTTP request sent, awaiting response... 302 Found\n",
            "Location: https://github.com/mannefedov/ru_kw_eval_datasets/raw/master/data/habrahabr_0.jsonlines.zip [following]\n",
            "--2020-04-23 19:15:17--  https://github.com/mannefedov/ru_kw_eval_datasets/raw/master/data/habrahabr_0.jsonlines.zip\n",
            "Reusing existing connection to github.com:443.\n",
            "HTTP request sent, awaiting response... 302 Found\n",
            "Location: https://raw.githubusercontent.com/mannefedov/ru_kw_eval_datasets/master/data/habrahabr_0.jsonlines.zip [following]\n",
            "--2020-04-23 19:15:17--  https://raw.githubusercontent.com/mannefedov/ru_kw_eval_datasets/master/data/habrahabr_0.jsonlines.zip\n",
            "Resolving raw.githubusercontent.com (raw.githubusercontent.com)... 151.101.0.133, 151.101.64.133, 151.101.128.133, ...\n",
            "Connecting to raw.githubusercontent.com (raw.githubusercontent.com)|151.101.0.133|:443... connected.\n",
            "HTTP request sent, awaiting response... 200 OK\n",
            "Length: 4466983 (4.3M) [application/zip]\n",
            "Saving to: ‘habrahabr_0.jsonlines.zip?raw=true’\n",
            "\n",
            "habrahabr_0.jsonlin 100%[===================>]   4.26M  --.-KB/s    in 0.1s    \n",
            "\n",
            "2020-04-23 19:15:18 (31.6 MB/s) - ‘habrahabr_0.jsonlines.zip?raw=true’ saved [4466983/4466983]\n",
            "\n",
            "--2020-04-23 19:15:20--  https://github.com/mannefedov/ru_kw_eval_datasets/blob/master/data/habrahabr_1.jsonlines.zip?raw=true\n",
            "Resolving github.com (github.com)... 140.82.118.4\n",
            "Connecting to github.com (github.com)|140.82.118.4|:443... connected.\n",
            "HTTP request sent, awaiting response... 302 Found\n",
            "Location: https://github.com/mannefedov/ru_kw_eval_datasets/raw/master/data/habrahabr_1.jsonlines.zip [following]\n",
            "--2020-04-23 19:15:20--  https://github.com/mannefedov/ru_kw_eval_datasets/raw/master/data/habrahabr_1.jsonlines.zip\n",
            "Reusing existing connection to github.com:443.\n",
            "HTTP request sent, awaiting response... 302 Found\n",
            "Location: https://raw.githubusercontent.com/mannefedov/ru_kw_eval_datasets/master/data/habrahabr_1.jsonlines.zip [following]\n",
            "--2020-04-23 19:15:20--  https://raw.githubusercontent.com/mannefedov/ru_kw_eval_datasets/master/data/habrahabr_1.jsonlines.zip\n",
            "Resolving raw.githubusercontent.com (raw.githubusercontent.com)... 151.101.0.133, 151.101.64.133, 151.101.128.133, ...\n",
            "Connecting to raw.githubusercontent.com (raw.githubusercontent.com)|151.101.0.133|:443... connected.\n",
            "HTTP request sent, awaiting response... 200 OK\n",
            "Length: 4345954 (4.1M) [application/zip]\n",
            "Saving to: ‘habrahabr_1.jsonlines.zip?raw=true’\n",
            "\n",
            "habrahabr_1.jsonlin 100%[===================>]   4.14M  --.-KB/s    in 0.1s    \n",
            "\n",
            "2020-04-23 19:15:21 (33.6 MB/s) - ‘habrahabr_1.jsonlines.zip?raw=true’ saved [4345954/4345954]\n",
            "\n",
            "--2020-04-23 19:15:22--  https://github.com/mannefedov/ru_kw_eval_datasets/blob/master/data/habrahabr_2.jsonlines.zip?raw=true\n",
            "Resolving github.com (github.com)... 140.82.118.3\n",
            "Connecting to github.com (github.com)|140.82.118.3|:443... connected.\n",
            "HTTP request sent, awaiting response... 302 Found\n",
            "Location: https://github.com/mannefedov/ru_kw_eval_datasets/raw/master/data/habrahabr_2.jsonlines.zip [following]\n",
            "--2020-04-23 19:15:22--  https://github.com/mannefedov/ru_kw_eval_datasets/raw/master/data/habrahabr_2.jsonlines.zip\n",
            "Reusing existing connection to github.com:443.\n",
            "HTTP request sent, awaiting response... 302 Found\n",
            "Location: https://raw.githubusercontent.com/mannefedov/ru_kw_eval_datasets/master/data/habrahabr_2.jsonlines.zip [following]\n",
            "--2020-04-23 19:15:23--  https://raw.githubusercontent.com/mannefedov/ru_kw_eval_datasets/master/data/habrahabr_2.jsonlines.zip\n",
            "Resolving raw.githubusercontent.com (raw.githubusercontent.com)... 151.101.0.133, 151.101.64.133, 151.101.128.133, ...\n",
            "Connecting to raw.githubusercontent.com (raw.githubusercontent.com)|151.101.0.133|:443... connected.\n",
            "HTTP request sent, awaiting response... 200 OK\n",
            "Length: 4414540 (4.2M) [application/zip]\n",
            "Saving to: ‘habrahabr_2.jsonlines.zip?raw=true’\n",
            "\n",
            "habrahabr_2.jsonlin 100%[===================>]   4.21M  --.-KB/s    in 0.1s    \n",
            "\n",
            "2020-04-23 19:15:23 (38.9 MB/s) - ‘habrahabr_2.jsonlines.zip?raw=true’ saved [4414540/4414540]\n",
            "\n",
            "--2020-04-23 19:15:25--  https://github.com/mannefedov/ru_kw_eval_datasets/blob/master/data/habrahabr_3.jsonlines.zip?raw=true\n",
            "Resolving github.com (github.com)... 140.82.118.4\n",
            "Connecting to github.com (github.com)|140.82.118.4|:443... connected.\n",
            "HTTP request sent, awaiting response... 302 Found\n",
            "Location: https://github.com/mannefedov/ru_kw_eval_datasets/raw/master/data/habrahabr_3.jsonlines.zip [following]\n",
            "--2020-04-23 19:15:25--  https://github.com/mannefedov/ru_kw_eval_datasets/raw/master/data/habrahabr_3.jsonlines.zip\n",
            "Reusing existing connection to github.com:443.\n",
            "HTTP request sent, awaiting response... 302 Found\n",
            "Location: https://raw.githubusercontent.com/mannefedov/ru_kw_eval_datasets/master/data/habrahabr_3.jsonlines.zip [following]\n",
            "--2020-04-23 19:15:27--  https://raw.githubusercontent.com/mannefedov/ru_kw_eval_datasets/master/data/habrahabr_3.jsonlines.zip\n",
            "Resolving raw.githubusercontent.com (raw.githubusercontent.com)... 151.101.0.133, 151.101.64.133, 151.101.128.133, ...\n",
            "Connecting to raw.githubusercontent.com (raw.githubusercontent.com)|151.101.0.133|:443... connected.\n",
            "HTTP request sent, awaiting response... 200 OK\n",
            "Length: 4418664 (4.2M) [application/zip]\n",
            "Saving to: ‘habrahabr_3.jsonlines.zip?raw=true’\n",
            "\n",
            "habrahabr_3.jsonlin 100%[===================>]   4.21M  --.-KB/s    in 0.1s    \n",
            "\n",
            "2020-04-23 19:15:27 (36.1 MB/s) - ‘habrahabr_3.jsonlines.zip?raw=true’ saved [4418664/4418664]\n",
            "\n",
            "--2020-04-23 19:15:29--  https://github.com/mannefedov/ru_kw_eval_datasets/blob/master/data/cyberleninka_0.jsonlines.zip?raw=true\n",
            "Resolving github.com (github.com)... 140.82.118.3\n",
            "Connecting to github.com (github.com)|140.82.118.3|:443... connected.\n",
            "HTTP request sent, awaiting response... 302 Found\n",
            "Location: https://github.com/mannefedov/ru_kw_eval_datasets/raw/master/data/cyberleninka_0.jsonlines.zip [following]\n",
            "--2020-04-23 19:15:29--  https://github.com/mannefedov/ru_kw_eval_datasets/raw/master/data/cyberleninka_0.jsonlines.zip\n",
            "Reusing existing connection to github.com:443.\n",
            "HTTP request sent, awaiting response... 302 Found\n",
            "Location: https://raw.githubusercontent.com/mannefedov/ru_kw_eval_datasets/master/data/cyberleninka_0.jsonlines.zip [following]\n",
            "--2020-04-23 19:15:30--  https://raw.githubusercontent.com/mannefedov/ru_kw_eval_datasets/master/data/cyberleninka_0.jsonlines.zip\n",
            "Resolving raw.githubusercontent.com (raw.githubusercontent.com)... 151.101.0.133, 151.101.64.133, 151.101.128.133, ...\n",
            "Connecting to raw.githubusercontent.com (raw.githubusercontent.com)|151.101.0.133|:443... connected.\n",
            "HTTP request sent, awaiting response... 200 OK\n",
            "Length: 8824108 (8.4M) [application/zip]\n",
            "Saving to: ‘cyberleninka_0.jsonlines.zip?raw=true’\n",
            "\n",
            "cyberleninka_0.json 100%[===================>]   8.42M  --.-KB/s    in 0.08s   \n",
            "\n",
            "2020-04-23 19:15:30 (106 MB/s) - ‘cyberleninka_0.jsonlines.zip?raw=true’ saved [8824108/8824108]\n",
            "\n",
            "--2020-04-23 19:15:32--  https://github.com/mannefedov/ru_kw_eval_datasets/blob/master/data/cyberleninka_1.jsonlines.zip?raw=true\n",
            "Resolving github.com (github.com)... 140.82.118.3\n",
            "Connecting to github.com (github.com)|140.82.118.3|:443... connected.\n",
            "HTTP request sent, awaiting response... 302 Found\n",
            "Location: https://github.com/mannefedov/ru_kw_eval_datasets/raw/master/data/cyberleninka_1.jsonlines.zip [following]\n",
            "--2020-04-23 19:15:32--  https://github.com/mannefedov/ru_kw_eval_datasets/raw/master/data/cyberleninka_1.jsonlines.zip\n",
            "Reusing existing connection to github.com:443.\n",
            "HTTP request sent, awaiting response... 302 Found\n",
            "Location: https://raw.githubusercontent.com/mannefedov/ru_kw_eval_datasets/master/data/cyberleninka_1.jsonlines.zip [following]\n",
            "--2020-04-23 19:15:33--  https://raw.githubusercontent.com/mannefedov/ru_kw_eval_datasets/master/data/cyberleninka_1.jsonlines.zip\n",
            "Resolving raw.githubusercontent.com (raw.githubusercontent.com)... 151.101.0.133, 151.101.64.133, 151.101.128.133, ...\n",
            "Connecting to raw.githubusercontent.com (raw.githubusercontent.com)|151.101.0.133|:443... connected.\n",
            "HTTP request sent, awaiting response... 200 OK\n",
            "Length: 8868699 (8.5M) [application/zip]\n",
            "Saving to: ‘cyberleninka_1.jsonlines.zip?raw=true’\n",
            "\n",
            "cyberleninka_1.json 100%[===================>]   8.46M  --.-KB/s    in 0.1s    \n",
            "\n",
            "2020-04-23 19:15:33 (72.5 MB/s) - ‘cyberleninka_1.jsonlines.zip?raw=true’ saved [8868699/8868699]\n",
            "\n",
            "--2020-04-23 19:15:35--  https://github.com/mannefedov/ru_kw_eval_datasets/blob/master/data/cyberleninka_0.jsonlines.zip?raw=true\n",
            "Resolving github.com (github.com)... 140.82.118.4\n",
            "Connecting to github.com (github.com)|140.82.118.4|:443... connected.\n",
            "HTTP request sent, awaiting response... 302 Found\n",
            "Location: https://github.com/mannefedov/ru_kw_eval_datasets/raw/master/data/cyberleninka_0.jsonlines.zip [following]\n",
            "--2020-04-23 19:15:35--  https://github.com/mannefedov/ru_kw_eval_datasets/raw/master/data/cyberleninka_0.jsonlines.zip\n",
            "Reusing existing connection to github.com:443.\n",
            "HTTP request sent, awaiting response... 302 Found\n",
            "Location: https://raw.githubusercontent.com/mannefedov/ru_kw_eval_datasets/master/data/cyberleninka_0.jsonlines.zip [following]\n",
            "--2020-04-23 19:15:35--  https://raw.githubusercontent.com/mannefedov/ru_kw_eval_datasets/master/data/cyberleninka_0.jsonlines.zip\n",
            "Resolving raw.githubusercontent.com (raw.githubusercontent.com)... 151.101.0.133, 151.101.64.133, 151.101.128.133, ...\n",
            "Connecting to raw.githubusercontent.com (raw.githubusercontent.com)|151.101.0.133|:443... connected.\n",
            "HTTP request sent, awaiting response... 200 OK\n",
            "Length: 8824108 (8.4M) [application/zip]\n",
            "Saving to: ‘cyberleninka_0.jsonlines.zip?raw=true.1’\n",
            "\n",
            "cyberleninka_0.json 100%[===================>]   8.42M  --.-KB/s    in 0.06s   \n",
            "\n",
            "2020-04-23 19:15:35 (141 MB/s) - ‘cyberleninka_0.jsonlines.zip?raw=true.1’ saved [8824108/8824108]\n",
            "\n",
            "--2020-04-23 19:15:37--  https://github.com/mannefedov/ru_kw_eval_datasets/blob/master/data/cyberleninka_2.jsonlines.zip?raw=true\n",
            "Resolving github.com (github.com)... 140.82.118.3\n",
            "Connecting to github.com (github.com)|140.82.118.3|:443... connected.\n",
            "HTTP request sent, awaiting response... 302 Found\n",
            "Location: https://github.com/mannefedov/ru_kw_eval_datasets/raw/master/data/cyberleninka_2.jsonlines.zip [following]\n",
            "--2020-04-23 19:15:37--  https://github.com/mannefedov/ru_kw_eval_datasets/raw/master/data/cyberleninka_2.jsonlines.zip\n",
            "Reusing existing connection to github.com:443.\n",
            "HTTP request sent, awaiting response... 302 Found\n",
            "Location: https://raw.githubusercontent.com/mannefedov/ru_kw_eval_datasets/master/data/cyberleninka_2.jsonlines.zip [following]\n",
            "--2020-04-23 19:15:38--  https://raw.githubusercontent.com/mannefedov/ru_kw_eval_datasets/master/data/cyberleninka_2.jsonlines.zip\n",
            "Resolving raw.githubusercontent.com (raw.githubusercontent.com)... 151.101.0.133, 151.101.64.133, 151.101.128.133, ...\n",
            "Connecting to raw.githubusercontent.com (raw.githubusercontent.com)|151.101.0.133|:443... connected.\n",
            "HTTP request sent, awaiting response... 200 OK\n",
            "Length: 8592504 (8.2M) [application/zip]\n",
            "Saving to: ‘cyberleninka_2.jsonlines.zip?raw=true’\n",
            "\n",
            "cyberleninka_2.json 100%[===================>]   8.19M  48.7MB/s    in 0.2s    \n",
            "\n",
            "2020-04-23 19:15:38 (48.7 MB/s) - ‘cyberleninka_2.jsonlines.zip?raw=true’ saved [8592504/8592504]\n",
            "\n",
            "--2020-04-23 19:15:40--  https://github.com/mannefedov/ru_kw_eval_datasets/blob/master/data/cyberleninka_3.jsonlines.zip?raw=true\n",
            "Resolving github.com (github.com)... 140.82.118.4\n",
            "Connecting to github.com (github.com)|140.82.118.4|:443... connected.\n",
            "HTTP request sent, awaiting response... 302 Found\n",
            "Location: https://github.com/mannefedov/ru_kw_eval_datasets/raw/master/data/cyberleninka_3.jsonlines.zip [following]\n",
            "--2020-04-23 19:15:40--  https://github.com/mannefedov/ru_kw_eval_datasets/raw/master/data/cyberleninka_3.jsonlines.zip\n",
            "Reusing existing connection to github.com:443.\n",
            "HTTP request sent, awaiting response... 302 Found\n",
            "Location: https://raw.githubusercontent.com/mannefedov/ru_kw_eval_datasets/master/data/cyberleninka_3.jsonlines.zip [following]\n",
            "--2020-04-23 19:15:41--  https://raw.githubusercontent.com/mannefedov/ru_kw_eval_datasets/master/data/cyberleninka_3.jsonlines.zip\n",
            "Resolving raw.githubusercontent.com (raw.githubusercontent.com)... 151.101.0.133, 151.101.64.133, 151.101.128.133, ...\n",
            "Connecting to raw.githubusercontent.com (raw.githubusercontent.com)|151.101.0.133|:443... connected.\n",
            "HTTP request sent, awaiting response... 200 OK\n",
            "Length: 8886821 (8.5M) [application/zip]\n",
            "Saving to: ‘cyberleninka_3.jsonlines.zip?raw=true’\n",
            "\n",
            "cyberleninka_3.json 100%[===================>]   8.47M  --.-KB/s    in 0.06s   \n",
            "\n",
            "2020-04-23 19:15:41 (153 MB/s) - ‘cyberleninka_3.jsonlines.zip?raw=true’ saved [8886821/8886821]\n",
            "\n"
          ],
          "name": "stdout"
        }
      ]
    },
    {
      "cell_type": "code",
      "metadata": {
        "id": "0ERlJKBswJf7",
        "colab_type": "code",
        "outputId": "53102bfc-62d0-40e8-98fc-1e11f59f795b",
        "colab": {
          "base_uri": "https://localhost:8080/",
          "height": 1000
        }
      },
      "source": [
        "import os\n",
        "\n",
        "for i in os.listdir():\n",
        "  print(i)\n",
        "  if 'true' in i:\n",
        "    #os.rename(i, i[:-9])\n",
        "    i = os.rename(i, i[:-9])\n",
        "  print(i)\n",
        "\n",
        "for i in os.listdir():\n",
        "  print(i)\n",
        "  if '?r' in i:\n",
        "    #os.rename(i, i[:-3])\n",
        "    i = os.rename(i, i[:-3])\n",
        "  print(i)\n"
      ],
      "execution_count": 18,
      "outputs": [
        {
          "output_type": "stream",
          "text": [
            ".config\n",
            ".config\n",
            "russia_today_7.jsonlines.zip?raw=true\n",
            "None\n",
            "cyberleninka_0.jsonlines.zi\n",
            "cyberleninka_0.jsonlines.zi\n",
            "habrahabr_0.jsonlines.\n",
            "habrahabr_0.jsonlines.\n",
            "habrahabr_1.jsonlines.\n",
            "habrahabr_1.jsonlines.\n",
            "russia_today_0.jsonlines.zip?raw=true\n",
            "None\n",
            "russia_today_1.jsonlines.\n",
            "russia_today_1.jsonlines.\n",
            "cyberleninka_0.jsonlines.zip?raw=true.1\n",
            "None\n",
            "russia_today_2.jsonlines.\n",
            "russia_today_2.jsonlines.\n",
            "habrahabr_2.jsonlines.\n",
            "habrahabr_2.jsonlines.\n",
            "habrahabr_0.jsonlines.zip?raw=true\n",
            "None\n",
            "cyberleninka_3.jsonlines.zip?raw=true\n",
            "None\n",
            "russia_today_5.jsonlines.\n",
            "russia_today_5.jsonlines.\n",
            "cyberleninka_2.jsonlines.zip?raw=true\n",
            "None\n",
            "habrahabr_2.jsonlines.zip?raw=true\n",
            "None\n",
            "russia_today_0.jsonlines.zi\n",
            "russia_today_0.jsonlines.zi\n",
            "russia_today_0.jsonlines.zip?raw=true.1\n",
            "None\n",
            "ng_1.jsonlines.\n",
            "ng_1.jsonlines.\n",
            "cyberleninka_3.jsonlines.\n",
            "cyberleninka_3.jsonlines.\n",
            "russia_today_3.jsonlines.zip?raw=true\n",
            "None\n",
            "ng_1.jsonlines.zip?raw=true\n",
            "None\n",
            "russia_today_6.jsonlines.zip?raw=true\n",
            "None\n",
            "russia_today_1.jsonlines.zip?raw=true\n",
            "None\n",
            "cyberleninka_2.jsonlines.\n",
            "cyberleninka_2.jsonlines.\n",
            "cyberleninka_1.jsonlines.zip?raw=true\n",
            "None\n",
            "cyberleninka_0.jsonlines.zip?raw=true\n",
            "None\n",
            "russia_today_7.jsonlines.\n",
            "russia_today_7.jsonlines.\n",
            "habrahabr_3.jsonlines.\n",
            "habrahabr_3.jsonlines.\n",
            "russia_today_6.jsonlines.\n",
            "russia_today_6.jsonlines.\n",
            "habrahabr_3.jsonlines.zip?raw=true\n",
            "None\n",
            "ng_0.jsonlines.\n",
            "ng_0.jsonlines.\n",
            "russia_today_5.jsonlines.zip?raw=true\n",
            "None\n",
            "ng_0.jsonlines.zip?raw=true\n",
            "None\n",
            "russia_today_2.jsonlines.zip?raw=true\n",
            "None\n",
            "russia_today_4.jsonlines.\n",
            "russia_today_4.jsonlines.\n",
            "russia_today_4.jsonlines.zip?raw=true\n",
            "None\n",
            "russia_today_3.jsonlines.\n",
            "russia_today_3.jsonlines.\n",
            "russia_today_0.jsonlines.\n",
            "russia_today_0.jsonlines.\n",
            "habrahabr_1.jsonlines.zip?raw=true\n",
            "None\n",
            "cyberleninka_0.jsonlines.\n",
            "cyberleninka_0.jsonlines.\n",
            "cyberleninka_1.jsonlines.\n",
            "cyberleninka_1.jsonlines.\n",
            "sample_data\n",
            "sample_data\n",
            ".config\n",
            ".config\n",
            "cyberleninka_0.jsonlines.zi\n",
            "cyberleninka_0.jsonlines.zi\n",
            "cyberleninka_0.jsonlines.zip?r\n",
            "None\n",
            "russia_today_0.jsonlines.zip?r\n",
            "None\n",
            "russia_today_0.jsonlines.zip\n",
            "russia_today_0.jsonlines.zip\n",
            "habrahabr_0.jsonlines.\n",
            "habrahabr_0.jsonlines.\n",
            "russia_today_5.jsonlines.zip\n",
            "russia_today_5.jsonlines.zip\n",
            "habrahabr_1.jsonlines.\n",
            "habrahabr_1.jsonlines.\n",
            "habrahabr_3.jsonlines.zip\n",
            "habrahabr_3.jsonlines.zip\n",
            "russia_today_1.jsonlines.\n",
            "russia_today_1.jsonlines.\n",
            "ng_1.jsonlines.zip\n",
            "ng_1.jsonlines.zip\n",
            "russia_today_2.jsonlines.\n",
            "russia_today_2.jsonlines.\n",
            "habrahabr_2.jsonlines.\n",
            "habrahabr_2.jsonlines.\n",
            "russia_today_5.jsonlines.\n",
            "russia_today_5.jsonlines.\n",
            "russia_today_2.jsonlines.zip\n",
            "russia_today_2.jsonlines.zip\n",
            "habrahabr_1.jsonlines.zip\n",
            "habrahabr_1.jsonlines.zip\n",
            "habrahabr_2.jsonlines.zip\n",
            "habrahabr_2.jsonlines.zip\n",
            "russia_today_0.jsonlines.zi\n",
            "russia_today_0.jsonlines.zi\n",
            "cyberleninka_2.jsonlines.zip\n",
            "cyberleninka_2.jsonlines.zip\n",
            "ng_1.jsonlines.\n",
            "ng_1.jsonlines.\n",
            "cyberleninka_3.jsonlines.\n",
            "cyberleninka_3.jsonlines.\n",
            "cyberleninka_1.jsonlines.zip\n",
            "cyberleninka_1.jsonlines.zip\n",
            "ng_0.jsonlines.zip\n",
            "ng_0.jsonlines.zip\n",
            "russia_today_6.jsonlines.zip\n",
            "russia_today_6.jsonlines.zip\n",
            "russia_today_4.jsonlines.zip\n",
            "russia_today_4.jsonlines.zip\n",
            "russia_today_7.jsonlines.zip\n",
            "russia_today_7.jsonlines.zip\n",
            "cyberleninka_0.jsonlines.zip\n",
            "cyberleninka_0.jsonlines.zip\n",
            "cyberleninka_2.jsonlines.\n",
            "cyberleninka_2.jsonlines.\n",
            "russia_today_7.jsonlines.\n",
            "russia_today_7.jsonlines.\n",
            "habrahabr_3.jsonlines.\n",
            "habrahabr_3.jsonlines.\n",
            "russia_today_6.jsonlines.\n",
            "russia_today_6.jsonlines.\n",
            "russia_today_1.jsonlines.zip\n",
            "russia_today_1.jsonlines.zip\n",
            "ng_0.jsonlines.\n",
            "ng_0.jsonlines.\n",
            "russia_today_4.jsonlines.\n",
            "russia_today_4.jsonlines.\n",
            "russia_today_3.jsonlines.\n",
            "russia_today_3.jsonlines.\n",
            "russia_today_3.jsonlines.zip\n",
            "russia_today_3.jsonlines.zip\n",
            "russia_today_0.jsonlines.\n",
            "russia_today_0.jsonlines.\n",
            "cyberleninka_3.jsonlines.zip\n",
            "cyberleninka_3.jsonlines.zip\n",
            "habrahabr_0.jsonlines.zip\n",
            "habrahabr_0.jsonlines.zip\n",
            "cyberleninka_0.jsonlines.\n",
            "cyberleninka_0.jsonlines.\n",
            "cyberleninka_1.jsonlines.\n",
            "cyberleninka_1.jsonlines.\n",
            "sample_data\n",
            "sample_data\n"
          ],
          "name": "stdout"
        }
      ]
    },
    {
      "cell_type": "code",
      "metadata": {
        "id": "WNIxAKLrNgtM",
        "colab_type": "code",
        "colab": {}
      },
      "source": [
        "import json, os\n",
        "import pandas as pd\n",
        "from nltk.corpus import stopwords\n",
        "import numpy as np\n",
        "from pymorphy2 import MorphAnalyzer\n",
        "from collections import Counter\n",
        "from sklearn.feature_extraction.text import TfidfVectorizer\n",
        "morph = MorphAnalyzer()\n",
        "stops = set(stopwords.words('russian'))"
      ],
      "execution_count": 0,
      "outputs": []
    },
    {
      "cell_type": "code",
      "metadata": {
        "id": "ZHcSLdmDe7a8",
        "colab_type": "code",
        "outputId": "2426ee9b-43b8-4bd6-a0e2-30010bcda454",
        "colab": {
          "base_uri": "https://localhost:8080/",
          "height": 697
        }
      },
      "source": [
        "pd.set_option('display.max_colwidth', 1000)"
      ],
      "execution_count": 20,
      "outputs": [
        {
          "output_type": "execute_result",
          "data": {
            "text/plain": [
              "['.config',\n",
              " 'cyberleninka_0.jsonlines.zi',\n",
              " 'russia_today_0.jsonlines.zip',\n",
              " 'habrahabr_0.jsonlines.',\n",
              " 'russia_today_5.jsonlines.zip',\n",
              " 'habrahabr_1.jsonlines.',\n",
              " 'habrahabr_3.jsonlines.zip',\n",
              " 'russia_today_1.jsonlines.',\n",
              " 'ng_1.jsonlines.zip',\n",
              " 'russia_today_2.jsonlines.',\n",
              " 'habrahabr_2.jsonlines.',\n",
              " 'russia_today_5.jsonlines.',\n",
              " 'russia_today_2.jsonlines.zip',\n",
              " 'habrahabr_1.jsonlines.zip',\n",
              " 'habrahabr_2.jsonlines.zip',\n",
              " 'russia_today_0.jsonlines.zi',\n",
              " 'cyberleninka_2.jsonlines.zip',\n",
              " 'ng_1.jsonlines.',\n",
              " 'cyberleninka_3.jsonlines.',\n",
              " 'cyberleninka_1.jsonlines.zip',\n",
              " 'ng_0.jsonlines.zip',\n",
              " 'russia_today_6.jsonlines.zip',\n",
              " 'russia_today_4.jsonlines.zip',\n",
              " 'russia_today_7.jsonlines.zip',\n",
              " 'cyberleninka_0.jsonlines.zip',\n",
              " 'cyberleninka_2.jsonlines.',\n",
              " 'russia_today_7.jsonlines.',\n",
              " 'habrahabr_3.jsonlines.',\n",
              " 'russia_today_6.jsonlines.',\n",
              " 'russia_today_1.jsonlines.zip',\n",
              " 'ng_0.jsonlines.',\n",
              " 'russia_today_4.jsonlines.',\n",
              " 'russia_today_3.jsonlines.',\n",
              " 'russia_today_3.jsonlines.zip',\n",
              " 'russia_today_0.jsonlines.',\n",
              " 'cyberleninka_3.jsonlines.zip',\n",
              " 'habrahabr_0.jsonlines.zip',\n",
              " 'cyberleninka_0.jsonlines.',\n",
              " 'cyberleninka_1.jsonlines.',\n",
              " 'sample_data']"
            ]
          },
          "metadata": {
            "tags": []
          },
          "execution_count": 20
        }
      ]
    },
    {
      "cell_type": "code",
      "metadata": {
        "id": "ndN1esZafAnB",
        "colab_type": "code",
        "outputId": "c24548d0-5ff6-43bb-e544-9f77fa41fca2",
        "colab": {
          "base_uri": "https://localhost:8080/",
          "height": 323
        }
      },
      "source": [
        "data_paths = [i for i in os.listdir() if i[-3:] == 'zip']\n",
        "#data_paths"
      ],
      "execution_count": 21,
      "outputs": [
        {
          "output_type": "execute_result",
          "data": {
            "text/plain": [
              "['russia_today_0.jsonlines.zip',\n",
              " 'russia_today_5.jsonlines.zip',\n",
              " 'habrahabr_3.jsonlines.zip',\n",
              " 'ng_1.jsonlines.zip',\n",
              " 'russia_today_2.jsonlines.zip',\n",
              " 'habrahabr_1.jsonlines.zip',\n",
              " 'habrahabr_2.jsonlines.zip',\n",
              " 'cyberleninka_2.jsonlines.zip',\n",
              " 'cyberleninka_1.jsonlines.zip',\n",
              " 'ng_0.jsonlines.zip',\n",
              " 'russia_today_6.jsonlines.zip',\n",
              " 'russia_today_4.jsonlines.zip',\n",
              " 'russia_today_7.jsonlines.zip',\n",
              " 'cyberleninka_0.jsonlines.zip',\n",
              " 'russia_today_1.jsonlines.zip',\n",
              " 'russia_today_3.jsonlines.zip',\n",
              " 'cyberleninka_3.jsonlines.zip',\n",
              " 'habrahabr_0.jsonlines.zip']"
            ]
          },
          "metadata": {
            "tags": []
          },
          "execution_count": 21
        }
      ]
    },
    {
      "cell_type": "code",
      "metadata": {
        "id": "C_Mfp0zAfbEW",
        "colab_type": "code",
        "colab": {}
      },
      "source": [
        "data = pd.concat([pd.read_json(file, lines=True) for file in data_paths], axis=0, ignore_index=True)"
      ],
      "execution_count": 0,
      "outputs": []
    },
    {
      "cell_type": "code",
      "metadata": {
        "id": "Ycx7gBh9fhsh",
        "colab_type": "code",
        "colab": {
          "base_uri": "https://localhost:8080/",
          "height": 34
        },
        "outputId": "9718b42f-5445-43ba-a871-5e3121244770"
      },
      "source": [
        "data.shape"
      ],
      "execution_count": 23,
      "outputs": [
        {
          "output_type": "execute_result",
          "data": {
            "text/plain": [
              "(17193, 6)"
            ]
          },
          "metadata": {
            "tags": []
          },
          "execution_count": 23
        }
      ]
    },
    {
      "cell_type": "code",
      "metadata": {
        "id": "RWm8kQO5h0Ns",
        "colab_type": "code",
        "colab": {
          "base_uri": "https://localhost:8080/",
          "height": 1000
        },
        "outputId": "19fd3ca5-2d51-42ab-9083-868d24d641bc"
      },
      "source": [
        "data.head(3)"
      ],
      "execution_count": 24,
      "outputs": [
        {
          "output_type": "execute_result",
          "data": {
            "text/html": [
              "<div>\n",
              "<style scoped>\n",
              "    .dataframe tbody tr th:only-of-type {\n",
              "        vertical-align: middle;\n",
              "    }\n",
              "\n",
              "    .dataframe tbody tr th {\n",
              "        vertical-align: top;\n",
              "    }\n",
              "\n",
              "    .dataframe thead th {\n",
              "        text-align: right;\n",
              "    }\n",
              "</style>\n",
              "<table border=\"1\" class=\"dataframe\">\n",
              "  <thead>\n",
              "    <tr style=\"text-align: right;\">\n",
              "      <th></th>\n",
              "      <th>keywords</th>\n",
              "      <th>title</th>\n",
              "      <th>summary</th>\n",
              "      <th>url</th>\n",
              "      <th>content</th>\n",
              "      <th>abstract</th>\n",
              "    </tr>\n",
              "  </thead>\n",
              "  <tbody>\n",
              "    <tr>\n",
              "      <th>0</th>\n",
              "      <td>[дональд трамп, иран, нефть, реджеп эрдоган, с-400, сша, суд, турция, банк, ближний восток, внешняя политика, внутренняя политика, выборы, газ, израиль, коррупция, оаэ, парламент, парламентские выборы, политика, президент, президентские выборы, премьер-министр, природный газ, россия, санкции, сирия, судебный процесс, тюрьма, финансы, экономика, энергетика, внешняя политика]</td>\n",
              "      <td>Судебное давление: почему в США Эрдогана обвинили в нарушении режима санкций против Ирана</td>\n",
              "      <td>На судебном процессе в Соединённых Штатах заявили о причастности президента Турции Реджепа Эрдогана к организации схемы обхода антииранских санкций. Такие показания дал один из обвиняемых, турецкий трейдер Реза Зарраб. Эксперты считают, что разбирательство в американском суде может негативно сказаться на отношениях двух стран и даже привести к санкциям против Анкары со стороны Вашингтона. Насколько обоснованны обвинения США и чем может закончиться громкое дело, выяснял RT.</td>\n",
              "      <td>https://russian.rt.com/world/article/455367-ssha-turciya-neft-iran-sankcii</td>\n",
              "      <td>Нефть и золото\\nТурецкий торговец золотом иранского происхождения Реза Зарраб, выступая в федеральном суде Манхэттена в Нью-Йорке, заявил, что президент Турции Реджеп Эрдоган лично причастен к организации схемы обхода односторонних американских санкций против Ирана, которые действовали до подписания ядерной сделки с руководством этой страны в 2015 году, сообщает Reuters.\\nЗарраб был арестован американскими правоохранительными органами в марте 2016 года во Флориде. Заррабу было предъявлено обвинение в нарушении американских односторонних санкций против Ирана в 2010—2015 году, отмывании денег и мошенничестве. В совокупности арестованному грозило 95 лет тюрьмы.\\n Задержанный турецкий бизнесмен Реза Зарраб \\n AFP \\n28 ноября 2017 года находившийся более полугода в американской тюрьме Зарраб согласился сотрудничать со следствием и свидетельствовать в пользу обвинения в деле Мехмета Хакана Атиллы, бывшего управляющего турецким государственным банком Halkbank.\\nДействовавшие в 2010—2015 г...</td>\n",
              "      <td>NaN</td>\n",
              "    </tr>\n",
              "    <tr>\n",
              "      <th>1</th>\n",
              "      <td>[афганистан, безопасность, боевики, владимир путин, внешняя политика, дипломаты, дональд трамп, кндр, казахстан, конфликт сша и кндр, нурсултан назарбаев, оон, политика, реджеп эрдоган, россия, северная корея, сирия, совет безопасности оон, терроризм, турция, ядерная программа, ядерная угроза, ядерное оружие, ядерное разоружение, центральная азия]</td>\n",
              "      <td>«Снизить накал противостояния между Вашингтоном и Москвой»: зачем Назарбаев направляется с визитом к Трампу</td>\n",
              "      <td>Президент Казахстана прибыл с официальным визитом в США. Как предположили опрошенные RT эксперты, помимо обсуждения двусторонних вопросов казахстанский лидер постарается «навести мосты» между Москвой и Вашингтоном. Также на повестке дня стоят ключевые проблемы Центральной Азии. О значении встречи Нурсултана Назарбаева и Дональда Трампа — в материале RT.</td>\n",
              "      <td>https://russian.rt.com/ussr/article/470699-tramp-nazarbaev-vizit</td>\n",
              "      <td>Многовекторная политика\\nВо вторник, 16 января, президент Казахстана Нурсултан Назарбаев встретится в Вашингтоне с американским лидером Дональдом Трампом.\\n Также по теме \\n Золото степей: войдёт ли Казахстан в число самых развитых стран мира \\n 26 лет назад Казахстан завершил «парад суверенитетов», последней из советских республик объявив о независимости. На сегодняшний день... \\n«Предполагаются встречи с президентом США Дональдом Трампом, представителями официальных и деловых кругов США», — отмечается в заявлении президентской администрации Казахстана.\\nВ преддверии своего визита президент Казахстана пообщался в Астане с послом США в республике Джорджем Кролом. Как отмечает официальный сайт казахстанского лидера, в ходе встречи Назарбаев «отметил важность достигнутых договорённостей с президентом США Дональдом Трампом по приоритетным направлениям стратегического партнёрства, в том числе в сферах борьбы с терроризмом, укреплению режима ядерного нераспространения, а также в области...</td>\n",
              "      <td>NaN</td>\n",
              "    </tr>\n",
              "    <tr>\n",
              "      <th>2</th>\n",
              "      <td>[азербайджан, англия, армения, германия, дания, европа, казахстан, литва, норвегия, польша, румыния, словакия, словения, спорт, спортсмен, чемпионат мира по футболу 2018 в россии, черногория, чехия, шотландия, футбол]</td>\n",
              "      <td>Волевые немцы, российский судья и провал Польши: обзор матчей квалификации ЧМ-2018</td>\n",
              "      <td>В пятницу состоялись матчи 7-го тура отборочного этапа чемпионата мира по футболу — 2018 в европейской зоне. Сборная Германии в концовке вырвала победу над Чехией под присмотром арбитра из России Сергея Карасёва, Польша пропустила четыре безответных мяча в Дании и потерпела первое поражение в квалификационном турнире, а Армения, играя в меньшинстве, не удержала ничью в Румынии.</td>\n",
              "      <td>https://russian.rt.com/sport/article/425414-otborochniy-tur-chempionat-mira</td>\n",
              "      <td>Группа С\\nГлавным матчем этой группы и всего игрового дня стала встреча чехов и немцев в Праге, которую обслуживала российская бригада судей во главе с Сергеем Карасёвым. Хозяевам победа была необходима, чтобы сохранить шансы на попадание хотя бы в стыковые матчи. Однако набрать очки подопечным Карела Яролима не удалось. Они отстали от Северной Ирландии на семь баллов и практически лишились шансов попасть на ЧМ. \\nНемцы открыли счёт уже на четвёртой минуте. Запомнившийся российским болельщикам по Кубку конфедераций нападающий «РБ Лейпциг» Тимо Вернер после передачи от Месута Озила выскочил на рандеву с голкипером и легко переиграл его.\\nВесь матч чехи пытались сравнять счёт, и незадолго до финального свистка им это удалось. Владимир Дарида поразил ворота Марка-Андре тер Штегена блестящим дальним ударом. Однако затем хозяев ждал очень обидный конец. На 88-й минуте защитники чехов не уследили в собственной штрафной за Матсом Хуммельсом, и он головой отправил мяч в ворота. Прага погру...</td>\n",
              "      <td>NaN</td>\n",
              "    </tr>\n",
              "  </tbody>\n",
              "</table>\n",
              "</div>"
            ],
            "text/plain": [
              "                                                                                                                                                                                                                                                                                                                                                                                   keywords  ... abstract\n",
              "0  [дональд трамп, иран, нефть, реджеп эрдоган, с-400, сша, суд, турция, банк, ближний восток, внешняя политика, внутренняя политика, выборы, газ, израиль, коррупция, оаэ, парламент, парламентские выборы, политика, президент, президентские выборы, премьер-министр, природный газ, россия, санкции, сирия, судебный процесс, тюрьма, финансы, экономика, энергетика, внешняя политика]  ...      NaN\n",
              "1                             [афганистан, безопасность, боевики, владимир путин, внешняя политика, дипломаты, дональд трамп, кндр, казахстан, конфликт сша и кндр, нурсултан назарбаев, оон, политика, реджеп эрдоган, россия, северная корея, сирия, совет безопасности оон, терроризм, турция, ядерная программа, ядерная угроза, ядерное оружие, ядерное разоружение, центральная азия]  ...      NaN\n",
              "2                                                                                                                                                                 [азербайджан, англия, армения, германия, дания, европа, казахстан, литва, норвегия, польша, румыния, словакия, словения, спорт, спортсмен, чемпионат мира по футболу 2018 в россии, черногория, чехия, шотландия, футбол]  ...      NaN\n",
              "\n",
              "[3 rows x 6 columns]"
            ]
          },
          "metadata": {
            "tags": []
          },
          "execution_count": 24
        }
      ]
    },
    {
      "cell_type": "code",
      "metadata": {
        "id": "IYit5bx-h2Q_",
        "colab_type": "code",
        "colab": {}
      },
      "source": [
        "def evaluate(true_kws, predicted_kws):\n",
        "    assert len(true_kws) == len(predicted_kws)\n",
        "    \n",
        "    precisions = []\n",
        "    recalls = []\n",
        "    f1s = []\n",
        "    jaccards = []\n",
        "    \n",
        "    for i in range(len(true_kws)):\n",
        "        \n",
        "        true_kw = set(true_kws[i])\n",
        "        predicted_kw = set(predicted_kws[i])\n",
        "        \n",
        "        tp = len(true_kw & predicted_kw)\n",
        "        union = len(true_kw | predicted_kw)\n",
        "        fp = len(predicted_kw - true_kw)\n",
        "        fn = len(true_kw - predicted_kw)\n",
        "        \n",
        "        if (tp+fp) == 0:\n",
        "            prec = 0\n",
        "        else:\n",
        "            prec = tp / (tp + fp)\n",
        "        \n",
        "        if (tp+fn) == 0:\n",
        "            rec = 0\n",
        "        else:\n",
        "            rec = tp / (tp + fn)\n",
        "        if (prec+rec) == 0:\n",
        "            f1 = 0\n",
        "        else:\n",
        "            f1 = (2*(prec*rec))/(prec+rec)\n",
        "            \n",
        "        jac = tp / union\n",
        "        \n",
        "        precisions.append(prec)\n",
        "        recalls.append(rec)\n",
        "        f1s.append(f1)\n",
        "        jaccards.append(jac)\n",
        "    print('Precision - ', round(np.mean(precisions), 2))\n",
        "    print('Recall - ', round(np.mean(recalls), 2))\n",
        "    print('F1 - ', round(np.mean(f1s), 2))\n",
        "    print('Jaccard - ', round(np.mean(jaccards), 2))"
      ],
      "execution_count": 0,
      "outputs": []
    },
    {
      "cell_type": "code",
      "metadata": {
        "id": "4Vvq4gUjihhx",
        "colab_type": "code",
        "colab": {
          "base_uri": "https://localhost:8080/",
          "height": 85
        },
        "outputId": "5c7fcd15-881a-46dd-b25a-474c5a34befe"
      },
      "source": [
        "evaluate(data['keywords'], data['keywords'])"
      ],
      "execution_count": 26,
      "outputs": [
        {
          "output_type": "stream",
          "text": [
            "Precision -  1.0\n",
            "Recall -  1.0\n",
            "F1 -  1.0\n",
            "Jaccard -  1.0\n"
          ],
          "name": "stdout"
        }
      ]
    },
    {
      "cell_type": "code",
      "metadata": {
        "id": "I8yZ20OLimO-",
        "colab_type": "code",
        "colab": {}
      },
      "source": [
        "from string import punctuation\n",
        "from nltk.corpus import stopwords\n",
        "punct = punctuation+'«»—…“”*№–'\n",
        "stops = set(stopwords.words('russian'))\n",
        "\n",
        "def normalize(text):\n",
        "    \n",
        "    words = [word.strip(punct) for word in text.lower().split()]\n",
        "    # это я смотрел, что будет, если убрать немного слов по частотности на этой стадии.\n",
        "    # бессмысленно, конечно.\n",
        "    words_count = Counter(words)\n",
        "    words = [morph.parse(word)[0] for word in words if word and word not in stops and words_count[word] > 2]\n",
        "    words = [word.normal_form for word in words if word.tag.POS == 'NOUN']\n",
        "\n",
        "    return words"
      ],
      "execution_count": 0,
      "outputs": []
    },
    {
      "cell_type": "code",
      "metadata": {
        "id": "F2QMZzedi02S",
        "colab_type": "code",
        "colab": {}
      },
      "source": [
        "data['content_norm'] = data['content'].apply(normalize)"
      ],
      "execution_count": 0,
      "outputs": []
    },
    {
      "cell_type": "code",
      "metadata": {
        "id": "hD-NgrVXi3Zx",
        "colab_type": "code",
        "colab": {}
      },
      "source": [
        "data['title_norm'] = data['title'].apply(normalize)"
      ],
      "execution_count": 0,
      "outputs": []
    },
    {
      "cell_type": "code",
      "metadata": {
        "id": "hLZsMNL7TEST",
        "colab_type": "code",
        "colab": {}
      },
      "source": [
        "data['content_norm_str'] = data['content_norm'].apply(' '.join)"
      ],
      "execution_count": 0,
      "outputs": []
    },
    {
      "cell_type": "code",
      "metadata": {
        "id": "4rx-sFWSi5NQ",
        "colab_type": "code",
        "colab": {}
      },
      "source": [
        "from itertools import combinations"
      ],
      "execution_count": 0,
      "outputs": []
    },
    {
      "cell_type": "code",
      "metadata": {
        "id": "HUGXC21HOhIz",
        "colab_type": "code",
        "colab": {}
      },
      "source": [
        "import networkx as nx"
      ],
      "execution_count": 0,
      "outputs": []
    },
    {
      "cell_type": "code",
      "metadata": {
        "id": "zNjrL9OSO3sD",
        "colab_type": "code",
        "colab": {}
      },
      "source": [
        "tfidf = TfidfVectorizer(ngram_range=(1,2), min_df=5)"
      ],
      "execution_count": 0,
      "outputs": []
    },
    {
      "cell_type": "code",
      "metadata": {
        "id": "FSLiVrUsTNLb",
        "colab_type": "code",
        "outputId": "4ddcab54-193f-4a7b-e2d5-fd065a9867ac",
        "colab": {
          "base_uri": "https://localhost:8080/",
          "height": 136
        }
      },
      "source": [
        "tfidf.fit(data['content_norm_str'])"
      ],
      "execution_count": 156,
      "outputs": [
        {
          "output_type": "execute_result",
          "data": {
            "text/plain": [
              "TfidfVectorizer(analyzer='word', binary=False, decode_error='strict',\n",
              "                dtype=<class 'numpy.float64'>, encoding='utf-8',\n",
              "                input='content', lowercase=True, max_df=1.0, max_features=None,\n",
              "                min_df=5, ngram_range=(1, 2), norm='l2', preprocessor=None,\n",
              "                smooth_idf=True, stop_words=None, strip_accents=None,\n",
              "                sublinear_tf=False, token_pattern='(?u)\\\\b\\\\w\\\\w+\\\\b',\n",
              "                tokenizer=None, use_idf=True, vocabulary=None)"
            ]
          },
          "metadata": {
            "tags": []
          },
          "execution_count": 156
        }
      ]
    },
    {
      "cell_type": "code",
      "metadata": {
        "id": "6WyJKQ6MS6yp",
        "colab_type": "code",
        "colab": {}
      },
      "source": [
        "id2word = {i:word for i,word in enumerate(tfidf.get_feature_names())}"
      ],
      "execution_count": 0,
      "outputs": []
    },
    {
      "cell_type": "code",
      "metadata": {
        "id": "jwFgFlRJTtQW",
        "colab_type": "code",
        "colab": {}
      },
      "source": [
        "texts_vectors = tfidf.transform(data['content_norm_str'])"
      ],
      "execution_count": 0,
      "outputs": []
    },
    {
      "cell_type": "code",
      "metadata": {
        "id": "VVsy5FTCSHfF",
        "colab_type": "code",
        "colab": {}
      },
      "source": [
        "keywords = []\n",
        "\n",
        "for row in range(texts_vectors.shape[0]):\n",
        "    row_data = texts_vectors.getrow(row)\n",
        "    top_inds = row_data.toarray().argsort()[0,:-11:-1]\n",
        "    keywords.append([id2word[w] for w in top_inds])"
      ],
      "execution_count": 0,
      "outputs": []
    },
    {
      "cell_type": "code",
      "metadata": {
        "id": "C7rUjTm1Sr51",
        "colab_type": "code",
        "outputId": "cde028ce-3c09-449b-9ba6-5f6f38e89bdc",
        "colab": {
          "base_uri": "https://localhost:8080/",
          "height": 85
        }
      },
      "source": [
        "evaluate(data['keywords'], keywords)\n",
        "#Значит это будет бейзлайн, который нужно побить"
      ],
      "execution_count": 160,
      "outputs": [
        {
          "output_type": "stream",
          "text": [
            "Precision -  0.08\n",
            "Recall -  0.1\n",
            "F1 -  0.08\n",
            "Jaccard -  0.05\n"
          ],
          "name": "stdout"
        }
      ]
    },
    {
      "cell_type": "code",
      "metadata": {
        "id": "baiMd2oAT8wN",
        "colab_type": "code",
        "outputId": "7501e2e8-2159-4aec-9b6d-2b3d8dce2492",
        "colab": {
          "base_uri": "https://localhost:8080/",
          "height": 85
        }
      },
      "source": [
        "#1)Tfidf. без нграмм и с min_df=1 получилось лучше.\n",
        "tfidf = TfidfVectorizer(ngram_range=(1,1), min_df=1)\n",
        "tfidf.fit(data['content_norm_str'])\n",
        "id2word = {i:word for i,word in enumerate(tfidf.get_feature_names())}\n",
        "texts_vectors = tfidf.transform(data['content_norm_str'])\n",
        "\n",
        "keywords = []\n",
        "\n",
        "for row in range(texts_vectors.shape[0]):\n",
        "    row_data = texts_vectors.getrow(row)\n",
        "    top_inds = row_data.toarray().argsort()[0,:-11:-1]\n",
        "    keywords.append([id2word[w] for w in top_inds])\n",
        "\n",
        "evaluate(data['keywords'], keywords)"
      ],
      "execution_count": 162,
      "outputs": [
        {
          "output_type": "stream",
          "text": [
            "Precision -  0.09\n",
            "Recall -  0.11\n",
            "F1 -  0.09\n",
            "Jaccard -  0.05\n"
          ],
          "name": "stdout"
        }
      ]
    },
    {
      "cell_type": "code",
      "metadata": {
        "id": "V-5VoXRtwnT5",
        "colab_type": "code",
        "colab": {}
      },
      "source": [
        "# 2) графы с метриками из networkx\n",
        "# degree_centrality\n",
        "def build_matrix(text, window_size=5):\n",
        "    vocab = set(text)\n",
        "    word2id = {w:i for i, w in enumerate(vocab)}\n",
        "    id2word = {i:w for i, w in enumerate(vocab)}\n",
        "    ids = [word2id[word] for word in text]\n",
        "    m = np.zeros((len(vocab), len(vocab)))\n",
        "    for i in range(0, len(ids), window_size):\n",
        "        window = ids[i:i+window_size]\n",
        "        for j, k in combinations(window, 2):\n",
        "            m[j][k] += 1\n",
        "            m[k][j] += 1    \n",
        "    return m, id2word\n",
        "def some_centrality_measure(text, window_size=5, topn=5):  \n",
        "    matrix, id2word = build_matrix(text, window_size)\n",
        "    G = nx.from_numpy_array(matrix)\n",
        "    node2measure = dict(nx.degree_centrality(G))\n",
        "    \n",
        "    return [id2word[index] for index,measure in sorted(node2measure.items(), key=lambda x: -x[1])[:topn]]"
      ],
      "execution_count": 0,
      "outputs": []
    },
    {
      "cell_type": "code",
      "metadata": {
        "id": "-WHaVzRvwqtt",
        "colab_type": "code",
        "colab": {}
      },
      "source": [
        "keyword_nx = data['content_norm'].apply(lambda x: some_centrality_measure(x, 10, 10))"
      ],
      "execution_count": 0,
      "outputs": []
    },
    {
      "cell_type": "code",
      "metadata": {
        "id": "NTPe2wYcw-Ib",
        "colab_type": "code",
        "colab": {
          "base_uri": "https://localhost:8080/",
          "height": 85
        },
        "outputId": "25a04cc5-a620-48d1-96bd-903695ee34f9"
      },
      "source": [
        "evaluate(data['keywords'], keyword_nx)"
      ],
      "execution_count": 91,
      "outputs": [
        {
          "output_type": "stream",
          "text": [
            "Precision -  0.1\n",
            "Recall -  0.11\n",
            "F1 -  0.1\n",
            "Jaccard -  0.06\n"
          ],
          "name": "stdout"
        }
      ]
    },
    {
      "cell_type": "code",
      "metadata": {
        "id": "FTf16fCz0JtT",
        "colab_type": "code",
        "colab": {
          "base_uri": "https://localhost:8080/",
          "height": 85
        },
        "outputId": "b705de1d-b330-4935-91f1-d3c2f7e5178a"
      },
      "source": [
        "# degree_centrality\n",
        "def some_centrality_measure(text, window_size=20, topn=5,):\n",
        "    \n",
        "    matrix, id2word = build_matrix(text, window_size)\n",
        "    G = nx.from_numpy_array(matrix)\n",
        "    node2measure = dict(nx.degree_centrality(G))\n",
        "    \n",
        "    return [id2word[index] for index,measure in sorted(node2measure.items(), key=lambda x: -x[1])[:topn]]\n",
        "\n",
        "keyword_nx = data['content_norm'].apply(lambda x: some_centrality_measure(x, 10, 10))\n",
        "\n",
        "evaluate(data['keywords'], keyword_nx)"
      ],
      "execution_count": 109,
      "outputs": [
        {
          "output_type": "stream",
          "text": [
            "Precision -  0.1\n",
            "Recall -  0.11\n",
            "F1 -  0.1\n",
            "Jaccard -  0.06\n"
          ],
          "name": "stdout"
        }
      ]
    },
    {
      "cell_type": "code",
      "metadata": {
        "id": "jHi96vHX0wY8",
        "colab_type": "code",
        "colab": {
          "base_uri": "https://localhost:8080/",
          "height": 85
        },
        "outputId": "1684cad4-69fa-4d38-f638-71a2ab95ee76"
      },
      "source": [
        "# closeness_centrality\n",
        "def some_centrality_measure(text, window_size=6, topn=5,):\n",
        "    \n",
        "    matrix, id2word = build_matrix(text, window_size)\n",
        "    G = nx.from_numpy_array(matrix)\n",
        "    node2measure = dict(nx.closeness_centrality(G))\n",
        "    \n",
        "    return [id2word[index] for index,measure in sorted(node2measure.items(), key=lambda x: -x[1])[:topn]]\n",
        "\n",
        "keyword_nx = data['content_norm'].apply(lambda x: some_centrality_measure(x, 10, 10))\n",
        "\n",
        "evaluate(data['keywords'], keyword_nx)"
      ],
      "execution_count": 110,
      "outputs": [
        {
          "output_type": "stream",
          "text": [
            "Precision -  0.1\n",
            "Recall -  0.11\n",
            "F1 -  0.1\n",
            "Jaccard -  0.06\n"
          ],
          "name": "stdout"
        }
      ]
    },
    {
      "cell_type": "code",
      "metadata": {
        "id": "osHb71Z_2Oep",
        "colab_type": "code",
        "colab": {
          "base_uri": "https://localhost:8080/",
          "height": 85
        },
        "outputId": "86b540ff-3945-4889-f4d1-b39cc00dc7d8"
      },
      "source": [
        "#betweenness_centrality\n",
        "def some_centrality_measure(text, window_size=6, topn=5,):\n",
        "  \n",
        "    matrix, id2word = build_matrix(text, window_size)\n",
        "    G = nx.from_numpy_array(matrix)\n",
        "    node2measure = dict(nx.betweenness_centrality(G))\n",
        "\n",
        "    return [id2word[index] for index,measure in sorted(node2measure.items(), key=lambda x: -x[1])[:topn]]\n",
        "\n",
        "keyword_nx = data['content_norm'].apply(lambda x: some_centrality_measure(x, 10, 10))\n",
        "evaluate(data['keywords'], keyword_nx)"
      ],
      "execution_count": 112,
      "outputs": [
        {
          "output_type": "stream",
          "text": [
            "Precision -  0.1\n",
            "Recall -  0.11\n",
            "F1 -  0.1\n",
            "Jaccard -  0.06\n"
          ],
          "name": "stdout"
        }
      ]
    },
    {
      "cell_type": "code",
      "metadata": {
        "id": "xwOOtmGB7ltf",
        "colab_type": "code",
        "colab": {
          "base_uri": "https://localhost:8080/",
          "height": 224
        },
        "outputId": "45f9b7ca-5d03-450e-8d6f-0cbb9e205eaf"
      },
      "source": [
        "# какие-то они одинаковые получаются, или я не то делаю.\n",
        "# 3) нагуглил библиотеку rake-nltk, попробую её\n",
        "pip install rake-nltk"
      ],
      "execution_count": 117,
      "outputs": [
        {
          "output_type": "stream",
          "text": [
            "Collecting rake-nltk\n",
            "  Downloading https://files.pythonhosted.org/packages/8e/c4/b4ff57e541ac5624ad4b20b89c2bafd4e98f29fd83139f3a81858bdb3815/rake_nltk-1.0.4.tar.gz\n",
            "Requirement already satisfied: nltk in /usr/local/lib/python3.6/dist-packages (from rake-nltk) (3.2.5)\n",
            "Requirement already satisfied: six in /usr/local/lib/python3.6/dist-packages (from nltk->rake-nltk) (1.12.0)\n",
            "Building wheels for collected packages: rake-nltk\n",
            "  Building wheel for rake-nltk (setup.py) ... \u001b[?25l\u001b[?25hdone\n",
            "  Created wheel for rake-nltk: filename=rake_nltk-1.0.4-py2.py3-none-any.whl size=7819 sha256=ed6ddde494ec432695c83fa4eb0c475de085b24b8d47dce4e0392fa9e2eb98f7\n",
            "  Stored in directory: /root/.cache/pip/wheels/ef/92/fc/271b3709e71a96ffe934b27818946b795ac6b9b8ff8682483f\n",
            "Successfully built rake-nltk\n",
            "Installing collected packages: rake-nltk\n",
            "Successfully installed rake-nltk-1.0.4\n"
          ],
          "name": "stdout"
        }
      ]
    },
    {
      "cell_type": "code",
      "metadata": {
        "id": "ZsYQ7Z9Z4UoU",
        "colab_type": "code",
        "colab": {
          "base_uri": "https://localhost:8080/",
          "height": 241
        },
        "outputId": "4b2da493-d5f3-4636-cc7c-dd8a38e81f5d"
      },
      "source": [
        "from rake_nltk import Rake\n",
        "r = Rake()\n",
        "def rrake(text):\n",
        "  text = \" \".join(text)\n",
        "  r.extract_keywords_from_text(text)\n",
        "  return r.get_ranked_phrases()[0].split()\n",
        "keyword_rake = data['content_norm'].apply(lambda x: rrake(x))\n"
      ],
      "execution_count": 149,
      "outputs": [
        {
          "output_type": "execute_result",
          "data": {
            "text/plain": [
              "0                                                                                                                                                                                                                                                                                                                                                                                                                                                [раевский, американец, турция, фетхуллах, гюлена, слово, турция, дело, россия, иран, турция, момент, турция, юрий, мавашева, президент, фонд, защита, демократия, эксперт, дело, зарраб, фонд, защита, демократия, год, турция, год, сша, турция, отношение, турция, дело, зарраб, эрдогана, сша, отношение, турция, институт, год, сша, санкция, президент, санкция, сша, сша, дело, зарраб, турция, россия, год, санкция, россия, страна, турция, отношение, сша, давление, виктор, надеин]\n",
              "1        [январь, президент, казахстан, назарбаев, дональд, трамп, казахстан, казахстан, президент, сша, дональд, трамп, сша, казахстан, визит, президент, казахстан, сша, ход, назарбаев, президент, сша, дональд, трамп, нераспространение, казахстан, казахстан, султан, казахстан, страна, азия, сша, страна, сша, отношение, политолог, президент, казахстан, назарбаев, казахстан, россия, отношение, сша, слово, эксперт, президент, казахстан, казахстан, политолог, казахстан, отношение, россия, отношение, сша, россия, султан, казахстан, россия, россия, назарбаев, сша, россия, эксперт, отношение, россия, визит, назарбаев, год, президент, россия, год, назарбаев, год, казахстан, отношение, султан, россия, сша, казахстан, политолог, отношение, сша, россия, казахстан, визит, назарбаев, сша, страна, безопасность, султан, казахстан, январь, год, безопасность, январь, ход, визит, сша, назарбаев, безопасность, ...]\n",
              "2                                                                                                                                                                                                                                                                                                                                                                                                                                                                                                                                                                                                                                                                            [марино, группа, тур, матч, минута, счёт, мяч, ворот, образ, сентябрь, год, казахстан, счёт, казахстан, шанс, матч, сентябрь, год, казахстан, положение, команда, казахстан, группа, англия, ворот, матч, мяч, минута, образ, англия, положение, команда, англия]\n",
              "3                    [женя, очередь, друг, пхёнчхан, загитов, медведев, россия, прокат, евгений, рекорд, лёд, алин, фигуристка, программа, загитов, медведев, медведев, женя, очередь, друг, прокат, лёд, программа, загитов, алин, тренер, время, травма, фигуристка, очередь, евгений, медведев, загитов, алина, время, время, лёд, прокат, загитов, алина, рекорд, программа, медведев, загитов, время, алина, друг, фигуристка, выступление, девочка, программа, загитов, медведев, тренер, время, загитов, алин, загитов, травма, алин, тренер, загитов, программа, медведев, рекорд, загитов, медведев, программа, олимпиада, пхёнчхан, фигуристка, алин, загитов, евгений, медведев, программа, загитов, день, лёд, тренер, олимпиада, программа, тренер, медведев, загитов, программа, медведев, олимпиада, фигуристка, выступление, девочка, девочка, алин, загитов, женя, выступление, загитов, медведев, программа, олимпиада, ...]\n",
              "4                                                                            [анастасий, брызгалов, срок, дисквалификация, александр, допинг, мельдонья, информация, крушельницкий, тема, федерация, кёрлинга, крушельницкий, мельдонья, организм, александр, крушельницкий, время, япония, игра, информация, допинг, крушельницкий, организм, япония, брызгалов, япония, американец, крушельницкий, допинг, президент, федерация, кёрлинга, россия, тема, япония, информация, президент, мельдонья, американец, япония, американец, игра, крушельницкий, тема, федерация, кёрлинга, крушельницкий, мельдонья, организм, александр, крушельницкий, время, япония, игра, время, брызгалов, партнёр, анастасий, россия, брызгалов, федерация, кёрлинга, срок, дисквалификация, крушельницкий, партнёр, брызгалов, партнёр, анастасий, россия, президент, федерация, крушельницкий, брызгалов, александр, срок, дисквалификация, срок, брызгалов]\n",
              "                                                                                                                                                                                                                                                                                                                                                                                                                                                                         ...                                                                                                                                                                                                                                                                                                                                                                                                                                                                  \n",
              "17188                                                                                                                                                                                                                                                                                                                                                                                                                                                                                                                                                                                                                                                                                                                                                                                            [окружение, разработка, разработка, окружение, разработка, компания, окружение, компания, компания, видео, видео, видео, видео, видео, видео]\n",
              "17189                                                                                                                                                                                                            [сухостой, дерево, август, год, фото, сша, засуха, год, дерево, миллион, год, количество, леса, год, миллион, дерево, миллион, гектар, штат, год, миллион, дерево, год, год, леса, засуха, сша, миллион, дерево, год, сухостой, дерево, август, год, фото, восстановление, леса, дерево, засуха, дерево, дерево, сша, леса, калифорния, дерево, леса, сухостой, штат, восстановление, леса, год, количество, пожар, калифорния, гектар, леса, сша, пожар, гектар, дерево, пожар, леса, сухостой, сухостой, дерево, количество, дерево, год, год, штат, год, год, леса, леса, леса, засуха, сухостой, дерево, август, год, фото, леса, калифорния, год, штат, дерево, сухостой, леса, пожар, восстановление, леса, калифорния]\n",
              "17190                                                                                                                                                                                                                                                                                    [модель, текстура, тексель, текстура, элемент, элемент, текстура, текстура, тексель, текстура, тексель, элемент, текселерация, тексель, текстура, модель, текстура, образ, текселерация, текстура, размер, текстура, объект, окружение, текселерация, персонаж, текстура, тексель, окружение, тексель, текселерация, текселерация, модель, текселерация, модель, персонаж, тексель, персонаж, текселерация, текстура, тексель, текстура, текстура, размер, объект, текстура, текстура, объект, текстура, раз, раз, образ, объект, текстура, текстура, размер, образ, раз, текстура, размер, текстура, предмет, предмет, окружение, предмет, текстура]\n",
              "17191                                                                                                                                                                                                                                                                                                                                                                                                                                                                                                                                                                                                                                                                                                                                                                                                                    [переговоры, браузер, сайт, блокировка, переговоры, браузер, браузер, блокировка, сайт, переговоры, блокировка, сайт]\n",
              "17192                                                                                                                                                                                                                                                                                                                                                                                                                                                                                                                                                                                                                                                                                                                                                                                                                                                                                                                                  [empty]\n",
              "Name: content_norm, Length: 17193, dtype: object"
            ]
          },
          "metadata": {
            "tags": []
          },
          "execution_count": 149
        }
      ]
    },
    {
      "cell_type": "code",
      "metadata": {
        "id": "wHtmzqogGPoH",
        "colab_type": "code",
        "colab": {
          "base_uri": "https://localhost:8080/",
          "height": 85
        },
        "outputId": "12791d11-312d-4d51-cda2-c042c5dc6947"
      },
      "source": [
        "evaluate(data['keywords'], keyword_rake)\n",
        "# ну тоже выше бейзлайна, получается"
      ],
      "execution_count": 154,
      "outputs": [
        {
          "output_type": "stream",
          "text": [
            "Precision -  0.08\n",
            "Recall -  0.15\n",
            "F1 -  0.09\n",
            "Jaccard -  0.05\n"
          ],
          "name": "stdout"
        }
      ]
    },
    {
      "cell_type": "code",
      "metadata": {
        "id": "aAsLW3RN_XtO",
        "colab_type": "code",
        "colab": {
          "base_uri": "https://localhost:8080/",
          "height": 85
        },
        "outputId": "6c725724-996a-4db1-f835-99b3d1dfb0dc"
      },
      "source": [
        "# а если по результату этой функции еще пройтись betweenness_centrality, например?\n",
        "\n",
        "def some_centrality_measure(text, window_size=6, topn=5,):\n",
        "    \n",
        "    matrix, id2word = build_matrix(text, window_size)\n",
        "    G = nx.from_numpy_array(matrix)\n",
        "    node2measure = dict(nx.betweenness_centrality(G))\n",
        "    \n",
        "    return [id2word[index] for index,measure in sorted(node2measure.items(), key=lambda x: -x[1])[:topn]]\n",
        "\n",
        "keyword_nx = keyword_rake.apply(lambda x: some_centrality_measure(x, 10, 10))\n",
        "evaluate(data['keywords'], keyword_nx)"
      ],
      "execution_count": 152,
      "outputs": [
        {
          "output_type": "stream",
          "text": [
            "Precision -  0.1\n",
            "Recall -  0.11\n",
            "F1 -  0.1\n",
            "Jaccard -  0.06\n"
          ],
          "name": "stdout"
        }
      ]
    },
    {
      "cell_type": "code",
      "metadata": {
        "id": "0PyLSXCoFR3Y",
        "colab_type": "code",
        "colab": {}
      },
      "source": [
        "#тоже, что и с предыдущими метриками, но хорошо хоть выше бейзлайна."
      ],
      "execution_count": 0,
      "outputs": []
    }
  ]
}