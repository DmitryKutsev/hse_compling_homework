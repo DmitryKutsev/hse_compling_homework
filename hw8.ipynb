{
  "nbformat": 4,
  "nbformat_minor": 0,
  "metadata": {
    "colab": {
      "name": "Untitled33.ipynb",
      "provenance": [],
      "authorship_tag": "ABX9TyPdbaVY15x/qu02qznisJXt",
      "include_colab_link": true
    },
    "kernelspec": {
      "name": "python3",
      "display_name": "Python 3"
    }
  },
  "cells": [
    {
      "cell_type": "markdown",
      "metadata": {
        "id": "view-in-github",
        "colab_type": "text"
      },
      "source": [
        "<a href=\"https://colab.research.google.com/github/DmitryKutsev/hse_compling_homework/blob/master/hw8.ipynb\" target=\"_parent\"><img src=\"https://colab.research.google.com/assets/colab-badge.svg\" alt=\"Open In Colab\"/></a>"
      ]
    },
    {
      "cell_type": "code",
      "metadata": {
        "id": "ut15pIopfB_b",
        "colab_type": "code",
        "colab": {
          "base_uri": "https://localhost:8080/",
          "height": 394
        },
        "outputId": "661c7f9e-ec22-4ec0-e0e9-efe536f47bce"
      },
      "source": [
        "!pip install pymorphy2[fast]\n",
        "!pip install nltk"
      ],
      "execution_count": 1,
      "outputs": [
        {
          "output_type": "stream",
          "text": [
            "Collecting pymorphy2[fast]\n",
            "\u001b[?25l  Downloading https://files.pythonhosted.org/packages/a3/33/fff9675c68b5f6c63ec8c6e6ff57827dda28a1fa5b2c2d727dffff92dd47/pymorphy2-0.8-py2.py3-none-any.whl (46kB)\n",
            "\u001b[K     |████████████████████████████████| 51kB 1.7MB/s \n",
            "\u001b[?25hCollecting pymorphy2-dicts<3.0,>=2.4\n",
            "\u001b[?25l  Downloading https://files.pythonhosted.org/packages/02/51/2465fd4f72328ab50877b54777764d928da8cb15b74e2680fc1bd8cb3173/pymorphy2_dicts-2.4.393442.3710985-py2.py3-none-any.whl (7.1MB)\n",
            "\u001b[K     |████████████████████████████████| 7.1MB 8.1MB/s \n",
            "\u001b[?25hRequirement already satisfied: docopt>=0.6 in /usr/local/lib/python3.6/dist-packages (from pymorphy2[fast]) (0.6.2)\n",
            "Collecting dawg-python>=0.7\n",
            "  Downloading https://files.pythonhosted.org/packages/6a/84/ff1ce2071d4c650ec85745766c0047ccc3b5036f1d03559fd46bb38b5eeb/DAWG_Python-0.7.2-py2.py3-none-any.whl\n",
            "Collecting DAWG>=0.7.3; extra == \"fast\"\n",
            "\u001b[?25l  Downloading https://files.pythonhosted.org/packages/b8/ef/91b619a399685f7a0a95a03628006ba814d96293bbbbed234ee66fbdefd9/DAWG-0.8.0.tar.gz (371kB)\n",
            "\u001b[K     |████████████████████████████████| 378kB 50.8MB/s \n",
            "\u001b[?25hBuilding wheels for collected packages: DAWG\n",
            "  Building wheel for DAWG (setup.py) ... \u001b[?25l\u001b[?25hdone\n",
            "  Created wheel for DAWG: filename=DAWG-0.8.0-cp36-cp36m-linux_x86_64.whl size=853102 sha256=91eb0b6b3c3bb519109e119a3b1410a67eea300fd0a3e0c5c96575095097678b\n",
            "  Stored in directory: /root/.cache/pip/wheels/3d/1f/f0/a5b1f9d02e193c997d252c33d215f24dfd7a448bc0166b2a12\n",
            "Successfully built DAWG\n",
            "Installing collected packages: pymorphy2-dicts, dawg-python, DAWG, pymorphy2\n",
            "Successfully installed DAWG-0.8.0 dawg-python-0.7.2 pymorphy2-0.8 pymorphy2-dicts-2.4.393442.3710985\n",
            "Requirement already satisfied: nltk in /usr/local/lib/python3.6/dist-packages (3.2.5)\n",
            "Requirement already satisfied: six in /usr/local/lib/python3.6/dist-packages (from nltk) (1.12.0)\n"
          ],
          "name": "stdout"
        }
      ]
    },
    {
      "cell_type": "code",
      "metadata": {
        "id": "jEugqHwMgTTe",
        "colab_type": "code",
        "colab": {
          "base_uri": "https://localhost:8080/",
          "height": 68
        },
        "outputId": "99adb7cb-0b8b-4819-e2d5-5139e52eddf3"
      },
      "source": [
        "import nltk\n",
        "nltk.download('stopwords')"
      ],
      "execution_count": 2,
      "outputs": [
        {
          "output_type": "stream",
          "text": [
            "[nltk_data] Downloading package stopwords to /root/nltk_data...\n",
            "[nltk_data]   Unzipping corpora/stopwords.zip.\n"
          ],
          "name": "stdout"
        },
        {
          "output_type": "execute_result",
          "data": {
            "text/plain": [
              "True"
            ]
          },
          "metadata": {
            "tags": []
          },
          "execution_count": 2
        }
      ]
    },
    {
      "cell_type": "code",
      "metadata": {
        "id": "nmZZFILugqyf",
        "colab_type": "code",
        "colab": {}
      },
      "source": [
        "# !wget https://github.com/mannefedov/ru_kw_eval_datasets/blob/master/data/ng_0.jsonlines.zip?raw=true\n",
        "# !wget https://github.com/mannefedov/ru_kw_eval_datasets/blob/master/data/ng_1.jsonlines.zip?raw=true\n",
        "# !wget https://github.com/mannefedov/ru_kw_eval_datasets/blob/master/data/russia_today_0.jsonlines.zip?raw=true\n",
        "# !wget https://github.com/mannefedov/ru_kw_eval_datasets/blob/master/data/russia_today_1.jsonlines.zip?raw=true\n",
        "# !wget https://github.com/mannefedov/ru_kw_eval_datasets/blob/master/data/russia_today_2.jsonlines.zip?raw=true\n",
        "# !wget https://github.com/mannefedov/ru_kw_eval_datasets/blob/master/data/russia_today_3.jsonlines.zip?raw=true\n",
        "# !wget https://github.com/mannefedov/ru_kw_eval_datasets/blob/master/data/russia_today_4.jsonlines.zip?raw=true\n",
        "# !wget https://github.com/mannefedov/ru_kw_eval_datasets/blob/master/data/russia_today_5.jsonlines.zip?raw=true\n",
        "# !wget https://github.com/mannefedov/ru_kw_eval_datasets/blob/master/data/russia_today_6.jsonlines.zip?raw=true\n",
        "# !wget https://github.com/mannefedov/ru_kw_eval_datasets/blob/master/data/russia_today_7.jsonlines.zip?raw=true\n",
        "# !wget https://github.com/mannefedov/ru_kw_eval_datasets/blob/master/data/russia_today_0.jsonlines.zip?raw=true\n",
        "# !wget https://github.com/mannefedov/ru_kw_eval_datasets/blob/master/data/habrahabr_0.jsonlines.zip?raw=true\n",
        "# !wget https://github.com/mannefedov/ru_kw_eval_datasets/blob/master/data/habrahabr_1.jsonlines.zip?raw=true\n",
        "# !wget https://github.com/mannefedov/ru_kw_eval_datasets/blob/master/data/habrahabr_2.jsonlines.zip?raw=true\n",
        "# !wget https://github.com/mannefedov/ru_kw_eval_datasets/blob/master/data/habrahabr_3.jsonlines.zip?raw=true\n",
        "# !wget https://github.com/mannefedov/ru_kw_eval_datasets/blob/master/data/cyberleninka_0.jsonlines.zip?raw=true\n",
        "# !wget https://github.com/mannefedov/ru_kw_eval_datasets/blob/master/data/cyberleninka_1.jsonlines.zip?raw=true\n",
        "# !wget https://github.com/mannefedov/ru_kw_eval_datasets/blob/master/data/cyberleninka_0.jsonlines.zip?raw=true\n",
        "# !wget https://github.com/mannefedov/ru_kw_eval_datasets/blob/master/data/cyberleninka_2.jsonlines.zip?raw=true\n",
        "# !wget https://github.com/mannefedov/ru_kw_eval_datasets/blob/master/data/cyberleninka_3.jsonlines.zip?raw=true\n",
        "\n"
      ],
      "execution_count": 0,
      "outputs": []
    },
    {
      "cell_type": "code",
      "metadata": {
        "id": "0ERlJKBswJf7",
        "colab_type": "code",
        "colab": {}
      },
      "source": [
        "# import os\n",
        "\n",
        "# for i in os.listdir():\n",
        "#   print(i)\n",
        "#   if i[:-4] == True:\n",
        "#     os.rename(i, i[:-9])\n",
        "#     i = os.rename(i, i[:-9])\n",
        "#   print(i)\n"
      ],
      "execution_count": 0,
      "outputs": []
    },
    {
      "cell_type": "code",
      "metadata": {
        "id": "WNIxAKLrNgtM",
        "colab_type": "code",
        "colab": {}
      },
      "source": [
        "import json, os\n",
        "import pandas as pd\n",
        "from nltk.corpus import stopwords\n",
        "import numpy as np\n",
        "from pymorphy2 import MorphAnalyzer\n",
        "from collections import Counter\n",
        "from sklearn.feature_extraction.text import TfidfVectorizer\n",
        "morph = MorphAnalyzer()\n",
        "stops = set(stopwords.words('russian'))"
      ],
      "execution_count": 0,
      "outputs": []
    },
    {
      "cell_type": "code",
      "metadata": {
        "id": "ZHcSLdmDe7a8",
        "colab_type": "code",
        "colab": {
          "base_uri": "https://localhost:8080/",
          "height": 391
        },
        "outputId": "bd370ef8-57f8-4e78-c67e-caa9ca5b51e8"
      },
      "source": [
        "pd.set_option('display.max_colwidth', 1000)\n",
        "os.listdir()"
      ],
      "execution_count": 32,
      "outputs": [
        {
          "output_type": "execute_result",
          "data": {
            "text/plain": [
              "['.config',\n",
              " 'habrahabr_2.jsonlines.zip',\n",
              " 'russia_today_7.jsonlines.zip',\n",
              " 'russia_today_4.jsonlines.zip',\n",
              " 'cyberleninka_3.jsonlines.zip',\n",
              " 'russia_today_6.jsonlines.zip',\n",
              " 'russia_today_5.jsonlines.zip',\n",
              " 'russia_today_2.jsonlines.zip',\n",
              " 'ng_0.jsonlines.zip',\n",
              " 'cyberleninka_0.jsonlines.zip',\n",
              " 'habrahabr_3.jsonlines.zip',\n",
              " 'habrahabr_0.jsonlines.zip',\n",
              " 'habrahabr_1.jsonlines.zip',\n",
              " 'ng_1.jsonlines.zip',\n",
              " 'cyberleninka_2.jsonlines.zip',\n",
              " 'russia_today_3.jsonlines.zip',\n",
              " 'cyberleninka_1.jsonlines.zip',\n",
              " 'cyberleninka_0.jsonlines.zip?r',\n",
              " 'russia_today_0.jsonlines.zip?r',\n",
              " 'russia_today_1.jsonlines.zip',\n",
              " 'russia_today_0.jsonlines.zip',\n",
              " 'sample_data']"
            ]
          },
          "metadata": {
            "tags": []
          },
          "execution_count": 32
        }
      ]
    },
    {
      "cell_type": "code",
      "metadata": {
        "id": "ndN1esZafAnB",
        "colab_type": "code",
        "colab": {
          "base_uri": "https://localhost:8080/",
          "height": 323
        },
        "outputId": "b39c9242-a20a-4a8d-aed9-da5dcfdb7e31"
      },
      "source": [
        "data_paths = [i for i in os.listdir() if i[-3:] == 'zip']\n",
        "data_paths"
      ],
      "execution_count": 33,
      "outputs": [
        {
          "output_type": "execute_result",
          "data": {
            "text/plain": [
              "['habrahabr_2.jsonlines.zip',\n",
              " 'russia_today_7.jsonlines.zip',\n",
              " 'russia_today_4.jsonlines.zip',\n",
              " 'cyberleninka_3.jsonlines.zip',\n",
              " 'russia_today_6.jsonlines.zip',\n",
              " 'russia_today_5.jsonlines.zip',\n",
              " 'russia_today_2.jsonlines.zip',\n",
              " 'ng_0.jsonlines.zip',\n",
              " 'cyberleninka_0.jsonlines.zip',\n",
              " 'habrahabr_3.jsonlines.zip',\n",
              " 'habrahabr_0.jsonlines.zip',\n",
              " 'habrahabr_1.jsonlines.zip',\n",
              " 'ng_1.jsonlines.zip',\n",
              " 'cyberleninka_2.jsonlines.zip',\n",
              " 'russia_today_3.jsonlines.zip',\n",
              " 'cyberleninka_1.jsonlines.zip',\n",
              " 'russia_today_1.jsonlines.zip',\n",
              " 'russia_today_0.jsonlines.zip']"
            ]
          },
          "metadata": {
            "tags": []
          },
          "execution_count": 33
        }
      ]
    },
    {
      "cell_type": "code",
      "metadata": {
        "id": "C_Mfp0zAfbEW",
        "colab_type": "code",
        "colab": {}
      },
      "source": [
        "data = pd.concat([pd.read_json(file, lines=True) for file in data_paths], axis=0, ignore_index=True)"
      ],
      "execution_count": 0,
      "outputs": []
    },
    {
      "cell_type": "code",
      "metadata": {
        "id": "Ycx7gBh9fhsh",
        "colab_type": "code",
        "colab": {
          "base_uri": "https://localhost:8080/",
          "height": 34
        },
        "outputId": "df659505-c2cd-4c40-c9d7-90895477fed6"
      },
      "source": [
        "data.shape"
      ],
      "execution_count": 35,
      "outputs": [
        {
          "output_type": "execute_result",
          "data": {
            "text/plain": [
              "(17193, 6)"
            ]
          },
          "metadata": {
            "tags": []
          },
          "execution_count": 35
        }
      ]
    },
    {
      "cell_type": "code",
      "metadata": {
        "id": "RWm8kQO5h0Ns",
        "colab_type": "code",
        "colab": {
          "base_uri": "https://localhost:8080/",
          "height": 924
        },
        "outputId": "03ce01d7-b8d5-4e6f-f222-6a07dbaa0c4e"
      },
      "source": [
        "data.head(3)"
      ],
      "execution_count": 36,
      "outputs": [
        {
          "output_type": "execute_result",
          "data": {
            "text/html": [
              "<div>\n",
              "<style scoped>\n",
              "    .dataframe tbody tr th:only-of-type {\n",
              "        vertical-align: middle;\n",
              "    }\n",
              "\n",
              "    .dataframe tbody tr th {\n",
              "        vertical-align: top;\n",
              "    }\n",
              "\n",
              "    .dataframe thead th {\n",
              "        text-align: right;\n",
              "    }\n",
              "</style>\n",
              "<table border=\"1\" class=\"dataframe\">\n",
              "  <thead>\n",
              "    <tr style=\"text-align: right;\">\n",
              "      <th></th>\n",
              "      <th>content</th>\n",
              "      <th>title</th>\n",
              "      <th>summary</th>\n",
              "      <th>url</th>\n",
              "      <th>keywords</th>\n",
              "      <th>abstract</th>\n",
              "    </tr>\n",
              "  </thead>\n",
              "  <tbody>\n",
              "    <tr>\n",
              "      <th>0</th>\n",
              "      <td>На днях устыдили меня, мол ругаюсь на дилетантов, а сам ничего хорошего не пишу, а обещал ажно «цикл статей». Пришлось достать старый черновик и доработать. Для забывших — первая часть про выбор станка тут . \\r\\nПредположим, что Вы определились с моделью фрезера, провели первичные переговоры с поставщиком и начали морально готовиться к покупке. Что еще понадобится для начала работы? \\r\\nХотя многие поставщики вкладывают в комплект «стартер кит», для комфортного домашнего использования он будет явно недостаточен. Так что сразу начинаем искать/покупать/делать следующее: \\r\\n — Режущий инструмент — фрезы/граверы и боры \\r\\n — Дополнительные цанги к шпинделю \\r\\n — Крепеж для стола \\r\\n — Систему изоляции и/или удаления стружки \\r\\nИ да, сразу оговорюсь: данная статья касается домашних фрезеров со шпинделями типа Kress или китайчонками с цангой Er11, поэтому во-первых предположим, что хвостовик фрезы у нас цилиндрический до 6 мм (у Кресса есть 8, но нормальной его работу с 8кой не назо...</td>\n",
              "      <td>Домашний ЧПУ-фрезер как альтернатива 3D принтеру, часть вторая</td>\n",
              "      <td>На днях устыдили меня, мол ругаюсь на дилетантов, а сам ничего хорошего не пишу, а обещал ажно «цикл статей». Пришлось достать старый черновик и доработать. Для забывших — первая часть про выбор...</td>\n",
              "      <td>https://geektimes.ru/post/255262/</td>\n",
              "      <td>[CNC, ЧПУ, фрезерование]</td>\n",
              "      <td>NaN</td>\n",
              "    </tr>\n",
              "    <tr>\n",
              "      <th>1</th>\n",
              "      <td>Кто хоть раз тестировал свой WebAPI знает такие инструемнты, как Postman или Advanced REST (экстеншены для Chrome). Эти инструемнты всем удобны, кроме того, что не умеют сами узнавать какие модели принимает API, какие отдает и не предоставляет информацию обо всех возможных эндпоинтах. Это неудобство решает пакет Swashbuckle, который встраивает в проект генерацию Swagger спецификации и UI. Под катом коротко о том, как его прикрутить к проекту и некоторые детали относительно авторизации и работы с «перегруженными» эндпоинтами. Прикручиваем к Проекту \\r\\nSwashbuckle — это NuGet пакет, встраивающий в WebAPI автогенерацию информации об узлах в соответствии со спецификацией OpenAPI . Эта спецификация является, дефакто, стандартом, как некогда WSDL. Для установки, потребуется четыре простых шага. Устанавливаем из NuGet командой Install-Package Swashbuckle \\r\\n Включаем XML документацию в настройках проекта \\r\\n В файле SwaggerConfig.cs , который создаётся с установкой пакета, раскомментир...</td>\n",
              "      <td>Настройка Swashbuckle (Swagger) для WebAPI</td>\n",
              "      <td>Кто хоть раз тестировал свой WebAPI знает такие инструемнты, как Postman или Advanced REST (экстеншены для Chrome). Эти инструемнты всем удобны, кроме того, что не умеют сами узнавать какие модели...</td>\n",
              "      <td>https://habrahabr.ru/post/317338/</td>\n",
              "      <td>[webapi, swagger, openapi]</td>\n",
              "      <td>NaN</td>\n",
              "    </tr>\n",
              "    <tr>\n",
              "      <th>2</th>\n",
              "      <td>Привет всем! Если вы пробовали Material Design Lite , вы должно быть заметили составной паттерн классов, которые он использует. Это бывает довольно удобно, когда имеешь дело с цветами фона или текста. \\r\\nЭто полный список классов, которые вы можете задать вашим элементам, пользуйтесь! Текстовый класс \\r\\n Фоновый класс \\r\\n Hex-значение \\r\\n .mdl-color-text--red \\r\\n .mdl-color--red \\r\\n #f44336 \\r\\n .mdl-color-text--red-50 \\r\\n .mdl-color--red-50 \\r\\n #ffebee \\r\\n .mdl-color-text--red-100 \\r\\n .mdl-color--red-100 \\r\\n #ffcdd2 \\r\\n .mdl-color-text--red-200 \\r\\n .mdl-color--red-200 \\r\\n #ef9a9a \\r\\n .mdl-color-text--red-300 \\r\\n .mdl-color--red-300 \\r\\n #e57373 \\r\\n .mdl-color-text--red-400 \\r\\n .mdl-color--red-400 \\r\\n #ef5350 \\r\\n .mdl-color-text--red-500 \\r\\n .mdl-color--red-500 \\r\\n #f44336 \\r\\n .mdl-color-text--red-600 \\r\\n .mdl-color--red-600 \\r\\n #e53935 \\r\\n .mdl-color-text--red-700 \\r\\n .mdl-color--red-700 \\r\\n #d32f2f \\r\\n .mdl-color-text--red-800 \\r\\n .mdl-color--red-800...</td>\n",
              "      <td>Список цветовых классов Material Design Lite</td>\n",
              "      <td>Привет всем! Если вы пробовали Material Design Lite, вы должно быть заметили составной паттерн классов, которые он использует. Это бывает довольно удобно, когда имеешь дело с цветами фона или...</td>\n",
              "      <td>https://habrahabr.ru/post/317302/</td>\n",
              "      <td>[material design, materialdesign]</td>\n",
              "      <td>NaN</td>\n",
              "    </tr>\n",
              "  </tbody>\n",
              "</table>\n",
              "</div>"
            ],
            "text/plain": [
              "                                                                                                                                                                                                                                                                                                                                                                                                                                                                                                                                                                                                                                                                                                                                                                                                                                                                                                                                                                                                                                   content  ... abstract\n",
              "0  На днях устыдили меня, мол ругаюсь на дилетантов, а сам ничего хорошего не пишу, а обещал ажно «цикл статей». Пришлось достать старый черновик и доработать. Для забывших — первая часть про выбор станка тут . \\r\\nПредположим, что Вы определились с моделью фрезера, провели первичные переговоры с поставщиком и начали морально готовиться к покупке. Что еще понадобится для начала работы? \\r\\nХотя многие поставщики вкладывают в комплект «стартер кит», для комфортного домашнего использования он будет явно недостаточен. Так что сразу начинаем искать/покупать/делать следующее: \\r\\n — Режущий инструмент — фрезы/граверы и боры \\r\\n — Дополнительные цанги к шпинделю \\r\\n — Крепеж для стола \\r\\n — Систему изоляции и/или удаления стружки \\r\\nИ да, сразу оговорюсь: данная статья касается домашних фрезеров со шпинделями типа Kress или китайчонками с цангой Er11, поэтому во-первых предположим, что хвостовик фрезы у нас цилиндрический до 6 мм (у Кресса есть 8, но нормальной его работу с 8кой не назо...  ...      NaN\n",
              "1  Кто хоть раз тестировал свой WebAPI знает такие инструемнты, как Postman или Advanced REST (экстеншены для Chrome). Эти инструемнты всем удобны, кроме того, что не умеют сами узнавать какие модели принимает API, какие отдает и не предоставляет информацию обо всех возможных эндпоинтах. Это неудобство решает пакет Swashbuckle, который встраивает в проект генерацию Swagger спецификации и UI. Под катом коротко о том, как его прикрутить к проекту и некоторые детали относительно авторизации и работы с «перегруженными» эндпоинтами. Прикручиваем к Проекту \\r\\nSwashbuckle — это NuGet пакет, встраивающий в WebAPI автогенерацию информации об узлах в соответствии со спецификацией OpenAPI . Эта спецификация является, дефакто, стандартом, как некогда WSDL. Для установки, потребуется четыре простых шага. Устанавливаем из NuGet командой Install-Package Swashbuckle \\r\\n Включаем XML документацию в настройках проекта \\r\\n В файле SwaggerConfig.cs , который создаётся с установкой пакета, раскомментир...  ...      NaN\n",
              "2  Привет всем! Если вы пробовали Material Design Lite , вы должно быть заметили составной паттерн классов, которые он использует. Это бывает довольно удобно, когда имеешь дело с цветами фона или текста. \\r\\nЭто полный список классов, которые вы можете задать вашим элементам, пользуйтесь! Текстовый класс \\r\\n Фоновый класс \\r\\n Hex-значение \\r\\n .mdl-color-text--red \\r\\n .mdl-color--red \\r\\n #f44336 \\r\\n .mdl-color-text--red-50 \\r\\n .mdl-color--red-50 \\r\\n #ffebee \\r\\n .mdl-color-text--red-100 \\r\\n .mdl-color--red-100 \\r\\n #ffcdd2 \\r\\n .mdl-color-text--red-200 \\r\\n .mdl-color--red-200 \\r\\n #ef9a9a \\r\\n .mdl-color-text--red-300 \\r\\n .mdl-color--red-300 \\r\\n #e57373 \\r\\n .mdl-color-text--red-400 \\r\\n .mdl-color--red-400 \\r\\n #ef5350 \\r\\n .mdl-color-text--red-500 \\r\\n .mdl-color--red-500 \\r\\n #f44336 \\r\\n .mdl-color-text--red-600 \\r\\n .mdl-color--red-600 \\r\\n #e53935 \\r\\n .mdl-color-text--red-700 \\r\\n .mdl-color--red-700 \\r\\n #d32f2f \\r\\n .mdl-color-text--red-800 \\r\\n .mdl-color--red-800...  ...      NaN\n",
              "\n",
              "[3 rows x 6 columns]"
            ]
          },
          "metadata": {
            "tags": []
          },
          "execution_count": 36
        }
      ]
    },
    {
      "cell_type": "code",
      "metadata": {
        "id": "IYit5bx-h2Q_",
        "colab_type": "code",
        "colab": {}
      },
      "source": [
        "def evaluate(true_kws, predicted_kws):\n",
        "    assert len(true_kws) == len(predicted_kws)\n",
        "    \n",
        "    precisions = []\n",
        "    recalls = []\n",
        "    f1s = []\n",
        "    jaccards = []\n",
        "    \n",
        "    for i in range(len(true_kws)):\n",
        "        \n",
        "        true_kw = set(true_kws[i])\n",
        "        predicted_kw = set(predicted_kws[i])\n",
        "        \n",
        "        tp = len(true_kw & predicted_kw)\n",
        "        union = len(true_kw | predicted_kw)\n",
        "        fp = len(predicted_kw - true_kw)\n",
        "        fn = len(true_kw - predicted_kw)\n",
        "        \n",
        "        if (tp+fp) == 0:\n",
        "            prec = 0\n",
        "        else:\n",
        "            prec = tp / (tp + fp)\n",
        "        \n",
        "        if (tp+fn) == 0:\n",
        "            rec = 0\n",
        "        else:\n",
        "            rec = tp / (tp + fn)\n",
        "        if (prec+rec) == 0:\n",
        "            f1 = 0\n",
        "        else:\n",
        "            f1 = (2*(prec*rec))/(prec+rec)\n",
        "            \n",
        "        jac = tp / union\n",
        "        \n",
        "        precisions.append(prec)\n",
        "        recalls.append(rec)\n",
        "        f1s.append(f1)\n",
        "        jaccards.append(jac)\n",
        "    print('Precision - ', round(np.mean(precisions), 2))\n",
        "    print('Recall - ', round(np.mean(recalls), 2))\n",
        "    print('F1 - ', round(np.mean(f1s), 2))\n",
        "    print('Jaccard - ', round(np.mean(jaccards), 2))"
      ],
      "execution_count": 0,
      "outputs": []
    },
    {
      "cell_type": "code",
      "metadata": {
        "id": "4Vvq4gUjihhx",
        "colab_type": "code",
        "colab": {
          "base_uri": "https://localhost:8080/",
          "height": 85
        },
        "outputId": "5214ffd4-bb4e-418a-edea-18e19d0e3b65"
      },
      "source": [
        "evaluate(data['keywords'], data['keywords'])"
      ],
      "execution_count": 38,
      "outputs": [
        {
          "output_type": "stream",
          "text": [
            "Precision -  1.0\n",
            "Recall -  1.0\n",
            "F1 -  1.0\n",
            "Jaccard -  1.0\n"
          ],
          "name": "stdout"
        }
      ]
    },
    {
      "cell_type": "code",
      "metadata": {
        "id": "I8yZ20OLimO-",
        "colab_type": "code",
        "colab": {}
      },
      "source": [
        "from string import punctuation\n",
        "from nltk.corpus import stopwords\n",
        "punct = punctuation+'«»—…“”*№–'\n",
        "stops = set(stopwords.words('russian'))\n",
        "\n",
        "def normalize(text):\n",
        "    \n",
        "    words = [word.strip(punct) for word in text.lower().split()]\n",
        "    words = [morph.parse(word)[0] for word in words if word and word not in stops]\n",
        "    words = [word.normal_form for word in words if word.tag.POS == 'NOUN']\n",
        "\n",
        "    return words"
      ],
      "execution_count": 0,
      "outputs": []
    },
    {
      "cell_type": "code",
      "metadata": {
        "id": "F2QMZzedi02S",
        "colab_type": "code",
        "colab": {}
      },
      "source": [
        "data['content_norm'] = data['content'].apply(normalize)"
      ],
      "execution_count": 0,
      "outputs": []
    },
    {
      "cell_type": "code",
      "metadata": {
        "id": "hD-NgrVXi3Zx",
        "colab_type": "code",
        "colab": {}
      },
      "source": [
        "data['title_norm'] = data['title'].apply(normalize)"
      ],
      "execution_count": 0,
      "outputs": []
    },
    {
      "cell_type": "code",
      "metadata": {
        "id": "hLZsMNL7TEST",
        "colab_type": "code",
        "colab": {}
      },
      "source": [
        "data['content_norm_str'] = data['content_norm'].apply(' '.join)"
      ],
      "execution_count": 0,
      "outputs": []
    },
    {
      "cell_type": "code",
      "metadata": {
        "id": "4rx-sFWSi5NQ",
        "colab_type": "code",
        "colab": {}
      },
      "source": [
        "from itertools import combinations"
      ],
      "execution_count": 0,
      "outputs": []
    },
    {
      "cell_type": "code",
      "metadata": {
        "id": "HUGXC21HOhIz",
        "colab_type": "code",
        "colab": {}
      },
      "source": [
        "import networkx as nx"
      ],
      "execution_count": 0,
      "outputs": []
    },
    {
      "cell_type": "code",
      "metadata": {
        "id": "zNjrL9OSO3sD",
        "colab_type": "code",
        "colab": {}
      },
      "source": [
        "# Ну для начала попробую просто прибавить триграммы. И начну с того, что посмотрю, \n",
        "# что будет для биграммов на всех данных.\n",
        "tfidf = TfidfVectorizer(ngram_range=(1,2), min_df=5)"
      ],
      "execution_count": 0,
      "outputs": []
    },
    {
      "cell_type": "code",
      "metadata": {
        "id": "FSLiVrUsTNLb",
        "colab_type": "code",
        "colab": {
          "base_uri": "https://localhost:8080/",
          "height": 136
        },
        "outputId": "d325cd30-9103-4c82-ea37-c9aa84cadfec"
      },
      "source": [
        "tfidf.fit(data['content_norm_str'])"
      ],
      "execution_count": 53,
      "outputs": [
        {
          "output_type": "execute_result",
          "data": {
            "text/plain": [
              "TfidfVectorizer(analyzer='word', binary=False, decode_error='strict',\n",
              "                dtype=<class 'numpy.float64'>, encoding='utf-8',\n",
              "                input='content', lowercase=True, max_df=1.0, max_features=None,\n",
              "                min_df=5, ngram_range=(1, 2), norm='l2', preprocessor=None,\n",
              "                smooth_idf=True, stop_words=None, strip_accents=None,\n",
              "                sublinear_tf=False, token_pattern='(?u)\\\\b\\\\w\\\\w+\\\\b',\n",
              "                tokenizer=None, use_idf=True, vocabulary=None)"
            ]
          },
          "metadata": {
            "tags": []
          },
          "execution_count": 53
        }
      ]
    },
    {
      "cell_type": "code",
      "metadata": {
        "id": "6WyJKQ6MS6yp",
        "colab_type": "code",
        "colab": {}
      },
      "source": [
        "id2word = {i:word for i,word in enumerate(tfidf.get_feature_names())}"
      ],
      "execution_count": 0,
      "outputs": []
    },
    {
      "cell_type": "code",
      "metadata": {
        "id": "jwFgFlRJTtQW",
        "colab_type": "code",
        "colab": {}
      },
      "source": [
        "texts_vectors = tfidf.transform(data['content_norm_str'])"
      ],
      "execution_count": 0,
      "outputs": []
    },
    {
      "cell_type": "code",
      "metadata": {
        "id": "VVsy5FTCSHfF",
        "colab_type": "code",
        "colab": {}
      },
      "source": [
        "keywords = []\n",
        "\n",
        "for row in range(texts_vectors.shape[0]):\n",
        "    row_data = texts_vectors.getrow(row)\n",
        "    top_inds = row_data.toarray().argsort()[0,:-11:-1]\n",
        "    keywords.append([id2word[w] for w in top_inds])"
      ],
      "execution_count": 0,
      "outputs": []
    },
    {
      "cell_type": "code",
      "metadata": {
        "id": "C7rUjTm1Sr51",
        "colab_type": "code",
        "colab": {
          "base_uri": "https://localhost:8080/",
          "height": 85
        },
        "outputId": "f2ed2aa1-0888-4f57-c02c-c843ad337573"
      },
      "source": [
        "evaluate(data['keywords'], keywords)"
      ],
      "execution_count": 58,
      "outputs": [
        {
          "output_type": "stream",
          "text": [
            "Precision -  0.09\n",
            "Recall -  0.12\n",
            "F1 -  0.09\n",
            "Jaccard -  0.05\n"
          ],
          "name": "stdout"
        }
      ]
    },
    {
      "cell_type": "code",
      "metadata": {
        "id": "baiMd2oAT8wN",
        "colab_type": "code",
        "colab": {
          "base_uri": "https://localhost:8080/",
          "height": 85
        },
        "outputId": "47bb7af4-b73e-4e88-c871-2b4144b5b9ee"
      },
      "source": [
        "#добавим триграммы\n",
        "tfidf = TfidfVectorizer(ngram_range=(1,3), min_df=5)\n",
        "tfidf.fit(data['content_norm_str'])\n",
        "id2word = {i:word for i,word in enumerate(tfidf.get_feature_names())}\n",
        "texts_vectors = tfidf.transform(data['content_norm_str'])\n",
        "\n",
        "keywords = []\n",
        "\n",
        "for row in range(texts_vectors.shape[0]):\n",
        "    row_data = texts_vectors.getrow(row)\n",
        "    top_inds = row_data.toarray().argsort()[0,:-11:-1]\n",
        "    keywords.append([id2word[w] for w in top_inds])\n",
        "\n",
        "evaluate(data['keywords'], keywords)"
      ],
      "execution_count": 60,
      "outputs": [
        {
          "output_type": "stream",
          "text": [
            "Precision -  0.09\n",
            "Recall -  0.12\n",
            "F1 -  0.09\n",
            "Jaccard -  0.05\n"
          ],
          "name": "stdout"
        }
      ]
    },
    {
      "cell_type": "code",
      "metadata": {
        "id": "75h_IidXUZX0",
        "colab_type": "code",
        "colab": {}
      },
      "source": [
        ""
      ],
      "execution_count": 0,
      "outputs": []
    }
  ]
}