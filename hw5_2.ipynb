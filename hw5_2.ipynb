{
  "nbformat": 4,
  "nbformat_minor": 0,
  "metadata": {
    "colab": {
      "name": "Untitled16.ipynb",
      "provenance": [],
      "authorship_tag": "ABX9TyNyPTPRDo4MP2cdnciXPQoK",
      "include_colab_link": true
    },
    "kernelspec": {
      "name": "python3",
      "display_name": "Python 3"
    }
  },
  "cells": [
    {
      "cell_type": "markdown",
      "metadata": {
        "id": "view-in-github",
        "colab_type": "text"
      },
      "source": [
        "<a href=\"https://colab.research.google.com/github/DmitryKutsev/hse_compling_homework/blob/master/hw5_2.ipynb\" target=\"_parent\"><img src=\"https://colab.research.google.com/assets/colab-badge.svg\" alt=\"Open In Colab\"/></a>"
      ]
    },
    {
      "cell_type": "code",
      "metadata": {
        "id": "ce1XGidma3xC",
        "colab_type": "code",
        "colab": {
          "base_uri": "https://localhost:8080/",
          "height": 102
        },
        "outputId": "7a5a7fcb-3ed0-40a4-bc53-6f310ba54e9c"
      },
      "source": [
        "\n",
        "!curl --remote-name \\\n",
        "     -H 'Accept: application/vnd.github.v3.raw' \\\n",
        "     --location https://github.com/mannefedov/compling_nlp_hse_course/blob/master/data/habr_texts.txt.zip?raw=true"
      ],
      "execution_count": 1,
      "outputs": [
        {
          "output_type": "stream",
          "text": [
            "  % Total    % Received % Xferd  Average Speed   Time    Time     Time  Current\n",
            "                                 Dload  Upload   Total   Spent    Left  Speed\n",
            "\r  0     0    0     0    0     0      0      0 --:--:-- --:--:-- --:--:--     0\r100   154    0   154    0     0    860      0 --:--:-- --:--:-- --:--:--   860\n",
            "100   165  100   165    0     0    587      0 --:--:-- --:--:-- --:--:--   587\n",
            "100 17.7M  100 17.7M    0     0  14.9M      0  0:00:01  0:00:01 --:--:-- 37.7M\n"
          ],
          "name": "stdout"
        }
      ]
    },
    {
      "cell_type": "code",
      "metadata": {
        "id": "wPVezxhfblll",
        "colab_type": "code",
        "colab": {}
      },
      "source": [
        "!mv 'habr_texts.txt.zip?raw=true' habr_texts.txt.zip\n",
        "import zipfile\n",
        "corpus = open('habr_texts.txt', 'w')\n",
        "with zipfile.ZipFile('habr_texts.txt.zip', 'r') as archive:\n",
        "    archive.extractall('')"
      ],
      "execution_count": 0,
      "outputs": []
    },
    {
      "cell_type": "code",
      "metadata": {
        "id": "4o5LR746b2LS",
        "colab_type": "code",
        "colab": {}
      },
      "source": [
        "!apt-get --yes install git make cmake build-essential libboost-all-dev"
      ],
      "execution_count": 0,
      "outputs": []
    }
  ]
}